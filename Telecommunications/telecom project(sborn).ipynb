{
 "cells": [
  {
   "cell_type": "markdown",
   "id": "f8edc30f",
   "metadata": {},
   "source": [
    "# Определение текущего уровня потребительской лояльности (NPS) в телекоммуникационной компании"
   ]
  },
  {
   "cell_type": "markdown",
   "id": "69ea7772",
   "metadata": {},
   "source": [
    "**Описание проекта**\n",
    "\n",
    "Заказчик этого исследования — большая телекоммуникационная компания, которая оказывает услуги на территории всего СНГ. Перед компанией стоит задача определить текущий уровень потребительской лояльности, или NPS (от англ. Net Promoter Score), среди клиентов из России. \n",
    "\n",
    "\n",
    "Чтобы определить уровень лояльности, клиентам задавали классический вопрос: «Оцените по шкале от 1 до 10 вероятность того, что вы порекомендуете компанию друзьям и знакомым».\n",
    "\n",
    "\n",
    "Чтобы оценить результаты опроса, оценки обычно делят на три группы:\n",
    "9-10 баллов — «cторонники» (англ. promoters);\n",
    "7-8 баллов — «нейтралы» (англ. passives);\n",
    "0-6 баллов — «критики» (англ. detractors).\n",
    "\n",
    "Итоговое значение NPS рассчитывается по формуле: % «сторонников» - % «критиков».\n",
    "\n",
    "Таким образом, значение этого показателя варьируется от -100% (когда все клиенты «критики») до 100% (когда все клиенты лояльны к сервису). Но это крайние случаи, которые редко встретишь на практике. \n",
    "\n",
    "Интерпретируя результаты NPS-опросов, следует также помнить, что само значение мало о чём говорит. Однако исследования показывают, что клиенты-сторонники полезны любому бизнесу. Они чаще других повторно совершают покупки, активнее тестируют обновления и приводят в сервис своих друзей и знакомых. Поэтому NPS остаётся одной из важнейших метрик бизнеса. \n"
   ]
  },
  {
   "cell_type": "markdown",
   "id": "4e26926a",
   "metadata": {},
   "source": [
    "**Цели и задачи проекта**\n",
    "\n",
    "Цель проекта - визуализировать результаты опроса телекоммуникационной компании в виде дашборда.\n",
    "\n",
    "Задачи проекта:\n",
    "\n",
    "1. Полключиться к базе данных\n",
    "2. Выгрузить данные с помощью SQL-запроса\n",
    "3. Провести обработку данных и исследовательский анализ в Tableau\n",
    "4. Составить подходящие визуализации \n",
    "5. Завершить анализ созданием дашборда"
   ]
  },
  {
   "cell_type": "code",
   "execution_count": 14,
   "id": "fc7efa54",
   "metadata": {},
   "outputs": [],
   "source": [
    "# импортируем библиотеки\n",
    "import os\n",
    "import pandas as pd\n",
    "import numpy as np\n",
    "\n",
    "from sqlalchemy import create_engine"
   ]
  },
  {
   "cell_type": "code",
   "execution_count": 15,
   "id": "0017f8e7",
   "metadata": {},
   "outputs": [],
   "source": [
    "path_to_db_local = 'telecomm_csi.db'\n",
    "path_to_db_platform = '/datasets/telecomm_csi.db'\n",
    "path_to_db = None\n",
    "\n",
    "if os.path.exists(path_to_db_local):\n",
    "    path_to_db = path_to_db_local\n",
    "elif os.path.exists(path_to_db_platform):\n",
    "    path_to_db = path_to_db_platform\n",
    "else:\n",
    "    raise Exception('Файл с базой данных SQLite не найден!')\n",
    "\n",
    "if path_to_db:\n",
    "    engine = create_engine(f'sqlite:///{path_to_db}', echo=False)"
   ]
  },
  {
   "cell_type": "code",
   "execution_count": 16,
   "id": "84ebad43",
   "metadata": {},
   "outputs": [],
   "source": [
    "query = \"\"\"\n",
    "SELECT \n",
    "    u.user_id,\n",
    "    u.lt_day,\n",
    "    CASE \n",
    "        WHEN u.lt_day <= 365 THEN 1\n",
    "        ELSE 0\n",
    "    END AS is_new,\n",
    "    u.age,\n",
    "    CASE \n",
    "        WHEN gender_segment = 1 THEN 'Female'\n",
    "        WHEN gender_segment = 0 THEN 'Male'\n",
    "        ELSE 'Unknown'\n",
    "    END AS gender_segment,\n",
    "    u.os_name,\n",
    "    u.cpe_type_name,\n",
    "    l.country,\n",
    "    l.city,\n",
    "    a.title AS age_segment,\n",
    "    t.title AS traffic_segment,\n",
    "    lt.title AS lifetime_segment,\n",
    "    u.nps_score,\n",
    "    CASE \n",
    "        WHEN u.nps_score >= 9 THEN 'promoter'\n",
    "        WHEN u.nps_score >= 7 THEN 'passive'\n",
    "        ELSE 'detractor'\n",
    "    END AS nps_group\n",
    "FROM user u\n",
    "JOIN location l ON u.location_id = l.location_id\n",
    "JOIN age_segment a ON u.age_gr_id = a.age_gr_id\n",
    "JOIN traffic_segment t ON u.tr_gr_id = t.tr_gr_id\n",
    "JOIN lifetime_segment lt ON u.lt_gr_id = lt.lt_gr_id;\n",
    "\n",
    "\"\"\""
   ]
  },
  {
   "cell_type": "code",
   "execution_count": 17,
   "id": "93641888",
   "metadata": {},
   "outputs": [
    {
     "data": {
      "text/html": [
       "<div>\n",
       "<style scoped>\n",
       "    .dataframe tbody tr th:only-of-type {\n",
       "        vertical-align: middle;\n",
       "    }\n",
       "\n",
       "    .dataframe tbody tr th {\n",
       "        vertical-align: top;\n",
       "    }\n",
       "\n",
       "    .dataframe thead th {\n",
       "        text-align: right;\n",
       "    }\n",
       "</style>\n",
       "<table border=\"1\" class=\"dataframe\">\n",
       "  <thead>\n",
       "    <tr style=\"text-align: right;\">\n",
       "      <th></th>\n",
       "      <th>user_id</th>\n",
       "      <th>lt_day</th>\n",
       "      <th>is_new</th>\n",
       "      <th>age</th>\n",
       "      <th>gender_segment</th>\n",
       "      <th>os_name</th>\n",
       "      <th>cpe_type_name</th>\n",
       "      <th>country</th>\n",
       "      <th>city</th>\n",
       "      <th>age_segment</th>\n",
       "      <th>traffic_segment</th>\n",
       "      <th>lifetime_segment</th>\n",
       "      <th>nps_score</th>\n",
       "      <th>nps_group</th>\n",
       "    </tr>\n",
       "  </thead>\n",
       "  <tbody>\n",
       "    <tr>\n",
       "      <th>0</th>\n",
       "      <td>A001A2</td>\n",
       "      <td>2320</td>\n",
       "      <td>0</td>\n",
       "      <td>45.0</td>\n",
       "      <td>Female</td>\n",
       "      <td>ANDROID</td>\n",
       "      <td>SMARTPHONE</td>\n",
       "      <td>Россия</td>\n",
       "      <td>Уфа</td>\n",
       "      <td>05 45-54</td>\n",
       "      <td>04 1-5</td>\n",
       "      <td>08 36+</td>\n",
       "      <td>10</td>\n",
       "      <td>promoter</td>\n",
       "    </tr>\n",
       "    <tr>\n",
       "      <th>1</th>\n",
       "      <td>A001WF</td>\n",
       "      <td>2344</td>\n",
       "      <td>0</td>\n",
       "      <td>53.0</td>\n",
       "      <td>Male</td>\n",
       "      <td>ANDROID</td>\n",
       "      <td>SMARTPHONE</td>\n",
       "      <td>Россия</td>\n",
       "      <td>Киров</td>\n",
       "      <td>05 45-54</td>\n",
       "      <td>04 1-5</td>\n",
       "      <td>08 36+</td>\n",
       "      <td>10</td>\n",
       "      <td>promoter</td>\n",
       "    </tr>\n",
       "    <tr>\n",
       "      <th>2</th>\n",
       "      <td>A003Q7</td>\n",
       "      <td>467</td>\n",
       "      <td>0</td>\n",
       "      <td>57.0</td>\n",
       "      <td>Male</td>\n",
       "      <td>ANDROID</td>\n",
       "      <td>SMARTPHONE</td>\n",
       "      <td>Россия</td>\n",
       "      <td>Москва</td>\n",
       "      <td>06 55-64</td>\n",
       "      <td>08 20-25</td>\n",
       "      <td>06 13-24</td>\n",
       "      <td>10</td>\n",
       "      <td>promoter</td>\n",
       "    </tr>\n",
       "  </tbody>\n",
       "</table>\n",
       "</div>"
      ],
      "text/plain": [
       "  user_id  lt_day  is_new   age gender_segment  os_name cpe_type_name country  \\\n",
       "0  A001A2    2320       0  45.0         Female  ANDROID    SMARTPHONE  Россия   \n",
       "1  A001WF    2344       0  53.0           Male  ANDROID    SMARTPHONE  Россия   \n",
       "2  A003Q7     467       0  57.0           Male  ANDROID    SMARTPHONE  Россия   \n",
       "\n",
       "     city age_segment traffic_segment lifetime_segment  nps_score nps_group  \n",
       "0     Уфа    05 45-54          04 1-5           08 36+         10  promoter  \n",
       "1   Киров    05 45-54          04 1-5           08 36+         10  promoter  \n",
       "2  Москва    06 55-64        08 20-25         06 13-24         10  promoter  "
      ]
     },
     "execution_count": 17,
     "metadata": {},
     "output_type": "execute_result"
    }
   ],
   "source": [
    "df = pd.read_sql(query, engine)\n",
    "df.head(3)"
   ]
  },
  {
   "cell_type": "code",
   "execution_count": 18,
   "id": "61e18f99",
   "metadata": {},
   "outputs": [
    {
     "name": "stdout",
     "output_type": "stream",
     "text": [
      "<class 'pandas.core.frame.DataFrame'>\n",
      "RangeIndex: 502493 entries, 0 to 502492\n",
      "Data columns (total 14 columns):\n",
      " #   Column            Non-Null Count   Dtype  \n",
      "---  ------            --------------   -----  \n",
      " 0   user_id           502493 non-null  object \n",
      " 1   lt_day            502493 non-null  int64  \n",
      " 2   is_new            502493 non-null  int64  \n",
      " 3   age               501939 non-null  float64\n",
      " 4   gender_segment    502493 non-null  object \n",
      " 5   os_name           502493 non-null  object \n",
      " 6   cpe_type_name     502493 non-null  object \n",
      " 7   country           502493 non-null  object \n",
      " 8   city              502493 non-null  object \n",
      " 9   age_segment       502493 non-null  object \n",
      " 10  traffic_segment   502493 non-null  object \n",
      " 11  lifetime_segment  502493 non-null  object \n",
      " 12  nps_score         502493 non-null  int64  \n",
      " 13  nps_group         502493 non-null  object \n",
      "dtypes: float64(1), int64(3), object(10)\n",
      "memory usage: 53.7+ MB\n"
     ]
    }
   ],
   "source": [
    "# изучим датафрейм\n",
    "df.info()"
   ]
  },
  {
   "cell_type": "code",
   "execution_count": 19,
   "id": "258b81a9",
   "metadata": {},
   "outputs": [
    {
     "data": {
      "text/html": [
       "<div>\n",
       "<style scoped>\n",
       "    .dataframe tbody tr th:only-of-type {\n",
       "        vertical-align: middle;\n",
       "    }\n",
       "\n",
       "    .dataframe tbody tr th {\n",
       "        vertical-align: top;\n",
       "    }\n",
       "\n",
       "    .dataframe thead th {\n",
       "        text-align: right;\n",
       "    }\n",
       "</style>\n",
       "<table border=\"1\" class=\"dataframe\">\n",
       "  <thead>\n",
       "    <tr style=\"text-align: right;\">\n",
       "      <th></th>\n",
       "      <th>lt_day</th>\n",
       "      <th>is_new</th>\n",
       "      <th>age</th>\n",
       "      <th>nps_score</th>\n",
       "    </tr>\n",
       "  </thead>\n",
       "  <tbody>\n",
       "    <tr>\n",
       "      <th>count</th>\n",
       "      <td>502493.000000</td>\n",
       "      <td>502493.000000</td>\n",
       "      <td>501939.000000</td>\n",
       "      <td>502493.000000</td>\n",
       "    </tr>\n",
       "    <tr>\n",
       "      <th>mean</th>\n",
       "      <td>1868.841439</td>\n",
       "      <td>0.171346</td>\n",
       "      <td>39.621946</td>\n",
       "      <td>7.508562</td>\n",
       "    </tr>\n",
       "    <tr>\n",
       "      <th>std</th>\n",
       "      <td>1683.701762</td>\n",
       "      <td>0.376811</td>\n",
       "      <td>11.188249</td>\n",
       "      <td>3.020378</td>\n",
       "    </tr>\n",
       "    <tr>\n",
       "      <th>min</th>\n",
       "      <td>-21.000000</td>\n",
       "      <td>0.000000</td>\n",
       "      <td>10.000000</td>\n",
       "      <td>1.000000</td>\n",
       "    </tr>\n",
       "    <tr>\n",
       "      <th>25%</th>\n",
       "      <td>533.000000</td>\n",
       "      <td>0.000000</td>\n",
       "      <td>31.000000</td>\n",
       "      <td>5.000000</td>\n",
       "    </tr>\n",
       "    <tr>\n",
       "      <th>50%</th>\n",
       "      <td>1239.000000</td>\n",
       "      <td>0.000000</td>\n",
       "      <td>38.000000</td>\n",
       "      <td>9.000000</td>\n",
       "    </tr>\n",
       "    <tr>\n",
       "      <th>75%</th>\n",
       "      <td>3064.000000</td>\n",
       "      <td>0.000000</td>\n",
       "      <td>47.000000</td>\n",
       "      <td>10.000000</td>\n",
       "    </tr>\n",
       "    <tr>\n",
       "      <th>max</th>\n",
       "      <td>9162.000000</td>\n",
       "      <td>1.000000</td>\n",
       "      <td>89.000000</td>\n",
       "      <td>10.000000</td>\n",
       "    </tr>\n",
       "  </tbody>\n",
       "</table>\n",
       "</div>"
      ],
      "text/plain": [
       "              lt_day         is_new            age      nps_score\n",
       "count  502493.000000  502493.000000  501939.000000  502493.000000\n",
       "mean     1868.841439       0.171346      39.621946       7.508562\n",
       "std      1683.701762       0.376811      11.188249       3.020378\n",
       "min       -21.000000       0.000000      10.000000       1.000000\n",
       "25%       533.000000       0.000000      31.000000       5.000000\n",
       "50%      1239.000000       0.000000      38.000000       9.000000\n",
       "75%      3064.000000       0.000000      47.000000      10.000000\n",
       "max      9162.000000       1.000000      89.000000      10.000000"
      ]
     },
     "execution_count": 19,
     "metadata": {},
     "output_type": "execute_result"
    }
   ],
   "source": [
    "# изучим датафрейм\n",
    "df.describe()"
   ]
  },
  {
   "cell_type": "markdown",
   "id": "eb57d057",
   "metadata": {},
   "source": [
    "В данных 14 колонок, 502493 строк. \n",
    "\n",
    "Типы данных: float64(1), int64(3), object(10)\n",
    "\n",
    "Память: 53.7+ MB"
   ]
  },
  {
   "cell_type": "code",
   "execution_count": 20,
   "id": "5c69438a",
   "metadata": {},
   "outputs": [
    {
     "name": "stdout",
     "output_type": "stream",
     "text": [
      "File saved successfully to filename.csv\n"
     ]
    }
   ],
   "source": [
    "file_path = 'filename.csv'\n",
    "\n",
    "try:\n",
    "    df.to_csv(file_path, index=False)\n",
    "    print(f\"File saved successfully to {file_path}\")\n",
    "except FileNotFoundError:\n",
    "    print(\"File path is incorrect or directories do not exist.\")\n",
    "except PermissionError:\n",
    "    print(\"Permission denied. Check your write permissions.\")\n",
    "except Exception as e:\n",
    "    print(f\"An error occurred: {e}\")\n"
   ]
  }
 ],
 "metadata": {
  "ExecuteTimeLog": [
   {
    "duration": 519,
    "start_time": "2024-06-25T12:29:06.988Z"
   },
   {
    "duration": 77,
    "start_time": "2024-06-25T12:29:07.508Z"
   },
   {
    "duration": 3,
    "start_time": "2024-06-25T12:29:10.018Z"
   },
   {
    "duration": 4839,
    "start_time": "2024-06-25T12:29:11.769Z"
   },
   {
    "duration": 4402,
    "start_time": "2024-06-25T12:32:37.426Z"
   },
   {
    "duration": 4438,
    "start_time": "2024-06-25T12:32:51.051Z"
   },
   {
    "duration": 4,
    "start_time": "2024-06-25T12:33:00.148Z"
   },
   {
    "duration": 966,
    "start_time": "2024-06-25T12:37:53.345Z"
   },
   {
    "duration": 66,
    "start_time": "2024-06-25T12:38:01.542Z"
   },
   {
    "duration": 98,
    "start_time": "2024-06-25T12:39:32.323Z"
   },
   {
    "duration": 44,
    "start_time": "2024-06-25T12:40:02.189Z"
   },
   {
    "duration": 4510,
    "start_time": "2024-06-25T12:40:02.234Z"
   },
   {
    "duration": 3902,
    "start_time": "2024-06-25T12:43:11.480Z"
   },
   {
    "duration": 483,
    "start_time": "2024-06-25T12:49:09.729Z"
   },
   {
    "duration": 59,
    "start_time": "2024-06-25T12:49:10.214Z"
   },
   {
    "duration": 3,
    "start_time": "2024-06-25T12:49:10.274Z"
   },
   {
    "duration": 4580,
    "start_time": "2024-06-25T12:49:10.279Z"
   },
   {
    "duration": 4533,
    "start_time": "2024-06-25T12:49:14.860Z"
   },
   {
    "duration": 41,
    "start_time": "2024-07-11T15:27:23.971Z"
   },
   {
    "duration": 464,
    "start_time": "2024-07-11T15:27:26.797Z"
   },
   {
    "duration": 459,
    "start_time": "2024-07-11T15:27:27.294Z"
   },
   {
    "duration": 3,
    "start_time": "2024-07-11T15:27:27.755Z"
   },
   {
    "duration": 4233,
    "start_time": "2024-07-11T15:27:27.759Z"
   },
   {
    "duration": 37,
    "start_time": "2024-07-11T15:27:31.993Z"
   },
   {
    "duration": 9,
    "start_time": "2024-07-11T15:30:07.463Z"
   },
   {
    "duration": 9,
    "start_time": "2024-07-11T15:30:18.167Z"
   },
   {
    "duration": 12,
    "start_time": "2024-07-11T15:30:24.592Z"
   },
   {
    "duration": 12,
    "start_time": "2024-07-11T15:33:02.281Z"
   },
   {
    "duration": 10,
    "start_time": "2024-07-11T15:34:19.392Z"
   },
   {
    "duration": 9,
    "start_time": "2024-07-11T15:38:11.536Z"
   },
   {
    "duration": 11,
    "start_time": "2024-07-11T15:39:54.585Z"
   },
   {
    "duration": 5,
    "start_time": "2024-07-11T15:42:00.021Z"
   },
   {
    "duration": 3,
    "start_time": "2024-07-11T15:42:41.234Z"
   },
   {
    "duration": 3,
    "start_time": "2024-07-11T15:42:46.422Z"
   },
   {
    "duration": 5,
    "start_time": "2024-07-11T15:43:25.785Z"
   },
   {
    "duration": 5,
    "start_time": "2024-07-11T15:44:03.153Z"
   },
   {
    "duration": 3,
    "start_time": "2024-07-11T15:45:40.043Z"
   },
   {
    "duration": 10,
    "start_time": "2024-07-11T15:47:11.759Z"
   },
   {
    "duration": 37,
    "start_time": "2024-07-11T15:47:22.672Z"
   },
   {
    "duration": 4,
    "start_time": "2024-07-11T15:47:45.809Z"
   },
   {
    "duration": 4,
    "start_time": "2024-07-11T15:49:24.635Z"
   },
   {
    "duration": 4,
    "start_time": "2024-07-11T15:49:31.458Z"
   },
   {
    "duration": 3,
    "start_time": "2024-07-11T15:49:44.618Z"
   },
   {
    "duration": 12,
    "start_time": "2024-07-11T15:49:59.336Z"
   },
   {
    "duration": 9,
    "start_time": "2024-07-11T15:51:38.995Z"
   },
   {
    "duration": 9,
    "start_time": "2024-07-11T15:53:54.209Z"
   },
   {
    "duration": 10,
    "start_time": "2024-07-11T15:57:18.687Z"
   },
   {
    "duration": 6,
    "start_time": "2024-07-11T15:58:10.873Z"
   },
   {
    "duration": 11,
    "start_time": "2024-07-11T16:00:40.282Z"
   },
   {
    "duration": 3,
    "start_time": "2024-07-11T16:02:14.668Z"
   },
   {
    "duration": 3,
    "start_time": "2024-07-11T16:07:09.964Z"
   },
   {
    "duration": 47,
    "start_time": "2024-07-11T16:07:10.667Z"
   },
   {
    "duration": 3,
    "start_time": "2024-07-11T16:07:11.249Z"
   },
   {
    "duration": 4248,
    "start_time": "2024-07-11T16:07:11.876Z"
   },
   {
    "duration": 4,
    "start_time": "2024-07-11T16:07:16.126Z"
   },
   {
    "duration": 3523,
    "start_time": "2024-07-11T16:08:25.140Z"
   },
   {
    "duration": 520,
    "start_time": "2024-07-24T08:38:15.241Z"
   },
   {
    "duration": 73,
    "start_time": "2024-07-24T08:38:16.641Z"
   },
   {
    "duration": 3,
    "start_time": "2024-07-24T08:38:22.537Z"
   },
   {
    "duration": 2082,
    "start_time": "2024-07-24T08:38:27.422Z"
   },
   {
    "duration": 3,
    "start_time": "2024-07-24T08:38:53.442Z"
   },
   {
    "duration": 55,
    "start_time": "2024-07-24T08:38:53.997Z"
   },
   {
    "duration": 3,
    "start_time": "2024-07-24T08:38:54.706Z"
   },
   {
    "duration": 5071,
    "start_time": "2024-07-24T08:38:58.165Z"
   },
   {
    "duration": 110,
    "start_time": "2024-07-24T08:39:23.588Z"
   },
   {
    "duration": 11,
    "start_time": "2024-07-24T08:40:30.776Z"
   },
   {
    "duration": 412,
    "start_time": "2024-07-24T08:40:32.476Z"
   },
   {
    "duration": 444,
    "start_time": "2024-07-24T08:41:02.230Z"
   },
   {
    "duration": 80,
    "start_time": "2024-07-24T08:41:19.428Z"
   },
   {
    "duration": 2,
    "start_time": "2024-07-24T08:44:39.436Z"
   },
   {
    "duration": 59,
    "start_time": "2024-07-24T08:44:40.507Z"
   },
   {
    "duration": 3,
    "start_time": "2024-07-24T08:44:42.201Z"
   },
   {
    "duration": 4895,
    "start_time": "2024-07-24T08:44:45.071Z"
   },
   {
    "duration": 417,
    "start_time": "2024-07-24T08:44:56.114Z"
   },
   {
    "duration": 81,
    "start_time": "2024-07-24T08:44:57.247Z"
   },
   {
    "duration": 4257,
    "start_time": "2024-07-24T08:45:08.720Z"
   },
   {
    "duration": 62,
    "start_time": "2024-07-24T09:29:20.690Z"
   }
  ],
  "kernelspec": {
   "display_name": "Python 3 (ipykernel)",
   "language": "python",
   "name": "python3"
  },
  "language_info": {
   "codemirror_mode": {
    "name": "ipython",
    "version": 3
   },
   "file_extension": ".py",
   "mimetype": "text/x-python",
   "name": "python",
   "nbconvert_exporter": "python",
   "pygments_lexer": "ipython3",
   "version": "3.11.5"
  },
  "toc": {
   "base_numbering": 1,
   "nav_menu": {},
   "number_sections": true,
   "sideBar": true,
   "skip_h1_title": true,
   "title_cell": "Table of Contents",
   "title_sidebar": "Contents",
   "toc_cell": false,
   "toc_position": {},
   "toc_section_display": true,
   "toc_window_display": false
  }
 },
 "nbformat": 4,
 "nbformat_minor": 5
}
