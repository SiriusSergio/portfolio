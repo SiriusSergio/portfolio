{
 "cells": [
  {
   "cell_type": "markdown",
   "id": "b675b117",
   "metadata": {
    "toc": true
   },
   "source": [
    "<h1>Содержание<span class=\"tocSkip\"></span></h1>\n",
    "<div class=\"toc\"><ul class=\"toc-item\"><li><span><a href=\"#Предобработка-данных\" data-toc-modified-id=\"Предобработка-данных-1\"><span class=\"toc-item-num\">1&nbsp;&nbsp;</span>Предобработка данных</a></span></li><li><span><a href=\"#Исследовательский-анализ-данных\" data-toc-modified-id=\"Исследовательский-анализ-данных-2\"><span class=\"toc-item-num\">2&nbsp;&nbsp;</span>Исследовательский анализ данных</a></span><ul class=\"toc-item\"><li><span><a href=\"#Определение-доли-грейдов-Junior,-Junior+,-Middle,-Senior\" data-toc-modified-id=\"Определение-доли-грейдов-Junior,-Junior+,-Middle,-Senior-2.1\"><span class=\"toc-item-num\">2.1&nbsp;&nbsp;</span>Определение доли грейдов Junior, Junior+, Middle, Senior</a></span></li><li><span><a href=\"#Распределение-вакансий-по-регионам,-зарплатным-вилкам,-требованиям-к-навыкам-и-опыту\" data-toc-modified-id=\"Распределение-вакансий-по-регионам,-зарплатным-вилкам,-требованиям-к-навыкам-и-опыту-2.2\"><span class=\"toc-item-num\">2.2&nbsp;&nbsp;</span>Распределение вакансий по регионам, зарплатным вилкам, требованиям к навыкам и опыту</a></span><ul class=\"toc-item\"><li><span><a href=\"#Как-распределяются-вакансии-для-аналитиков-данных-и-инженеров-данных-по-регионам?\" data-toc-modified-id=\"Как-распределяются-вакансии-для-аналитиков-данных-и-инженеров-данных-по-регионам?-2.2.1\"><span class=\"toc-item-num\">2.2.1&nbsp;&nbsp;</span><strong>Как распределяются вакансии для аналитиков данных и инженеров данных по регионам?</strong></a></span></li><li><span><a href=\"#Какие-зарплатные-вилки-характерны-для-каждой-профессии-в-различных-регионах?\" data-toc-modified-id=\"Какие-зарплатные-вилки-характерны-для-каждой-профессии-в-различных-регионах?-2.2.2\"><span class=\"toc-item-num\">2.2.2&nbsp;&nbsp;</span><strong>Какие зарплатные вилки характерны для каждой профессии в различных регионах?</strong></a></span></li><li><span><a href=\"#Как-распределяются-вакансии-для-аналитиков-данных-и-инженеров-данных-по-навыкам?\" data-toc-modified-id=\"Как-распределяются-вакансии-для-аналитиков-данных-и-инженеров-данных-по-навыкам?-2.2.3\"><span class=\"toc-item-num\">2.2.3&nbsp;&nbsp;</span><strong>Как распределяются вакансии для аналитиков данных и инженеров данных по навыкам?</strong></a></span></li><li><span><a href=\"#Как-распределяются-вакансии-для-аналитиков-данных-и-инженеров-данных-по-опыту?\" data-toc-modified-id=\"Как-распределяются-вакансии-для-аналитиков-данных-и-инженеров-данных-по-опыту?-2.2.4\"><span class=\"toc-item-num\">2.2.4&nbsp;&nbsp;</span><strong>Как распределяются вакансии для аналитиков данных и инженеров данных по опыту?</strong></a></span></li></ul></li><li><span><a href=\"#Изучение-изменений-количества-вакансий-с-течением-времени.\" data-toc-modified-id=\"Изучение-изменений-количества-вакансий-с-течением-времени.-2.3\"><span class=\"toc-item-num\">2.3&nbsp;&nbsp;</span>Изучение изменений количества вакансий с течением времени.</a></span></li><li><span><a href=\"#Анализ-типичных-мест-работы-для-обеих-специальностей(в-разрезе-грейдов):\" data-toc-modified-id=\"Анализ-типичных-мест-работы-для-обеих-специальностей(в-разрезе-грейдов):-2.4\"><span class=\"toc-item-num\">2.4&nbsp;&nbsp;</span>Анализ типичных мест работы для обеих специальностей(в разрезе грейдов):</a></span></li><li><span><a href=\"#Определение-наиболее-желаемых-кандидатов-по-следующим-параметрам(в-разрезе-грейдов):\" data-toc-modified-id=\"Определение-наиболее-желаемых-кандидатов-по-следующим-параметрам(в-разрезе-грейдов):-2.5\"><span class=\"toc-item-num\">2.5&nbsp;&nbsp;</span>Определение наиболее желаемых кандидатов по следующим параметрам(в разрезе грейдов):</a></span></li></ul></li><li><span><a href=\"#Выводы-и-рекомендации\" data-toc-modified-id=\"Выводы-и-рекомендации-3\"><span class=\"toc-item-num\">3&nbsp;&nbsp;</span>Выводы и рекомендации</a></span><ul class=\"toc-item\"><li><span><a href=\"#Выводы\" data-toc-modified-id=\"Выводы-3.1\"><span class=\"toc-item-num\">3.1&nbsp;&nbsp;</span>Выводы</a></span><ul class=\"toc-item\"><li><span><a href=\"#Популярные-навыки-для-аналитиков-данных-и-инженеров-данных:\" data-toc-modified-id=\"Популярные-навыки-для-аналитиков-данных-и-инженеров-данных:-3.1.1\"><span class=\"toc-item-num\">3.1.1&nbsp;&nbsp;</span>Популярные навыки для аналитиков данных и инженеров данных:</a></span></li><li><span><a href=\"#Разброс-зарплат:\" data-toc-modified-id=\"Разброс-зарплат:-3.1.2\"><span class=\"toc-item-num\">3.1.2&nbsp;&nbsp;</span>Разброс зарплат:</a></span></li><li><span><a href=\"#Формат-работы-и-тип-занятости:\" data-toc-modified-id=\"Формат-работы-и-тип-занятости:-3.1.3\"><span class=\"toc-item-num\">3.1.3&nbsp;&nbsp;</span>Формат работы и тип занятости:</a></span></li><li><span><a href=\"#Географическое-распределение:\" data-toc-modified-id=\"Географическое-распределение:-3.1.4\"><span class=\"toc-item-num\">3.1.4&nbsp;&nbsp;</span>Географическое распределение:</a></span></li></ul></li><li><span><a href=\"#Рекомендации\" data-toc-modified-id=\"Рекомендации-3.2\"><span class=\"toc-item-num\">3.2&nbsp;&nbsp;</span>Рекомендации</a></span><ul class=\"toc-item\"><li><span><a href=\"#Соискателям:\" data-toc-modified-id=\"Соискателям:-3.2.1\"><span class=\"toc-item-num\">3.2.1&nbsp;&nbsp;</span>Соискателям:</a></span></li><li><span><a href=\"#Работодателям:\" data-toc-modified-id=\"Работодателям:-3.2.2\"><span class=\"toc-item-num\">3.2.2&nbsp;&nbsp;</span>Работодателям:</a></span></li><li><span><a href=\"#Разработчикам-образовательных-программ:\" data-toc-modified-id=\"Разработчикам-образовательных-программ:-3.2.3\"><span class=\"toc-item-num\">3.2.3&nbsp;&nbsp;</span>Разработчикам образовательных программ:</a></span></li><li><span><a href=\"#Исследователям-рынка-труда:\" data-toc-modified-id=\"Исследователям-рынка-труда:-3.2.4\"><span class=\"toc-item-num\">3.2.4&nbsp;&nbsp;</span>Исследователям рынка труда:</a></span></li></ul></li></ul></li></ul></div>"
   ]
  },
  {
   "cell_type": "markdown",
   "id": "f5808674",
   "metadata": {},
   "source": [
    "# Пет-проект: Анализ вакансий аналитиков данных и инженеров данных на hh.ru\n",
    "\n",
    "# Описание проекта\n",
    "Проект посвящен исследованию вакансий с hh.ru **для выявления различий в требованиях и предложениях для двух востребованных профессий: **Аналитик данных** и **Инженер данных****. Мы будем работать с предоставленными данными, анализировать основные паттерны и разрабатывать рекомендации для кандидатов, планирующих строить карьеру в этих направлениях.\n",
    "\n",
    "# Цель проекта\n",
    "Определить ключевые различия в вакансиях для аналитиков данных и инженеров данных, чтобы помочь кандидатам лучше понимать требования рынка и более эффективно планировать свою карьеру.\n",
    "\n",
    "# Задачи\n",
    "1. **Сбор данных**\n",
    "\n",
    "2. **Предобработка данных**\n",
    "\n",
    "3. **Исследовательский анализ данных (EDA)**\n",
    "   \n",
    "4. **Формулирование выводов и рекомендаций**\n",
    "\n",
    "5. **Подготовка презентации**\n",
    "\n",
    "# Проблема\n",
    "Рынок труда для аналитиков и инженеров данных растет стремительными темпами. Однако требования к этим профессиям могут значительно различаться. Понимание этих различий поможет кандидатам более точно определять свою карьерную стратегию и эффективно искать работу.\n",
    "\n",
    "# Актуальность\n",
    "В современных условиях, когда работа с данными является одной из самых востребованных сфер, понимание специфики профессий на уровне вакансий важно как для новичков, так и для опытных специалистов. Это позволит лучше адаптироваться к рынку и повысить свою конкурентоспособность.\n",
    "\n",
    "<a id='plan'></a>\n",
    "# Шаги решения\n",
    "1. [**Предобработка данных**](#download_data) :\n",
    "   - Загрузка и первичный осмотр.\n",
    "   - Обработка пропущенных значений и удаление дубликатов.\n",
    "\n",
    "2. [**Исследовательский анализ данных**](#exploratory_analysis)\n",
    "\n",
    "   - [Определение доли грейдов Junior, Junior+, Middle, Senior](#ratio)\n",
    "   - [Распределение вакансий по регионам, зарплатным вилкам, графику работы, требованиям к навыкам и опыту.](#distribution)\n",
    "   - [Изучение изменений количества вакансий с течением времени.](#time)\n",
    "   - [Анализ типичных мест работы для обеих специальностей(в разрезе грейдов)](#job):\n",
    "       - по следующим параметрам: ТОП-работодателей, зарплата, тип занятости, график работы\n",
    "   - [Определение наиболее желаемых кандидатов(в разрезе грейдов)](#candidate): \n",
    "       - по следующим параметрам: самые важные hard-skils, самые важные soft-skils.\n",
    "              \n",
    "3. [**Выводы и рекомендации**](#conclusion):\n",
    "\n",
    "---\n",
    "# Описание полей в данных\n",
    "+ id - Уникальный идентификатор вакансии.\n",
    "+ name - Название вакансии.\n",
    "+ published_at - Дата публикации.\n",
    "+ alternate_url - Ссылка на вакансию.\n",
    "+ type - Статус вакансии на момент получения данных от api и передачи их в базу.\n",
    "+ employer - Работодатель.\n",
    "+ department - Работодатель, отдел.\n",
    "+ area - Регион места работы.\n",
    "+ experience - Требуемый опыт работы.\n",
    "+ key_skills - Ключевые навыки, в том числе найденные при анализе полного текста вакансии. Поле генерируется после получения информации от api.\n",
    "+ schedule - График работы.\n",
    "+ employment - Тип занятости.\n",
    "+ description - Описание вакансии.\n",
    "+ description_lemmatized - Лемматизированное описание вакансии.\n",
    "+ salary_from - Нижняя граница предлагаемой заработной платы.\n",
    "+ salary_to - Верхняя граница предлагаемой заработной платы.\n",
    "+ salary_bin - Категория зарплаты.\n",
    "+ key_skills_from_key_skills_field - Ключевые навыки из поля вакансии key_skills.\n",
    "+ hard_skills_from_description - “Твердые” навыки, найденные при обработке полей с навыками. Поле генерируется после получения информации от api. \n",
    "+ soft_skills_from_description - “Мягкие” навыки, найденные при обработке полей с навыками. Поле генерируется после получения информации от api.\n",
    "---"
   ]
  },
  {
   "cell_type": "markdown",
   "id": "70ca6584",
   "metadata": {},
   "source": [
    " <a id='download_data'></a>\n",
    "## Предобработка данных"
   ]
  },
  {
   "cell_type": "code",
   "execution_count": 1,
   "id": "647e0a6c",
   "metadata": {},
   "outputs": [],
   "source": [
    "# импортируем все необходимые библиотеки\n",
    "import pandas as pd\n",
    "from matplotlib import pyplot as plt\n",
    "import seaborn as sns\n",
    "import numpy as np\n",
    "from datetime import timedelta\n",
    "import warnings\n",
    "warnings.filterwarnings(\"ignore\") # игнорируем предупреждения\n",
    "\n",
    "# устанавливаем стиль для графиков\n",
    "plt.style.use('dark_background')"
   ]
  },
  {
   "cell_type": "code",
   "execution_count": 2,
   "id": "bdf27e02",
   "metadata": {},
   "outputs": [],
   "source": [
    "# локальные пути к файлам\n",
    "path_vacancies_da = '/Users/sergio/Vacancies DA.xlsx'\n",
    "path_vacancies_sa = '/Users/sergio/Vacancies SA.xlsx'"
   ]
  },
  {
   "cell_type": "code",
   "execution_count": 3,
   "id": "c1212c58",
   "metadata": {},
   "outputs": [
    {
     "name": "stdout",
     "output_type": "stream",
     "text": [
      "Файлы прочитаны\n"
     ]
    }
   ],
   "source": [
    "# читаем файлы\n",
    "try:\n",
    "    da = pd.read_excel(path_vacancies_da)\n",
    "    sa = pd.read_excel(path_vacancies_sa)\n",
    "    print(f'Файлы прочитаны')\n",
    "except:\n",
    "    print(f'Не удалось записать файлы')"
   ]
  },
  {
   "cell_type": "code",
   "execution_count": 4,
   "id": "78bd8615",
   "metadata": {},
   "outputs": [],
   "source": [
    "# будем отображать все строки\n",
    "pd.set_option('display.max_rows', None)\n",
    "pd.set_option('display.max_columns', None)"
   ]
  },
  {
   "cell_type": "markdown",
   "id": "3011cd74",
   "metadata": {},
   "source": [
    "# Датасет с вакансиями инженеров данных"
   ]
  },
  {
   "cell_type": "markdown",
   "id": "5f26d8e8",
   "metadata": {},
   "source": [
    "Выведем общую информацию о таблице:\n",
    "+ размер\n",
    "+ названия колонок \n",
    "+ сводная информация\n",
    "+ случайные строки таблицы"
   ]
  },
  {
   "cell_type": "code",
   "execution_count": 5,
   "id": "f8645d53",
   "metadata": {},
   "outputs": [
    {
     "data": {
      "text/plain": [
       "(1915, 20)"
      ]
     },
     "execution_count": 5,
     "metadata": {},
     "output_type": "execute_result"
    }
   ],
   "source": [
    "# размер таблицы\n",
    "sa.shape"
   ]
  },
  {
   "cell_type": "code",
   "execution_count": 6,
   "id": "d26bb7a2",
   "metadata": {},
   "outputs": [
    {
     "data": {
      "text/plain": [
       "Index(['id', 'name', 'published_at', 'alternate_url', 'type', 'employer',\n",
       "       'department', 'area', 'experience', 'key_skills', 'schedule',\n",
       "       'employment', 'description', 'description_lemmatized', 'salary_from',\n",
       "       'salary_to', 'salary_bin', 'key_skills_from_key_skills_field',\n",
       "       'hard_skills_from_description', 'soft_skills_from_description'],\n",
       "      dtype='object')"
      ]
     },
     "execution_count": 6,
     "metadata": {},
     "output_type": "execute_result"
    }
   ],
   "source": [
    "# колонки таблицы\n",
    "sa.columns"
   ]
  },
  {
   "cell_type": "code",
   "execution_count": 7,
   "id": "bb1f3da3",
   "metadata": {},
   "outputs": [
    {
     "name": "stdout",
     "output_type": "stream",
     "text": [
      "<class 'pandas.core.frame.DataFrame'>\n",
      "RangeIndex: 1915 entries, 0 to 1914\n",
      "Data columns (total 20 columns):\n",
      " #   Column                            Non-Null Count  Dtype         \n",
      "---  ------                            --------------  -----         \n",
      " 0   id                                1915 non-null   int64         \n",
      " 1   name                              1915 non-null   object        \n",
      " 2   published_at                      1915 non-null   datetime64[ns]\n",
      " 3   alternate_url                     1915 non-null   object        \n",
      " 4   type                              1915 non-null   object        \n",
      " 5   employer                          1915 non-null   object        \n",
      " 6   department                        361 non-null    object        \n",
      " 7   area                              1915 non-null   object        \n",
      " 8   experience                        1915 non-null   object        \n",
      " 9   key_skills                        1915 non-null   object        \n",
      " 10  schedule                          1915 non-null   object        \n",
      " 11  employment                        1915 non-null   object        \n",
      " 12  description                       1915 non-null   object        \n",
      " 13  description_lemmatized            1915 non-null   object        \n",
      " 14  salary_from                       356 non-null    float64       \n",
      " 15  salary_to                         279 non-null    float64       \n",
      " 16  salary_bin                        1915 non-null   object        \n",
      " 17  key_skills_from_key_skills_field  1274 non-null   object        \n",
      " 18  hard_skills_from_description      570 non-null    object        \n",
      " 19  soft_skills_from_description      1427 non-null   object        \n",
      "dtypes: datetime64[ns](1), float64(2), int64(1), object(16)\n",
      "memory usage: 299.3+ KB\n"
     ]
    }
   ],
   "source": [
    "# сводная информация по таблице\n",
    "sa.info()"
   ]
  },
  {
   "cell_type": "code",
   "execution_count": 8,
   "id": "0c4c42e7",
   "metadata": {},
   "outputs": [
    {
     "data": {
      "text/html": [
       "<div>\n",
       "<style scoped>\n",
       "    .dataframe tbody tr th:only-of-type {\n",
       "        vertical-align: middle;\n",
       "    }\n",
       "\n",
       "    .dataframe tbody tr th {\n",
       "        vertical-align: top;\n",
       "    }\n",
       "\n",
       "    .dataframe thead th {\n",
       "        text-align: right;\n",
       "    }\n",
       "</style>\n",
       "<table border=\"1\" class=\"dataframe\">\n",
       "  <thead>\n",
       "    <tr style=\"text-align: right;\">\n",
       "      <th></th>\n",
       "      <th>id</th>\n",
       "      <th>name</th>\n",
       "      <th>published_at</th>\n",
       "      <th>alternate_url</th>\n",
       "      <th>type</th>\n",
       "      <th>employer</th>\n",
       "      <th>department</th>\n",
       "      <th>area</th>\n",
       "      <th>experience</th>\n",
       "      <th>key_skills</th>\n",
       "      <th>schedule</th>\n",
       "      <th>employment</th>\n",
       "      <th>description</th>\n",
       "      <th>description_lemmatized</th>\n",
       "      <th>salary_from</th>\n",
       "      <th>salary_to</th>\n",
       "      <th>salary_bin</th>\n",
       "      <th>key_skills_from_key_skills_field</th>\n",
       "      <th>hard_skills_from_description</th>\n",
       "      <th>soft_skills_from_description</th>\n",
       "    </tr>\n",
       "  </thead>\n",
       "  <tbody>\n",
       "    <tr>\n",
       "      <th>475</th>\n",
       "      <td>102748474</td>\n",
       "      <td>System analyst</td>\n",
       "      <td>2024-07-08 09:06:51</td>\n",
       "      <td>https://hh.ru/vacancy/102748474</td>\n",
       "      <td>Открытая</td>\n",
       "      <td>Прикладные технологии</td>\n",
       "      <td>NaN</td>\n",
       "      <td>Воронеж</td>\n",
       "      <td>Middle (3-6 years)</td>\n",
       "      <td>['REST', 'SQL', 'RabbitMQ', 'SOAP', 'Документа...</td>\n",
       "      <td>Удаленная работа</td>\n",
       "      <td>Полная занятость</td>\n",
       "      <td>профиль нашей компании – разработка по на зака...</td>\n",
       "      <td>профиль наш компания разработка заказ 25 год р...</td>\n",
       "      <td>NaN</td>\n",
       "      <td>NaN</td>\n",
       "      <td>ЗП не указана</td>\n",
       "      <td>UML, BPMN, SQL, REST, SOAP, RabbitMQ, Kafka</td>\n",
       "      <td>NaN</td>\n",
       "      <td>Документация</td>\n",
       "    </tr>\n",
       "    <tr>\n",
       "      <th>144</th>\n",
       "      <td>101346896</td>\n",
       "      <td>Системный аналитик</td>\n",
       "      <td>2024-07-04 13:46:48</td>\n",
       "      <td>https://hh.ru/vacancy/101346896</td>\n",
       "      <td>Открытая</td>\n",
       "      <td>АО «ОТП Банк» (JSC «OTP Bank»)</td>\n",
       "      <td>NaN</td>\n",
       "      <td>Москва</td>\n",
       "      <td>Junior+ (1-3 years)</td>\n",
       "      <td>['confluence']</td>\n",
       "      <td>Полный день</td>\n",
       "      <td>Полная занятость</td>\n",
       "      <td>отп банк – это банк с понятной философией. у б...</td>\n",
       "      <td>отп банк банк понятный философия банк миссия с...</td>\n",
       "      <td>NaN</td>\n",
       "      <td>NaN</td>\n",
       "      <td>ЗП не указана</td>\n",
       "      <td>NaN</td>\n",
       "      <td>confluence</td>\n",
       "      <td>NaN</td>\n",
       "    </tr>\n",
       "    <tr>\n",
       "      <th>412</th>\n",
       "      <td>102425143</td>\n",
       "      <td>Системный аналитик банковской отчетности</td>\n",
       "      <td>2024-07-08 10:59:35</td>\n",
       "      <td>https://hh.ru/vacancy/102425143</td>\n",
       "      <td>Открытая</td>\n",
       "      <td>Неофлекс</td>\n",
       "      <td>NaN</td>\n",
       "      <td>Москва</td>\n",
       "      <td>Middle (3-6 years)</td>\n",
       "      <td>['Бухгалтерская отчетность', 'confluence', 'SQL']</td>\n",
       "      <td>Полный день</td>\n",
       "      <td>Полная занятость</td>\n",
       "      <td>добрый день. для работы по гибридному или офис...</td>\n",
       "      <td>добрый день работа гибридный офисный формат ра...</td>\n",
       "      <td>NaN</td>\n",
       "      <td>NaN</td>\n",
       "      <td>ЗП не указана</td>\n",
       "      <td>Бухгалтерская отчетность, SQL</td>\n",
       "      <td>confluence</td>\n",
       "      <td>NaN</td>\n",
       "    </tr>\n",
       "    <tr>\n",
       "      <th>1384</th>\n",
       "      <td>86686113</td>\n",
       "      <td>Системный аналитик (Кредитный конвейер)</td>\n",
       "      <td>2024-07-06 10:12:15</td>\n",
       "      <td>https://hh.ru/vacancy/86686113</td>\n",
       "      <td>Открытая</td>\n",
       "      <td>ПСБ (ПАО «Промсвязьбанк»)</td>\n",
       "      <td>ПАО «Промсвязьбанк», ИТ</td>\n",
       "      <td>Москва</td>\n",
       "      <td>Junior+ (1-3 years)</td>\n",
       "      <td>['SQL', 'XML', 'SOAP', 'UML', 'BPMN']</td>\n",
       "      <td>Полный день</td>\n",
       "      <td>Полная занятость</td>\n",
       "      <td>на проект кредитного конвейера требуется систе...</td>\n",
       "      <td>проект кредитный конвейер требоваться системны...</td>\n",
       "      <td>NaN</td>\n",
       "      <td>NaN</td>\n",
       "      <td>ЗП не указана</td>\n",
       "      <td>BPMN, XML, SQL, SOAP, UML</td>\n",
       "      <td>NaN</td>\n",
       "      <td>NaN</td>\n",
       "    </tr>\n",
       "    <tr>\n",
       "      <th>158</th>\n",
       "      <td>101399211</td>\n",
       "      <td>Системный аналитик</td>\n",
       "      <td>2024-07-08 11:01:09</td>\n",
       "      <td>https://hh.ru/vacancy/101399211</td>\n",
       "      <td>Открытая</td>\n",
       "      <td>RedLab</td>\n",
       "      <td>NaN</td>\n",
       "      <td>Москва</td>\n",
       "      <td>Middle (3-6 years)</td>\n",
       "      <td>['Документация', 'Коммуникация']</td>\n",
       "      <td>Полный день</td>\n",
       "      <td>Полная занятость</td>\n",
       "      <td>redlab - глобальная it компания. мы входим в г...</td>\n",
       "      <td>redlab глобальный it компания входить группа к...</td>\n",
       "      <td>NaN</td>\n",
       "      <td>NaN</td>\n",
       "      <td>ЗП не указана</td>\n",
       "      <td>NaN</td>\n",
       "      <td>NaN</td>\n",
       "      <td>Коммуникация, Документация</td>\n",
       "    </tr>\n",
       "  </tbody>\n",
       "</table>\n",
       "</div>"
      ],
      "text/plain": [
       "             id                                      name        published_at  \\\n",
       "475   102748474                            System analyst 2024-07-08 09:06:51   \n",
       "144   101346896                        Системный аналитик 2024-07-04 13:46:48   \n",
       "412   102425143  Системный аналитик банковской отчетности 2024-07-08 10:59:35   \n",
       "1384   86686113   Системный аналитик (Кредитный конвейер) 2024-07-06 10:12:15   \n",
       "158   101399211                        Системный аналитик 2024-07-08 11:01:09   \n",
       "\n",
       "                        alternate_url      type  \\\n",
       "475   https://hh.ru/vacancy/102748474  Открытая   \n",
       "144   https://hh.ru/vacancy/101346896  Открытая   \n",
       "412   https://hh.ru/vacancy/102425143  Открытая   \n",
       "1384   https://hh.ru/vacancy/86686113  Открытая   \n",
       "158   https://hh.ru/vacancy/101399211  Открытая   \n",
       "\n",
       "                            employer               department     area  \\\n",
       "475            Прикладные технологии                      NaN  Воронеж   \n",
       "144   АО «ОТП Банк» (JSC «OTP Bank»)                      NaN   Москва   \n",
       "412                         Неофлекс                      NaN   Москва   \n",
       "1384       ПСБ (ПАО «Промсвязьбанк»)  ПАО «Промсвязьбанк», ИТ   Москва   \n",
       "158                           RedLab                      NaN   Москва   \n",
       "\n",
       "               experience                                         key_skills  \\\n",
       "475    Middle (3-6 years)  ['REST', 'SQL', 'RabbitMQ', 'SOAP', 'Документа...   \n",
       "144   Junior+ (1-3 years)                                     ['confluence']   \n",
       "412    Middle (3-6 years)  ['Бухгалтерская отчетность', 'confluence', 'SQL']   \n",
       "1384  Junior+ (1-3 years)              ['SQL', 'XML', 'SOAP', 'UML', 'BPMN']   \n",
       "158    Middle (3-6 years)                   ['Документация', 'Коммуникация']   \n",
       "\n",
       "              schedule        employment  \\\n",
       "475   Удаленная работа  Полная занятость   \n",
       "144        Полный день  Полная занятость   \n",
       "412        Полный день  Полная занятость   \n",
       "1384       Полный день  Полная занятость   \n",
       "158        Полный день  Полная занятость   \n",
       "\n",
       "                                            description  \\\n",
       "475   профиль нашей компании – разработка по на зака...   \n",
       "144   отп банк – это банк с понятной философией. у б...   \n",
       "412   добрый день. для работы по гибридному или офис...   \n",
       "1384  на проект кредитного конвейера требуется систе...   \n",
       "158   redlab - глобальная it компания. мы входим в г...   \n",
       "\n",
       "                                 description_lemmatized  salary_from  \\\n",
       "475   профиль наш компания разработка заказ 25 год р...          NaN   \n",
       "144   отп банк банк понятный философия банк миссия с...          NaN   \n",
       "412   добрый день работа гибридный офисный формат ра...          NaN   \n",
       "1384  проект кредитный конвейер требоваться системны...          NaN   \n",
       "158   redlab глобальный it компания входить группа к...          NaN   \n",
       "\n",
       "      salary_to     salary_bin             key_skills_from_key_skills_field  \\\n",
       "475         NaN  ЗП не указана  UML, BPMN, SQL, REST, SOAP, RabbitMQ, Kafka   \n",
       "144         NaN  ЗП не указана                                          NaN   \n",
       "412         NaN  ЗП не указана                Бухгалтерская отчетность, SQL   \n",
       "1384        NaN  ЗП не указана                    BPMN, XML, SQL, SOAP, UML   \n",
       "158         NaN  ЗП не указана                                          NaN   \n",
       "\n",
       "     hard_skills_from_description soft_skills_from_description  \n",
       "475                           NaN                 Документация  \n",
       "144                    confluence                          NaN  \n",
       "412                    confluence                          NaN  \n",
       "1384                          NaN                          NaN  \n",
       "158                           NaN   Коммуникация, Документация  "
      ]
     },
     "execution_count": 8,
     "metadata": {},
     "output_type": "execute_result"
    }
   ],
   "source": [
    "# случайные строки таблицы\n",
    "sa.sample(5)"
   ]
  },
  {
   "cell_type": "markdown",
   "id": "3e70e7c3",
   "metadata": {},
   "source": [
    "# Датасет с вакансиями аналитиков данных"
   ]
  },
  {
   "cell_type": "markdown",
   "id": "23478145",
   "metadata": {},
   "source": [
    "Выведем общую информацию о таблице:\n",
    "+ размер\n",
    "+ названия колонок \n",
    "+ сводная информация\n",
    "+ случайные строки таблицы"
   ]
  },
  {
   "cell_type": "code",
   "execution_count": 9,
   "id": "cf31c25d",
   "metadata": {},
   "outputs": [
    {
     "data": {
      "text/plain": [
       "(1801, 20)"
      ]
     },
     "execution_count": 9,
     "metadata": {},
     "output_type": "execute_result"
    }
   ],
   "source": [
    "# размер таблицы\n",
    "da.shape"
   ]
  },
  {
   "cell_type": "code",
   "execution_count": 10,
   "id": "afd982da",
   "metadata": {},
   "outputs": [
    {
     "data": {
      "text/plain": [
       "Index(['id', 'name', 'published_at', 'alternate_url', 'type', 'employer',\n",
       "       'department', 'area', 'experience', 'key_skills', 'schedule',\n",
       "       'employment', 'description', 'description_lemmatized', 'salary_from',\n",
       "       'salary_to', 'salary_bin', 'key_skills_from_key_skills_field',\n",
       "       'hard_skills_from_description', 'soft_skills_from_description'],\n",
       "      dtype='object')"
      ]
     },
     "execution_count": 10,
     "metadata": {},
     "output_type": "execute_result"
    }
   ],
   "source": [
    "# колонки таблицы\n",
    "da.columns"
   ]
  },
  {
   "cell_type": "code",
   "execution_count": 11,
   "id": "b5f61a55",
   "metadata": {},
   "outputs": [
    {
     "name": "stdout",
     "output_type": "stream",
     "text": [
      "<class 'pandas.core.frame.DataFrame'>\n",
      "RangeIndex: 1801 entries, 0 to 1800\n",
      "Data columns (total 20 columns):\n",
      " #   Column                            Non-Null Count  Dtype         \n",
      "---  ------                            --------------  -----         \n",
      " 0   id                                1801 non-null   int64         \n",
      " 1   name                              1801 non-null   object        \n",
      " 2   published_at                      1801 non-null   datetime64[ns]\n",
      " 3   alternate_url                     1801 non-null   object        \n",
      " 4   type                              1801 non-null   object        \n",
      " 5   employer                          1801 non-null   object        \n",
      " 6   department                        521 non-null    object        \n",
      " 7   area                              1801 non-null   object        \n",
      " 8   experience                        1801 non-null   object        \n",
      " 9   key_skills                        1801 non-null   object        \n",
      " 10  schedule                          1801 non-null   object        \n",
      " 11  employment                        1801 non-null   object        \n",
      " 12  description                       1801 non-null   object        \n",
      " 13  description_lemmatized            1801 non-null   object        \n",
      " 14  salary_from                       348 non-null    float64       \n",
      " 15  salary_to                         228 non-null    float64       \n",
      " 16  salary_bin                        1801 non-null   object        \n",
      " 17  key_skills_from_key_skills_field  1093 non-null   object        \n",
      " 18  hard_skills_from_description      418 non-null    object        \n",
      " 19  soft_skills_from_description      588 non-null    object        \n",
      "dtypes: datetime64[ns](1), float64(2), int64(1), object(16)\n",
      "memory usage: 281.5+ KB\n"
     ]
    }
   ],
   "source": [
    "# сводная информация по таблице\n",
    "da.info()"
   ]
  },
  {
   "cell_type": "code",
   "execution_count": 12,
   "id": "06c70907",
   "metadata": {},
   "outputs": [
    {
     "data": {
      "text/html": [
       "<div>\n",
       "<style scoped>\n",
       "    .dataframe tbody tr th:only-of-type {\n",
       "        vertical-align: middle;\n",
       "    }\n",
       "\n",
       "    .dataframe tbody tr th {\n",
       "        vertical-align: top;\n",
       "    }\n",
       "\n",
       "    .dataframe thead th {\n",
       "        text-align: right;\n",
       "    }\n",
       "</style>\n",
       "<table border=\"1\" class=\"dataframe\">\n",
       "  <thead>\n",
       "    <tr style=\"text-align: right;\">\n",
       "      <th></th>\n",
       "      <th>id</th>\n",
       "      <th>name</th>\n",
       "      <th>published_at</th>\n",
       "      <th>alternate_url</th>\n",
       "      <th>type</th>\n",
       "      <th>employer</th>\n",
       "      <th>department</th>\n",
       "      <th>area</th>\n",
       "      <th>experience</th>\n",
       "      <th>key_skills</th>\n",
       "      <th>schedule</th>\n",
       "      <th>employment</th>\n",
       "      <th>description</th>\n",
       "      <th>description_lemmatized</th>\n",
       "      <th>salary_from</th>\n",
       "      <th>salary_to</th>\n",
       "      <th>salary_bin</th>\n",
       "      <th>key_skills_from_key_skills_field</th>\n",
       "      <th>hard_skills_from_description</th>\n",
       "      <th>soft_skills_from_description</th>\n",
       "    </tr>\n",
       "  </thead>\n",
       "  <tbody>\n",
       "    <tr>\n",
       "      <th>551</th>\n",
       "      <td>94084907</td>\n",
       "      <td>Аналитик данных</td>\n",
       "      <td>2024-03-07 11:15:50</td>\n",
       "      <td>https://hh.ru/vacancy/94084907</td>\n",
       "      <td>Открытая</td>\n",
       "      <td>Скайлайн Констракшн</td>\n",
       "      <td>NaN</td>\n",
       "      <td>Москва</td>\n",
       "      <td>Junior+ (1-3 years)</td>\n",
       "      <td>['Усидчивость', 'внимательность', 'умение анал...</td>\n",
       "      <td>Полный день</td>\n",
       "      <td>Полная занятость</td>\n",
       "      <td>в компанию по предоставлению дорожно -строител...</td>\n",
       "      <td>компания предоставление дорожный строительный ...</td>\n",
       "      <td>80000.0</td>\n",
       "      <td>NaN</td>\n",
       "      <td>ЗП не указана</td>\n",
       "      <td>умение анализировать информацию, внимательност...</td>\n",
       "      <td>NaN</td>\n",
       "      <td>NaN</td>\n",
       "    </tr>\n",
       "    <tr>\n",
       "      <th>1516</th>\n",
       "      <td>98597205</td>\n",
       "      <td>Аналитик данных</td>\n",
       "      <td>2024-05-14 10:12:39</td>\n",
       "      <td>https://hh.ru/vacancy/98597205</td>\n",
       "      <td>Открытая</td>\n",
       "      <td>Marketing Emotions LLC</td>\n",
       "      <td>NaN</td>\n",
       "      <td>Москва</td>\n",
       "      <td>Middle (3-6 years)</td>\n",
       "      <td>['SQL', 'A/B тесты', 'Документация', 'Оптимиза...</td>\n",
       "      <td>Полный день</td>\n",
       "      <td>Полная занятость</td>\n",
       "      <td>привет! мы агентство marketing emotions. мы сп...</td>\n",
       "      <td>привет агентство marketing emotions специализи...</td>\n",
       "      <td>NaN</td>\n",
       "      <td>200000.0</td>\n",
       "      <td>От 200 тысяч до 300 тысяч</td>\n",
       "      <td>SQL, A/B тесты, Аналитическое мышление, Оптими...</td>\n",
       "      <td>NaN</td>\n",
       "      <td>Документация</td>\n",
       "    </tr>\n",
       "    <tr>\n",
       "      <th>1139</th>\n",
       "      <td>97041429</td>\n",
       "      <td>Data Analyst / Аналитик Данных</td>\n",
       "      <td>2024-05-12 17:52:08</td>\n",
       "      <td>https://hh.ru/vacancy/97041429</td>\n",
       "      <td>Открытая</td>\n",
       "      <td>Wannabe</td>\n",
       "      <td>NaN</td>\n",
       "      <td>Москва</td>\n",
       "      <td>Middle (3-6 years)</td>\n",
       "      <td>['MS SQL', 'Коммуникация', 'A/B тесты', 'Pytho...</td>\n",
       "      <td>Удаленная работа</td>\n",
       "      <td>Полная занятость</td>\n",
       "      <td>команда wannabe recruitment ищет аналитика дан...</td>\n",
       "      <td>команда wannabe recruitment искать аналитика д...</td>\n",
       "      <td>280500.0</td>\n",
       "      <td>467500.0</td>\n",
       "      <td>Больше 300 тысяч</td>\n",
       "      <td>Data Analysis, Python, MS SQL, Black box testi...</td>\n",
       "      <td>NaN</td>\n",
       "      <td>Коммуникация</td>\n",
       "    </tr>\n",
       "    <tr>\n",
       "      <th>1576</th>\n",
       "      <td>98820122</td>\n",
       "      <td>Аналитик данных</td>\n",
       "      <td>2024-05-13 16:13:41</td>\n",
       "      <td>https://hh.ru/vacancy/98820122</td>\n",
       "      <td>Открытая</td>\n",
       "      <td>РОСТ, Группа компаний</td>\n",
       "      <td>ГК РОСТ, Отдел аналитики</td>\n",
       "      <td>Москва</td>\n",
       "      <td>Junior+ (1-3 years)</td>\n",
       "      <td>['MS PowerPoint', 'SQL', 'MS Access', 'Аналити...</td>\n",
       "      <td>Полный день</td>\n",
       "      <td>Полная занятость</td>\n",
       "      <td>обязанности:  подготовка оперативной управленч...</td>\n",
       "      <td>обязанность подготовка оперативный управленчес...</td>\n",
       "      <td>NaN</td>\n",
       "      <td>NaN</td>\n",
       "      <td>ЗП не указана</td>\n",
       "      <td>MS PowerPoint, SQL, Аналитическое мышление, Ан...</td>\n",
       "      <td>NaN</td>\n",
       "      <td>NaN</td>\n",
       "    </tr>\n",
       "    <tr>\n",
       "      <th>1223</th>\n",
       "      <td>97310940</td>\n",
       "      <td>Junior/Middle Data Analyst</td>\n",
       "      <td>2024-04-18 11:41:04</td>\n",
       "      <td>https://hh.ru/vacancy/97310940</td>\n",
       "      <td>Открытая</td>\n",
       "      <td>СБЕР</td>\n",
       "      <td>Сбер для экспертов</td>\n",
       "      <td>Москва</td>\n",
       "      <td>Junior+ (1-3 years)</td>\n",
       "      <td>[]</td>\n",
       "      <td>Полный день</td>\n",
       "      <td>Полная занятость</td>\n",
       "      <td>мы занимаемся аналитикой и разработкой моделей...</td>\n",
       "      <td>заниматься аналитика разработка модель машинны...</td>\n",
       "      <td>NaN</td>\n",
       "      <td>NaN</td>\n",
       "      <td>ЗП не указана</td>\n",
       "      <td>NaN</td>\n",
       "      <td>NaN</td>\n",
       "      <td>NaN</td>\n",
       "    </tr>\n",
       "  </tbody>\n",
       "</table>\n",
       "</div>"
      ],
      "text/plain": [
       "            id                            name        published_at  \\\n",
       "551   94084907                 Аналитик данных 2024-03-07 11:15:50   \n",
       "1516  98597205                 Аналитик данных 2024-05-14 10:12:39   \n",
       "1139  97041429  Data Analyst / Аналитик Данных 2024-05-12 17:52:08   \n",
       "1576  98820122                 Аналитик данных 2024-05-13 16:13:41   \n",
       "1223  97310940      Junior/Middle Data Analyst 2024-04-18 11:41:04   \n",
       "\n",
       "                       alternate_url      type                employer  \\\n",
       "551   https://hh.ru/vacancy/94084907  Открытая     Скайлайн Констракшн   \n",
       "1516  https://hh.ru/vacancy/98597205  Открытая  Marketing Emotions LLC   \n",
       "1139  https://hh.ru/vacancy/97041429  Открытая                 Wannabe   \n",
       "1576  https://hh.ru/vacancy/98820122  Открытая   РОСТ, Группа компаний   \n",
       "1223  https://hh.ru/vacancy/97310940  Открытая                    СБЕР   \n",
       "\n",
       "                    department    area           experience  \\\n",
       "551                        NaN  Москва  Junior+ (1-3 years)   \n",
       "1516                       NaN  Москва   Middle (3-6 years)   \n",
       "1139                       NaN  Москва   Middle (3-6 years)   \n",
       "1576  ГК РОСТ, Отдел аналитики  Москва  Junior+ (1-3 years)   \n",
       "1223        Сбер для экспертов  Москва  Junior+ (1-3 years)   \n",
       "\n",
       "                                             key_skills          schedule  \\\n",
       "551   ['Усидчивость', 'внимательность', 'умение анал...       Полный день   \n",
       "1516  ['SQL', 'A/B тесты', 'Документация', 'Оптимиза...       Полный день   \n",
       "1139  ['MS SQL', 'Коммуникация', 'A/B тесты', 'Pytho...  Удаленная работа   \n",
       "1576  ['MS PowerPoint', 'SQL', 'MS Access', 'Аналити...       Полный день   \n",
       "1223                                                 []       Полный день   \n",
       "\n",
       "            employment                                        description  \\\n",
       "551   Полная занятость  в компанию по предоставлению дорожно -строител...   \n",
       "1516  Полная занятость  привет! мы агентство marketing emotions. мы сп...   \n",
       "1139  Полная занятость  команда wannabe recruitment ищет аналитика дан...   \n",
       "1576  Полная занятость  обязанности:  подготовка оперативной управленч...   \n",
       "1223  Полная занятость  мы занимаемся аналитикой и разработкой моделей...   \n",
       "\n",
       "                                 description_lemmatized  salary_from  \\\n",
       "551   компания предоставление дорожный строительный ...      80000.0   \n",
       "1516  привет агентство marketing emotions специализи...          NaN   \n",
       "1139  команда wannabe recruitment искать аналитика д...     280500.0   \n",
       "1576  обязанность подготовка оперативный управленчес...          NaN   \n",
       "1223  заниматься аналитика разработка модель машинны...          NaN   \n",
       "\n",
       "      salary_to                 salary_bin  \\\n",
       "551         NaN              ЗП не указана   \n",
       "1516   200000.0  От 200 тысяч до 300 тысяч   \n",
       "1139   467500.0           Больше 300 тысяч   \n",
       "1576        NaN              ЗП не указана   \n",
       "1223        NaN              ЗП не указана   \n",
       "\n",
       "                       key_skills_from_key_skills_field  \\\n",
       "551   умение анализировать информацию, внимательност...   \n",
       "1516  SQL, A/B тесты, Аналитическое мышление, Оптими...   \n",
       "1139  Data Analysis, Python, MS SQL, Black box testi...   \n",
       "1576  MS PowerPoint, SQL, Аналитическое мышление, Ан...   \n",
       "1223                                                NaN   \n",
       "\n",
       "     hard_skills_from_description soft_skills_from_description  \n",
       "551                           NaN                          NaN  \n",
       "1516                          NaN                 Документация  \n",
       "1139                          NaN                 Коммуникация  \n",
       "1576                          NaN                          NaN  \n",
       "1223                          NaN                          NaN  "
      ]
     },
     "execution_count": 12,
     "metadata": {},
     "output_type": "execute_result"
    }
   ],
   "source": [
    "# случайные строки таблицы\n",
    "da.sample(5)"
   ]
  },
  {
   "cell_type": "markdown",
   "id": "47c3ab66",
   "metadata": {},
   "source": [
    "[Вернуться к плану](#plan)\n"
   ]
  },
  {
   "cell_type": "markdown",
   "id": "68916218",
   "metadata": {},
   "source": [
    "# Обработка пропущенных значений и удаление дубликатов."
   ]
  },
  {
   "cell_type": "markdown",
   "id": "5502c4ab",
   "metadata": {},
   "source": [
    "Проверим оба датасета на пропущенные значения и дубликаты:"
   ]
  },
  {
   "cell_type": "code",
   "execution_count": 13,
   "id": "193b1319",
   "metadata": {},
   "outputs": [
    {
     "data": {
      "text/plain": [
       "id                                     0\n",
       "name                                   0\n",
       "published_at                           0\n",
       "alternate_url                          0\n",
       "type                                   0\n",
       "employer                               0\n",
       "department                          1280\n",
       "area                                   0\n",
       "experience                             0\n",
       "key_skills                             0\n",
       "schedule                               0\n",
       "employment                             0\n",
       "description                            0\n",
       "description_lemmatized                 0\n",
       "salary_from                         1453\n",
       "salary_to                           1573\n",
       "salary_bin                             0\n",
       "key_skills_from_key_skills_field     708\n",
       "hard_skills_from_description        1383\n",
       "soft_skills_from_description        1213\n",
       "dtype: int64"
      ]
     },
     "execution_count": 13,
     "metadata": {},
     "output_type": "execute_result"
    }
   ],
   "source": [
    "# проверка на пропущенные значения датасета аналитиков данных\n",
    "da.isna().sum()"
   ]
  },
  {
   "cell_type": "code",
   "execution_count": 14,
   "id": "54b4ceec",
   "metadata": {},
   "outputs": [
    {
     "data": {
      "text/plain": [
       "id                                     0\n",
       "name                                   0\n",
       "published_at                           0\n",
       "alternate_url                          0\n",
       "type                                   0\n",
       "employer                               0\n",
       "department                          1554\n",
       "area                                   0\n",
       "experience                             0\n",
       "key_skills                             0\n",
       "schedule                               0\n",
       "employment                             0\n",
       "description                            0\n",
       "description_lemmatized                 0\n",
       "salary_from                         1559\n",
       "salary_to                           1636\n",
       "salary_bin                             0\n",
       "key_skills_from_key_skills_field     641\n",
       "hard_skills_from_description        1345\n",
       "soft_skills_from_description         488\n",
       "dtype: int64"
      ]
     },
     "execution_count": 14,
     "metadata": {},
     "output_type": "execute_result"
    }
   ],
   "source": [
    "# проверка на пропущенные значения датасета инженеров данных\n",
    "sa.isna().sum()"
   ]
  },
  {
   "cell_type": "markdown",
   "id": "fbea8c1a",
   "metadata": {},
   "source": [
    "Пропущенные значения возникли в процессе парсинга данных, вероятно, из-за отсутствия указания отдела, диапазона зарплат (нижней или верхней границы) или ключевых навыков (как твёрдых, так и мягких) в описании вакансии. \n",
    "\n",
    "Это могло привести к появлению **дубликатов** в данных.\n",
    "\n",
    "Проверим оба датасета на дубликаты:"
   ]
  },
  {
   "cell_type": "code",
   "execution_count": 15,
   "id": "c8dd4b58",
   "metadata": {},
   "outputs": [
    {
     "data": {
      "text/plain": [
       "0"
      ]
     },
     "execution_count": 15,
     "metadata": {},
     "output_type": "execute_result"
    }
   ],
   "source": [
    "# проверка на явные дубликаты датасета аналитиков данных\n",
    "da.duplicated().sum()"
   ]
  },
  {
   "cell_type": "code",
   "execution_count": 16,
   "id": "35b460a8",
   "metadata": {},
   "outputs": [
    {
     "data": {
      "text/plain": [
       "0"
      ]
     },
     "execution_count": 16,
     "metadata": {},
     "output_type": "execute_result"
    }
   ],
   "source": [
    "# проверка на явные дубликаты датасета инженеров данных\n",
    "sa.duplicated().sum()"
   ]
  },
  {
   "cell_type": "markdown",
   "id": "1d04a011",
   "metadata": {},
   "source": [
    "Постараемся обработать данные и проверить есть ли **неявные дубликаты** в датасетах"
   ]
  },
  {
   "cell_type": "markdown",
   "id": "300b3afb",
   "metadata": {},
   "source": [
    "Дубликаты — это строки, где одни и те же значения могут встречаться несколько раз. Как будем искать?\n",
    "\n",
    "1. Сгруппируем данные по колонкам: name, employer, area, experience.\n",
    "\n",
    "2. Пометим дубликаты маркером True или False.\n",
    "\n",
    "3. Отсортируем данные по этим же колонкам.\n",
    "\n",
    "Таким образом, мы получим пары строк: оригинал и дубликат рядом друг с другом. Руками проверим, действительно ли это дубликаты."
   ]
  },
  {
   "cell_type": "code",
   "execution_count": 17,
   "id": "5de02129",
   "metadata": {},
   "outputs": [],
   "source": [
    "# Объединяем датасеты в один\n",
    "df_raw = pd.concat([da, sa])"
   ]
  },
  {
   "cell_type": "code",
   "execution_count": 18,
   "id": "201d33fd",
   "metadata": {},
   "outputs": [
    {
     "data": {
      "text/plain": [
       "(3716, 20)"
      ]
     },
     "execution_count": 18,
     "metadata": {},
     "output_type": "execute_result"
    }
   ],
   "source": [
    "df_raw.shape # размер оригинала"
   ]
  },
  {
   "cell_type": "code",
   "execution_count": 19,
   "id": "354d2dd5",
   "metadata": {},
   "outputs": [],
   "source": [
    "# приведем в единый формат: все к нижнему регистру\n",
    "df_raw['name'] = df_raw['name'].str.lower()\n",
    "df_raw['employer'] = df_raw['employer'].str.lower()\n",
    "df_raw['area'] = df_raw['area'].str.lower()\n",
    "df_raw['experience'] = df_raw['experience'].str.lower()"
   ]
  },
  {
   "cell_type": "code",
   "execution_count": 20,
   "id": "4e6260e1",
   "metadata": {},
   "outputs": [],
   "source": [
    "# создадим новый столбец с маркером дубликата: значения True False\n",
    "df_raw['is_duplicate'] = (\n",
    "    df_raw.duplicated(subset=['name', 'employer', 'area', 'experience'], keep='first').astype(int)\n",
    ")"
   ]
  },
  {
   "cell_type": "code",
   "execution_count": 21,
   "id": "619cba6b",
   "metadata": {},
   "outputs": [],
   "source": [
    "# отфильтруем дубликаты (по столбцам 'name', 'employer', 'area', 'experience')\n",
    "dups = df_raw[df_raw.duplicated(subset=['name', 'employer', 'area', 'experience'], keep=False)]"
   ]
  },
  {
   "cell_type": "markdown",
   "id": "0e6a52bc",
   "metadata": {},
   "source": [
    "Теперь у нас есть таблица, в которой рядом друг с другом расположены строки-дубликаты. Вручную проверим на самом ли деле это дубли"
   ]
  },
  {
   "cell_type": "code",
   "execution_count": 22,
   "id": "491854f9",
   "metadata": {},
   "outputs": [
    {
     "data": {
      "text/html": [
       "<div>\n",
       "<style scoped>\n",
       "    .dataframe tbody tr th:only-of-type {\n",
       "        vertical-align: middle;\n",
       "    }\n",
       "\n",
       "    .dataframe tbody tr th {\n",
       "        vertical-align: top;\n",
       "    }\n",
       "\n",
       "    .dataframe thead th {\n",
       "        text-align: right;\n",
       "    }\n",
       "</style>\n",
       "<table border=\"1\" class=\"dataframe\">\n",
       "  <thead>\n",
       "    <tr style=\"text-align: right;\">\n",
       "      <th></th>\n",
       "      <th>id</th>\n",
       "      <th>name</th>\n",
       "      <th>published_at</th>\n",
       "      <th>alternate_url</th>\n",
       "      <th>type</th>\n",
       "      <th>employer</th>\n",
       "      <th>department</th>\n",
       "      <th>area</th>\n",
       "      <th>experience</th>\n",
       "      <th>key_skills</th>\n",
       "      <th>schedule</th>\n",
       "      <th>employment</th>\n",
       "      <th>description</th>\n",
       "      <th>description_lemmatized</th>\n",
       "      <th>salary_from</th>\n",
       "      <th>salary_to</th>\n",
       "      <th>salary_bin</th>\n",
       "      <th>key_skills_from_key_skills_field</th>\n",
       "      <th>hard_skills_from_description</th>\n",
       "      <th>soft_skills_from_description</th>\n",
       "      <th>is_duplicate</th>\n",
       "    </tr>\n",
       "  </thead>\n",
       "  <tbody>\n",
       "    <tr>\n",
       "      <th>228</th>\n",
       "      <td>101286645</td>\n",
       "      <td>bi-аналитик / data analyst / аналитик данных</td>\n",
       "      <td>2024-06-04 18:25:08</td>\n",
       "      <td>https://hh.ru/vacancy/101286645</td>\n",
       "      <td>Открытая</td>\n",
       "      <td>федеральная сеть книжных магазинов читай-город</td>\n",
       "      <td>NaN</td>\n",
       "      <td>москва</td>\n",
       "      <td>junior+ (1-3 years)</td>\n",
       "      <td>['MS SQL', 'Анализ данных', 'SQL', 'MS Excel']</td>\n",
       "      <td>Удаленная работа</td>\n",
       "      <td>Полная занятость</td>\n",
       "      <td>привет! мы команда ит компании &amp;quot;читай тех...</td>\n",
       "      <td>привет команда ита компания quot читать технол...</td>\n",
       "      <td>NaN</td>\n",
       "      <td>NaN</td>\n",
       "      <td>ЗП не указана</td>\n",
       "      <td>MS SQL, SQL, Анализ данных, MS Excel</td>\n",
       "      <td>NaN</td>\n",
       "      <td>NaN</td>\n",
       "      <td>0</td>\n",
       "    </tr>\n",
       "    <tr>\n",
       "      <th>909</th>\n",
       "      <td>95919755</td>\n",
       "      <td>bi-аналитик / data analyst / аналитик данных</td>\n",
       "      <td>2024-04-23 11:41:29</td>\n",
       "      <td>https://hh.ru/vacancy/95919755</td>\n",
       "      <td>Открытая</td>\n",
       "      <td>федеральная сеть книжных магазинов читай-город</td>\n",
       "      <td>NaN</td>\n",
       "      <td>москва</td>\n",
       "      <td>junior+ (1-3 years)</td>\n",
       "      <td>['MS SQL', 'Анализ данных', 'SQL', 'MS Excel']</td>\n",
       "      <td>Удаленная работа</td>\n",
       "      <td>Полная занятость</td>\n",
       "      <td>привет! мы команда ит компании &amp;quot;читай тех...</td>\n",
       "      <td>привет команда ита компания quot читать технол...</td>\n",
       "      <td>NaN</td>\n",
       "      <td>NaN</td>\n",
       "      <td>ЗП не указана</td>\n",
       "      <td>MS SQL, SQL, Анализ данных, MS Excel</td>\n",
       "      <td>NaN</td>\n",
       "      <td>NaN</td>\n",
       "      <td>1</td>\n",
       "    </tr>\n",
       "    <tr>\n",
       "      <th>72</th>\n",
       "      <td>100463980</td>\n",
       "      <td>bi-аналитик/ аналитик данных</td>\n",
       "      <td>2024-06-09 10:00:29</td>\n",
       "      <td>https://hh.ru/vacancy/100463980</td>\n",
       "      <td>Открытая</td>\n",
       "      <td>сэлвим</td>\n",
       "      <td>NaN</td>\n",
       "      <td>москва</td>\n",
       "      <td>junior+ (1-3 years)</td>\n",
       "      <td>['Pandas']</td>\n",
       "      <td>Полный день</td>\n",
       "      <td>Полная занятость</td>\n",
       "      <td>обязанности:  сбор бизнес-требований от внутре...</td>\n",
       "      <td>обязанность сбор бизнес требование внутренний ...</td>\n",
       "      <td>NaN</td>\n",
       "      <td>NaN</td>\n",
       "      <td>ЗП не указана</td>\n",
       "      <td>NaN</td>\n",
       "      <td>Pandas</td>\n",
       "      <td>NaN</td>\n",
       "      <td>0</td>\n",
       "    </tr>\n",
       "    <tr>\n",
       "      <th>1408</th>\n",
       "      <td>98088004</td>\n",
       "      <td>bi-аналитик/ аналитик данных</td>\n",
       "      <td>2024-05-12 17:09:30</td>\n",
       "      <td>https://hh.ru/vacancy/98088004</td>\n",
       "      <td>Открытая</td>\n",
       "      <td>сэлвим</td>\n",
       "      <td>NaN</td>\n",
       "      <td>москва</td>\n",
       "      <td>junior+ (1-3 years)</td>\n",
       "      <td>['Pandas']</td>\n",
       "      <td>Полный день</td>\n",
       "      <td>Полная занятость</td>\n",
       "      <td>обязанности:  сбор бизнес-требований от внутре...</td>\n",
       "      <td>обязанность сбор бизнес требование внутренний ...</td>\n",
       "      <td>NaN</td>\n",
       "      <td>NaN</td>\n",
       "      <td>ЗП не указана</td>\n",
       "      <td>NaN</td>\n",
       "      <td>Pandas</td>\n",
       "      <td>NaN</td>\n",
       "      <td>1</td>\n",
       "    </tr>\n",
       "    <tr>\n",
       "      <th>215</th>\n",
       "      <td>101261237</td>\n",
       "      <td>bi-аналитик/бизнес-аналитик/аналитик данных</td>\n",
       "      <td>2024-06-10 13:42:00</td>\n",
       "      <td>https://hh.ru/vacancy/101261237</td>\n",
       "      <td>Открытая</td>\n",
       "      <td>гоудрон</td>\n",
       "      <td>NaN</td>\n",
       "      <td>москва</td>\n",
       "      <td>junior+ (1-3 years)</td>\n",
       "      <td>['Анализ данных', 'SQL', 'Работа с большим объ...</td>\n",
       "      <td>Полный день</td>\n",
       "      <td>Полная занятость</td>\n",
       "      <td>привет, уважаемые соискатели! мы, компания, &amp;q...</td>\n",
       "      <td>привет уважаемый соискатель компания quot godr...</td>\n",
       "      <td>100000.0</td>\n",
       "      <td>NaN</td>\n",
       "      <td>ЗП не указана</td>\n",
       "      <td>SQL, Аналитика, Анализ данных, Базы данных, Ра...</td>\n",
       "      <td>NaN</td>\n",
       "      <td>NaN</td>\n",
       "      <td>0</td>\n",
       "    </tr>\n",
       "  </tbody>\n",
       "</table>\n",
       "</div>"
      ],
      "text/plain": [
       "             id                                          name  \\\n",
       "228   101286645  bi-аналитик / data analyst / аналитик данных   \n",
       "909    95919755  bi-аналитик / data analyst / аналитик данных   \n",
       "72    100463980                  bi-аналитик/ аналитик данных   \n",
       "1408   98088004                  bi-аналитик/ аналитик данных   \n",
       "215   101261237   bi-аналитик/бизнес-аналитик/аналитик данных   \n",
       "\n",
       "            published_at                    alternate_url      type  \\\n",
       "228  2024-06-04 18:25:08  https://hh.ru/vacancy/101286645  Открытая   \n",
       "909  2024-04-23 11:41:29   https://hh.ru/vacancy/95919755  Открытая   \n",
       "72   2024-06-09 10:00:29  https://hh.ru/vacancy/100463980  Открытая   \n",
       "1408 2024-05-12 17:09:30   https://hh.ru/vacancy/98088004  Открытая   \n",
       "215  2024-06-10 13:42:00  https://hh.ru/vacancy/101261237  Открытая   \n",
       "\n",
       "                                            employer department    area  \\\n",
       "228   федеральная сеть книжных магазинов читай-город        NaN  москва   \n",
       "909   федеральная сеть книжных магазинов читай-город        NaN  москва   \n",
       "72                                            сэлвим        NaN  москва   \n",
       "1408                                          сэлвим        NaN  москва   \n",
       "215                                          гоудрон        NaN  москва   \n",
       "\n",
       "               experience                                         key_skills  \\\n",
       "228   junior+ (1-3 years)     ['MS SQL', 'Анализ данных', 'SQL', 'MS Excel']   \n",
       "909   junior+ (1-3 years)     ['MS SQL', 'Анализ данных', 'SQL', 'MS Excel']   \n",
       "72    junior+ (1-3 years)                                         ['Pandas']   \n",
       "1408  junior+ (1-3 years)                                         ['Pandas']   \n",
       "215   junior+ (1-3 years)  ['Анализ данных', 'SQL', 'Работа с большим объ...   \n",
       "\n",
       "              schedule        employment  \\\n",
       "228   Удаленная работа  Полная занятость   \n",
       "909   Удаленная работа  Полная занятость   \n",
       "72         Полный день  Полная занятость   \n",
       "1408       Полный день  Полная занятость   \n",
       "215        Полный день  Полная занятость   \n",
       "\n",
       "                                            description  \\\n",
       "228   привет! мы команда ит компании &quot;читай тех...   \n",
       "909   привет! мы команда ит компании &quot;читай тех...   \n",
       "72    обязанности:  сбор бизнес-требований от внутре...   \n",
       "1408  обязанности:  сбор бизнес-требований от внутре...   \n",
       "215   привет, уважаемые соискатели! мы, компания, &q...   \n",
       "\n",
       "                                 description_lemmatized  salary_from  \\\n",
       "228   привет команда ита компания quot читать технол...          NaN   \n",
       "909   привет команда ита компания quot читать технол...          NaN   \n",
       "72    обязанность сбор бизнес требование внутренний ...          NaN   \n",
       "1408  обязанность сбор бизнес требование внутренний ...          NaN   \n",
       "215   привет уважаемый соискатель компания quot godr...     100000.0   \n",
       "\n",
       "      salary_to     salary_bin  \\\n",
       "228         NaN  ЗП не указана   \n",
       "909         NaN  ЗП не указана   \n",
       "72          NaN  ЗП не указана   \n",
       "1408        NaN  ЗП не указана   \n",
       "215         NaN  ЗП не указана   \n",
       "\n",
       "                       key_skills_from_key_skills_field  \\\n",
       "228                MS SQL, SQL, Анализ данных, MS Excel   \n",
       "909                MS SQL, SQL, Анализ данных, MS Excel   \n",
       "72                                                  NaN   \n",
       "1408                                                NaN   \n",
       "215   SQL, Аналитика, Анализ данных, Базы данных, Ра...   \n",
       "\n",
       "     hard_skills_from_description soft_skills_from_description  is_duplicate  \n",
       "228                           NaN                          NaN             0  \n",
       "909                           NaN                          NaN             1  \n",
       "72                         Pandas                          NaN             0  \n",
       "1408                       Pandas                          NaN             1  \n",
       "215                           NaN                          NaN             0  "
      ]
     },
     "execution_count": 22,
     "metadata": {},
     "output_type": "execute_result"
    }
   ],
   "source": [
    "# отсортируем чтобы поставить дубли и оригинальные строки рядом друг с другом\n",
    "dups = dups.sort_values(by=['name', 'employer', 'area', 'experience', 'schedule', 'employment'])\n",
    "# dups\n",
    "dups.head(5)"
   ]
  },
  {
   "cell_type": "markdown",
   "id": "6167b6fa",
   "metadata": {},
   "source": [
    "Как оказалось, да, одинаковые вакансии были размещены несколько раз, вероятно, из-за обновлений объявления.\n",
    "\n",
    "Теперь удалим эти дубликаты из рабочего датасета. И переименуем датасет:"
   ]
  },
  {
   "cell_type": "code",
   "execution_count": 23,
   "id": "a4bc85f0",
   "metadata": {},
   "outputs": [],
   "source": [
    "# удаляем дубликаты\n",
    "df = df_raw[df_raw['is_duplicate'] == False]"
   ]
  },
  {
   "cell_type": "code",
   "execution_count": 24,
   "id": "104ec124",
   "metadata": {},
   "outputs": [
    {
     "data": {
      "text/plain": [
       "(3204, 21)"
      ]
     },
     "execution_count": 24,
     "metadata": {},
     "output_type": "execute_result"
    }
   ],
   "source": [
    "# размер обработанного датасета\n",
    "df.shape"
   ]
  },
  {
   "cell_type": "code",
   "execution_count": 25,
   "id": "da32ef5a",
   "metadata": {},
   "outputs": [],
   "source": [
    "# пишем названия городов с большой буквы\n",
    "df['area'] = df['area'].str.capitalize()"
   ]
  },
  {
   "cell_type": "code",
   "execution_count": 26,
   "id": "9e8d2cc1",
   "metadata": {
    "scrolled": false
   },
   "outputs": [
    {
     "data": {
      "text/plain": [
       "13.78"
      ]
     },
     "execution_count": 26,
     "metadata": {},
     "output_type": "execute_result"
    }
   ],
   "source": [
    "# сколько строк потеряли в ходе обработки\n",
    "dups_count = df_raw.shape[0] - df.shape[0]\n",
    "\n",
    "# процент потерь \n",
    "round((dups_count / df_raw.shape[0]) * 100, 2)"
   ]
  },
  {
   "cell_type": "markdown",
   "id": "982ce239",
   "metadata": {},
   "source": [
    "Теперь пометим каждый датасет для удобства. Переименуем значения в столбце \"name\" на соответствующие \n",
    "\n",
    "+ Аналитик данных\n",
    "+ Инженер данных"
   ]
  },
  {
   "cell_type": "code",
   "execution_count": 27,
   "id": "cda9ddac",
   "metadata": {},
   "outputs": [],
   "source": [
    "# Будем считать, что в столбце alternate_url уникальные значения для каждого оригинального датасета\n",
    "# Создадим матрицу True/False, которая пометит, что строки относятся к аналитикам\n",
    "matrix_da = df['alternate_url'].isin(da['alternate_url'])\n",
    "\n",
    "# Создадим матрицу True/False, которая пометит, что строки относятся к инженерам\n",
    "matrix_sa = df['alternate_url'].isin(sa['alternate_url'])\n",
    "\n",
    "# Применим матрицу и переименуем строки\n",
    "df.loc[matrix_da, 'name'] = 'Аналитик данных'\n",
    "df.loc[matrix_sa, 'name'] = 'Инженер данных'"
   ]
  },
  {
   "cell_type": "code",
   "execution_count": 28,
   "id": "a0a33b5e",
   "metadata": {},
   "outputs": [
    {
     "data": {
      "text/plain": [
       "name\n",
       "Инженер данных     1827\n",
       "Аналитик данных    1377\n",
       "Name: count, dtype: int64"
      ]
     },
     "execution_count": 28,
     "metadata": {},
     "output_type": "execute_result"
    }
   ],
   "source": [
    "# проверка\n",
    "df['name'].value_counts()"
   ]
  },
  {
   "cell_type": "markdown",
   "id": "195ca824",
   "metadata": {},
   "source": [
    " <a id='exploratory_analysis'></a>\n",
    "## Исследовательский анализ данных"
   ]
  },
  {
   "cell_type": "markdown",
   "id": "f6526d8b",
   "metadata": {},
   "source": [
    "В этом блоке исследуем данные и ответим на такие вопросы:\n",
    "\n",
    "   - [Определение доли грейдов Junior, Junior+, Middle, Senior](#ratio)\n",
    "   - [Распределение вакансий по регионам, зарплатным вилкам, графику работы, требованиям к навыкам и опыту.](#distribution)\n",
    "   - [Изучение изменений количества вакансий с течением времени.](#time)\n",
    "   - [Анализ типичных мест работы для обеих специальностей(в разрезе грейдов)](#job):\n",
    "       - по следующим параметрам: ТОП-работодателей, зарплата, тип занятости, график работы\n",
    "   - [Определение наиболее желаемых кандидатов(в разрезе грейдов)](#candidate): \n",
    "       - по следующим параметрам: самые важные hard-skils, самые важные soft-skils."
   ]
  },
  {
   "cell_type": "markdown",
   "id": "454bc9e8",
   "metadata": {},
   "source": [
    "[Вернуться к плану](#plan)\n"
   ]
  },
  {
   "cell_type": "markdown",
   "id": "211eddeb",
   "metadata": {},
   "source": [
    "<a id='ratio'></a>\n",
    "\n",
    "### Определение доли грейдов Junior, Junior+, Middle, Senior"
   ]
  },
  {
   "cell_type": "markdown",
   "id": "2eb1f459",
   "metadata": {},
   "source": [
    "Найдем доли грейдов в датасете:"
   ]
  },
  {
   "cell_type": "code",
   "execution_count": 29,
   "id": "d97c0111",
   "metadata": {},
   "outputs": [
    {
     "data": {
      "text/plain": [
       "experience\n",
       "junior+ (1-3 years)      0.515293\n",
       "middle (3-6 years)       0.404182\n",
       "junior (no experince)    0.063670\n",
       "senior (6+ years)        0.016854\n",
       "Name: proportion, dtype: float64"
      ]
     },
     "execution_count": 29,
     "metadata": {},
     "output_type": "execute_result"
    }
   ],
   "source": [
    "df['experience'].value_counts(normalize=True)"
   ]
  },
  {
   "cell_type": "markdown",
   "id": "2aa90ec5",
   "metadata": {},
   "source": [
    "Опыт работы кандидатов\n",
    "\n",
    "1. **Junior+ (1–3 года)** — 51.5%  \n",
    "2. **Middle (3–6 лет)** — 40.4%  \n",
    "3. **Junior (без опыта)** — 6.4%  \n",
    "4. **Senior (6+ лет)** — 1.7%  "
   ]
  },
  {
   "cell_type": "markdown",
   "id": "a6241535",
   "metadata": {},
   "source": [
    "[Вернуться к плану](#plan)\n"
   ]
  },
  {
   "cell_type": "markdown",
   "id": "93757cd3",
   "metadata": {},
   "source": [
    "<a id='distribution'></a>\n",
    "### Распределение вакансий по регионам, зарплатным вилкам, требованиям к навыкам и опыту"
   ]
  },
  {
   "cell_type": "markdown",
   "id": "53fac921",
   "metadata": {},
   "source": [
    "Прежде всего выясним с каким периодом будем работать: "
   ]
  },
  {
   "cell_type": "code",
   "execution_count": 30,
   "id": "c1468f9f",
   "metadata": {},
   "outputs": [
    {
     "data": {
      "text/html": [
       "<div>\n",
       "<style scoped>\n",
       "    .dataframe tbody tr th:only-of-type {\n",
       "        vertical-align: middle;\n",
       "    }\n",
       "\n",
       "    .dataframe tbody tr th {\n",
       "        vertical-align: top;\n",
       "    }\n",
       "\n",
       "    .dataframe thead th {\n",
       "        text-align: right;\n",
       "    }\n",
       "</style>\n",
       "<table border=\"1\" class=\"dataframe\">\n",
       "  <thead>\n",
       "    <tr style=\"text-align: right;\">\n",
       "      <th></th>\n",
       "      <th>date_start</th>\n",
       "      <th>date_end</th>\n",
       "      <th>months_count</th>\n",
       "    </tr>\n",
       "  </thead>\n",
       "  <tbody>\n",
       "    <tr>\n",
       "      <th>0</th>\n",
       "      <td>2024-02-13 21:45:51</td>\n",
       "      <td>2024-07-09 12:47:11</td>\n",
       "      <td>4.729869</td>\n",
       "    </tr>\n",
       "  </tbody>\n",
       "</table>\n",
       "</div>"
      ],
      "text/plain": [
       "           date_start            date_end  months_count\n",
       "0 2024-02-13 21:45:51 2024-07-09 12:47:11      4.729869"
      ]
     },
     "execution_count": 30,
     "metadata": {},
     "output_type": "execute_result"
    }
   ],
   "source": [
    "# Создадим DataFrame с датой начала сбора информации, датой окончания и разницей\n",
    "data = {\n",
    "    'date_start': [df['published_at'].min()],\n",
    "    'date_end': [df['published_at'].max()]\n",
    "}\n",
    "\n",
    "t = pd.DataFrame(data=data)\n",
    "t['months_count'] = (t['date_end'] - t['date_start']) / np.timedelta64(1, 'M')\n",
    "\n",
    "t"
   ]
  },
  {
   "cell_type": "markdown",
   "id": "c45879ff",
   "metadata": {},
   "source": [
    "Будем работать с такими данными: \n",
    "+ Исследуемый период: почти 5 месяцев (с 13 февраля по 9 июля)\n",
    "+ Общее количество вакансий для **Аналитиков** : 1377 \n",
    "+ Общее количество вакансий для **Инженеров** : 1827 "
   ]
  },
  {
   "cell_type": "markdown",
   "id": "9905bcbc",
   "metadata": {},
   "source": [
    "#### **Как распределяются вакансии для аналитиков данных и инженеров данных по регионам?**"
   ]
  },
  {
   "cell_type": "code",
   "execution_count": 31,
   "id": "9c206652",
   "metadata": {},
   "outputs": [
    {
     "data": {
      "image/png": "[encoded data removed]",
      "text/plain": [
       "<Figure size 1000x600 with 1 Axes>"
      ]
     },
     "metadata": {},
     "output_type": "display_data"
    }
   ],
   "source": [
    "# Рассмотрим распределение вакансий по регионам\n",
    "\n",
    "# Отфильтруем датасеты и сгруппируем в сводные таблицы\n",
    "bar_da = (\n",
    "    df[df['name'] == 'Аналитик данных']\n",
    "    .groupby(['name', 'area'])\n",
    "    .agg({'id': 'count'})\n",
    "    .reset_index()  # Сохраняем результат в колонку 'id'\n",
    "    .sort_values(by='id', ascending=False)\n",
    "    .head(10)\n",
    ")\n",
    "\n",
    "bar_sa = (\n",
    "    df[df['name'] == 'Инженер данных']\n",
    "    .groupby(['name', 'area'])\n",
    "    .agg({'id': 'count'})\n",
    "    .reset_index()  # Сохраняем результат в колонку 'id'\n",
    "    .sort_values(by='id', ascending=False)\n",
    "    .head(10)\n",
    ")\n",
    "\n",
    "# Объединяем данные в одну таблицу\n",
    "frames = [bar_da, bar_sa]\n",
    "comb_data = pd.concat(frames)\n",
    "\n",
    "# Строим график\n",
    "plt.figure(figsize=(10, 6))\n",
    "sns.barplot(\n",
    "    data=comb_data,\n",
    "    y='area',\n",
    "    x='id',\n",
    "    hue='name',\n",
    "    orient='h'\n",
    ")\n",
    "\n",
    "# Добавляем заголовок и подписи для осей\n",
    "plt.title(\n",
    "    'Топ-10 регионов по количеству вакансий для аналитиков данных и инженеров данных',\n",
    "    fontsize=14\n",
    ")\n",
    "plt.xlabel('Количество вакансий', fontsize=12)\n",
    "plt.ylabel('Регион', fontsize=12)\n",
    "\n",
    "# Устанавливаем более удобный размер шрифта для осей\n",
    "plt.xticks(fontsize=12)\n",
    "plt.yticks(fontsize=12)\n",
    "plt.legend(loc='center')\n",
    "\n",
    "# Показываем график\n",
    "plt.tight_layout()\n",
    "plt.show()"
   ]
  },
  {
   "cell_type": "code",
   "execution_count": 32,
   "id": "d2dd59d7",
   "metadata": {},
   "outputs": [
    {
     "data": {
      "text/html": [
       "<div>\n",
       "<style scoped>\n",
       "    .dataframe tbody tr th:only-of-type {\n",
       "        vertical-align: middle;\n",
       "    }\n",
       "\n",
       "    .dataframe tbody tr th {\n",
       "        vertical-align: top;\n",
       "    }\n",
       "\n",
       "    .dataframe thead th {\n",
       "        text-align: right;\n",
       "    }\n",
       "</style>\n",
       "<table border=\"1\" class=\"dataframe\">\n",
       "  <thead>\n",
       "    <tr style=\"text-align: right;\">\n",
       "      <th></th>\n",
       "      <th></th>\n",
       "      <th>id</th>\n",
       "    </tr>\n",
       "    <tr>\n",
       "      <th>area</th>\n",
       "      <th>name</th>\n",
       "      <th></th>\n",
       "    </tr>\n",
       "  </thead>\n",
       "  <tbody>\n",
       "    <tr>\n",
       "      <th rowspan=\"2\" valign=\"top\">Москва</th>\n",
       "      <th>Инженер данных</th>\n",
       "      <td>1054</td>\n",
       "    </tr>\n",
       "    <tr>\n",
       "      <th>Аналитик данных</th>\n",
       "      <td>920</td>\n",
       "    </tr>\n",
       "    <tr>\n",
       "      <th rowspan=\"2\" valign=\"top\">Санкт-петербург</th>\n",
       "      <th>Инженер данных</th>\n",
       "      <td>217</td>\n",
       "    </tr>\n",
       "    <tr>\n",
       "      <th>Аналитик данных</th>\n",
       "      <td>142</td>\n",
       "    </tr>\n",
       "    <tr>\n",
       "      <th>Екатеринбург</th>\n",
       "      <th>Инженер данных</th>\n",
       "      <td>58</td>\n",
       "    </tr>\n",
       "    <tr>\n",
       "      <th>Казань</th>\n",
       "      <th>Инженер данных</th>\n",
       "      <td>50</td>\n",
       "    </tr>\n",
       "    <tr>\n",
       "      <th>Новосибирск</th>\n",
       "      <th>Инженер данных</th>\n",
       "      <td>49</td>\n",
       "    </tr>\n",
       "    <tr>\n",
       "      <th>Екатеринбург</th>\n",
       "      <th>Аналитик данных</th>\n",
       "      <td>39</td>\n",
       "    </tr>\n",
       "    <tr>\n",
       "      <th>Нижний новгород</th>\n",
       "      <th>Инженер данных</th>\n",
       "      <td>33</td>\n",
       "    </tr>\n",
       "    <tr>\n",
       "      <th>Краснодар</th>\n",
       "      <th>Инженер данных</th>\n",
       "      <td>31</td>\n",
       "    </tr>\n",
       "    <tr>\n",
       "      <th>Новосибирск</th>\n",
       "      <th>Аналитик данных</th>\n",
       "      <td>29</td>\n",
       "    </tr>\n",
       "    <tr>\n",
       "      <th>Самара</th>\n",
       "      <th>Инженер данных</th>\n",
       "      <td>29</td>\n",
       "    </tr>\n",
       "    <tr>\n",
       "      <th>Нижний новгород</th>\n",
       "      <th>Аналитик данных</th>\n",
       "      <td>27</td>\n",
       "    </tr>\n",
       "    <tr>\n",
       "      <th>Казань</th>\n",
       "      <th>Аналитик данных</th>\n",
       "      <td>25</td>\n",
       "    </tr>\n",
       "    <tr>\n",
       "      <th>Ростов-на-дону</th>\n",
       "      <th>Инженер данных</th>\n",
       "      <td>24</td>\n",
       "    </tr>\n",
       "    <tr>\n",
       "      <th>Владивосток</th>\n",
       "      <th>Аналитик данных</th>\n",
       "      <td>23</td>\n",
       "    </tr>\n",
       "    <tr>\n",
       "      <th>Воронеж</th>\n",
       "      <th>Инженер данных</th>\n",
       "      <td>22</td>\n",
       "    </tr>\n",
       "    <tr>\n",
       "      <th>Краснодар</th>\n",
       "      <th>Аналитик данных</th>\n",
       "      <td>17</td>\n",
       "    </tr>\n",
       "    <tr>\n",
       "      <th>Пермь</th>\n",
       "      <th>Аналитик данных</th>\n",
       "      <td>9</td>\n",
       "    </tr>\n",
       "    <tr>\n",
       "      <th>Самара</th>\n",
       "      <th>Аналитик данных</th>\n",
       "      <td>9</td>\n",
       "    </tr>\n",
       "  </tbody>\n",
       "</table>\n",
       "</div>"
      ],
      "text/plain": [
       "                                   id\n",
       "area            name                 \n",
       "Москва          Инженер данных   1054\n",
       "                Аналитик данных   920\n",
       "Санкт-петербург Инженер данных    217\n",
       "                Аналитик данных   142\n",
       "Екатеринбург    Инженер данных     58\n",
       "Казань          Инженер данных     50\n",
       "Новосибирск     Инженер данных     49\n",
       "Екатеринбург    Аналитик данных    39\n",
       "Нижний новгород Инженер данных     33\n",
       "Краснодар       Инженер данных     31\n",
       "Новосибирск     Аналитик данных    29\n",
       "Самара          Инженер данных     29\n",
       "Нижний новгород Аналитик данных    27\n",
       "Казань          Аналитик данных    25\n",
       "Ростов-на-дону  Инженер данных     24\n",
       "Владивосток     Аналитик данных    23\n",
       "Воронеж         Инженер данных     22\n",
       "Краснодар       Аналитик данных    17\n",
       "Пермь           Аналитик данных     9\n",
       "Самара          Аналитик данных     9"
      ]
     },
     "execution_count": 32,
     "metadata": {},
     "output_type": "execute_result"
    }
   ],
   "source": [
    "# Обязательно строим сводную таблицу для наглядности\n",
    "pivot_table = pd.DataFrame(\n",
    "    comb_data.groupby(['area', 'name'])['id']\n",
    "    .sum()\n",
    "    .sort_values(ascending=False)\n",
    ")\n",
    "\n",
    "pivot_table"
   ]
  },
  {
   "cell_type": "markdown",
   "id": "aafefcdf",
   "metadata": {},
   "source": [
    "В Москве представлено наибольшее количество вакансий в датасете. Среди них вакансии инженеров данных встречаются чаще, чем вакансии аналитиков. На втором месте по числу вакансий находится Санкт-Петербург.\n",
    "\n",
    "В регионах, за исключением крупных городов, вакансий значительно меньше.\n",
    "\n",
    "Из-за крайне малого количества вакансий в регионах предлагаем объединить их в одну группу для упрощения анализа."
   ]
  },
  {
   "cell_type": "markdown",
   "id": "23f27977",
   "metadata": {},
   "source": [
    "[Вернуться к плану](#plan)"
   ]
  },
  {
   "cell_type": "markdown",
   "id": "ad80fb2d",
   "metadata": {},
   "source": [
    "#### **Какие зарплатные вилки характерны для каждой профессии в различных регионах?**"
   ]
  },
  {
   "cell_type": "markdown",
   "id": "8daddb3d",
   "metadata": {},
   "source": [
    "Для начала проанализируем диапазоны, указанные в колонках с зарплатными вилками, и проверим данные на наличие выбросов."
   ]
  },
  {
   "cell_type": "code",
   "execution_count": 33,
   "id": "42845d68",
   "metadata": {},
   "outputs": [
    {
     "data": {
      "image/png": "[encoded data removed]",
      "text/plain": [
       "<Figure size 1500x1000 with 2 Axes>"
      ]
     },
     "metadata": {},
     "output_type": "display_data"
    }
   ],
   "source": [
    "# Создание двух отдельных графиков для каждого столбца\n",
    "fig, axes = plt.subplots(1, 2, figsize=(15, 10), sharey=True)  # два графика в одной строке, с общей осью Y\n",
    "\n",
    "# График для 'salary_from'\n",
    "df.boxplot(column='salary_from', by='name', ax=axes[0])\n",
    "axes[0].set_title('Зарплата от')  # Заголовок для первого графика\n",
    "axes[0].set_xlabel('Профессия')  # Подпись оси X\n",
    "axes[0].set_ylabel('Зарплата')  # Подпись оси Y\n",
    "\n",
    "# График для 'salary_to'\n",
    "df.boxplot(column='salary_to', by='name', ax=axes[1])\n",
    "axes[1].set_title('Зарплата до')  # Заголовок для второго графика\n",
    "axes[1].set_xlabel('Профессия')  # Подпись оси X\n",
    "# Y-подпись уже задана и общая, поэтому здесь ее не нужно дублировать\n",
    "\n",
    "# Убираем автоматические заголовки, созданные `boxplot`\n",
    "fig.suptitle('Распределение зарплат от(слева) и зарплат до(справа)')  # Убираем общий заголовок\n",
    "plt.tight_layout()  # Улучшение компоновки\n",
    "\n",
    "plt.show()"
   ]
  },
  {
   "cell_type": "markdown",
   "id": "ab0ec3f5",
   "metadata": {},
   "source": [
    "Мы наблюдаем значения, равные нулю, чего быть не должно. Попробуем исправить данные:"
   ]
  },
  {
   "cell_type": "code",
   "execution_count": 34,
   "id": "4797685e",
   "metadata": {},
   "outputs": [
    {
     "data": {
      "text/plain": [
       "1110       50.0\n",
       "1470      280.0\n",
       "871     20000.0\n",
       "98      25000.0\n",
       "1102    26000.0\n",
       "Name: salary_from, dtype: float64"
      ]
     },
     "execution_count": 34,
     "metadata": {},
     "output_type": "execute_result"
    }
   ],
   "source": [
    "df['salary_from'].sort_values(ascending=True).head()"
   ]
  },
  {
   "cell_type": "markdown",
   "id": "9339e05a",
   "metadata": {},
   "source": [
    "Значения 50 и 280 явно являются ошибочными. Проверим эти строки:"
   ]
  },
  {
   "cell_type": "code",
   "execution_count": 35,
   "id": "b8c9f638",
   "metadata": {},
   "outputs": [
    {
     "data": {
      "text/html": [
       "<div>\n",
       "<style scoped>\n",
       "    .dataframe tbody tr th:only-of-type {\n",
       "        vertical-align: middle;\n",
       "    }\n",
       "\n",
       "    .dataframe tbody tr th {\n",
       "        vertical-align: top;\n",
       "    }\n",
       "\n",
       "    .dataframe thead th {\n",
       "        text-align: right;\n",
       "    }\n",
       "</style>\n",
       "<table border=\"1\" class=\"dataframe\">\n",
       "  <thead>\n",
       "    <tr style=\"text-align: right;\">\n",
       "      <th></th>\n",
       "      <th>id</th>\n",
       "      <th>name</th>\n",
       "      <th>published_at</th>\n",
       "      <th>alternate_url</th>\n",
       "      <th>type</th>\n",
       "      <th>employer</th>\n",
       "      <th>department</th>\n",
       "      <th>area</th>\n",
       "      <th>experience</th>\n",
       "      <th>key_skills</th>\n",
       "      <th>schedule</th>\n",
       "      <th>employment</th>\n",
       "      <th>description</th>\n",
       "      <th>description_lemmatized</th>\n",
       "      <th>salary_from</th>\n",
       "      <th>salary_to</th>\n",
       "      <th>salary_bin</th>\n",
       "      <th>key_skills_from_key_skills_field</th>\n",
       "      <th>hard_skills_from_description</th>\n",
       "      <th>soft_skills_from_description</th>\n",
       "      <th>is_duplicate</th>\n",
       "    </tr>\n",
       "  </thead>\n",
       "  <tbody>\n",
       "    <tr>\n",
       "      <th>1110</th>\n",
       "      <td>96943446</td>\n",
       "      <td>Аналитик данных</td>\n",
       "      <td>2024-05-11 21:45:07</td>\n",
       "      <td>https://hh.ru/vacancy/96943446</td>\n",
       "      <td>Открытая</td>\n",
       "      <td>репетуев иван дмитриевич</td>\n",
       "      <td>NaN</td>\n",
       "      <td>Москва</td>\n",
       "      <td>junior (no experince)</td>\n",
       "      <td>['Аналитическое мышление', 'Аналитика продаж',...</td>\n",
       "      <td>Удаленная работа</td>\n",
       "      <td>Полная занятость</td>\n",
       "      <td>ищу в команду аналитика до глубины мозга косте...</td>\n",
       "      <td>искать команда аналитик глубина мозг кость име...</td>\n",
       "      <td>50.0</td>\n",
       "      <td>100001.0</td>\n",
       "      <td>От 100 тысяч до 200 тысяч</td>\n",
       "      <td>Аналитика продаж, Конкурентная аналитика, Анал...</td>\n",
       "      <td>NaN</td>\n",
       "      <td>NaN</td>\n",
       "      <td>0</td>\n",
       "    </tr>\n",
       "  </tbody>\n",
       "</table>\n",
       "</div>"
      ],
      "text/plain": [
       "            id             name        published_at  \\\n",
       "1110  96943446  Аналитик данных 2024-05-11 21:45:07   \n",
       "\n",
       "                       alternate_url      type                  employer  \\\n",
       "1110  https://hh.ru/vacancy/96943446  Открытая  репетуев иван дмитриевич   \n",
       "\n",
       "     department    area             experience  \\\n",
       "1110        NaN  Москва  junior (no experince)   \n",
       "\n",
       "                                             key_skills          schedule  \\\n",
       "1110  ['Аналитическое мышление', 'Аналитика продаж',...  Удаленная работа   \n",
       "\n",
       "            employment                                        description  \\\n",
       "1110  Полная занятость  ищу в команду аналитика до глубины мозга косте...   \n",
       "\n",
       "                                 description_lemmatized  salary_from  \\\n",
       "1110  искать команда аналитик глубина мозг кость име...         50.0   \n",
       "\n",
       "      salary_to                 salary_bin  \\\n",
       "1110   100001.0  От 100 тысяч до 200 тысяч   \n",
       "\n",
       "                       key_skills_from_key_skills_field  \\\n",
       "1110  Аналитика продаж, Конкурентная аналитика, Анал...   \n",
       "\n",
       "     hard_skills_from_description soft_skills_from_description  is_duplicate  \n",
       "1110                          NaN                          NaN             0  "
      ]
     },
     "execution_count": 35,
     "metadata": {},
     "output_type": "execute_result"
    }
   ],
   "source": [
    "df[df['salary_from'] == 50]  # тут ошибка в записи"
   ]
  },
  {
   "cell_type": "code",
   "execution_count": 36,
   "id": "6288ebf4",
   "metadata": {},
   "outputs": [],
   "source": [
    "df.loc[df['salary_from'] == 50, 'salary_from'] = 50000 # исправим на 50000"
   ]
  },
  {
   "cell_type": "code",
   "execution_count": 37,
   "id": "8146ff49",
   "metadata": {},
   "outputs": [
    {
     "data": {
      "text/html": [
       "<div>\n",
       "<style scoped>\n",
       "    .dataframe tbody tr th:only-of-type {\n",
       "        vertical-align: middle;\n",
       "    }\n",
       "\n",
       "    .dataframe tbody tr th {\n",
       "        vertical-align: top;\n",
       "    }\n",
       "\n",
       "    .dataframe thead th {\n",
       "        text-align: right;\n",
       "    }\n",
       "</style>\n",
       "<table border=\"1\" class=\"dataframe\">\n",
       "  <thead>\n",
       "    <tr style=\"text-align: right;\">\n",
       "      <th></th>\n",
       "      <th>id</th>\n",
       "      <th>name</th>\n",
       "      <th>published_at</th>\n",
       "      <th>alternate_url</th>\n",
       "      <th>type</th>\n",
       "      <th>employer</th>\n",
       "      <th>department</th>\n",
       "      <th>area</th>\n",
       "      <th>experience</th>\n",
       "      <th>key_skills</th>\n",
       "      <th>schedule</th>\n",
       "      <th>employment</th>\n",
       "      <th>description</th>\n",
       "      <th>description_lemmatized</th>\n",
       "      <th>salary_from</th>\n",
       "      <th>salary_to</th>\n",
       "      <th>salary_bin</th>\n",
       "      <th>key_skills_from_key_skills_field</th>\n",
       "      <th>hard_skills_from_description</th>\n",
       "      <th>soft_skills_from_description</th>\n",
       "      <th>is_duplicate</th>\n",
       "    </tr>\n",
       "  </thead>\n",
       "  <tbody>\n",
       "    <tr>\n",
       "      <th>1470</th>\n",
       "      <td>91944373</td>\n",
       "      <td>Инженер данных</td>\n",
       "      <td>2024-07-06 15:14:38</td>\n",
       "      <td>https://hh.ru/vacancy/91944373</td>\n",
       "      <td>Открытая</td>\n",
       "      <td>datanomica</td>\n",
       "      <td>NaN</td>\n",
       "      <td>Москва</td>\n",
       "      <td>senior (6+ years)</td>\n",
       "      <td>['JSON API', 'JSON', 'XML', 'SQL', 'Юнит-эконо...</td>\n",
       "      <td>Удаленная работа</td>\n",
       "      <td>Полная занятость</td>\n",
       "      <td>привет! мы — ооо «датаномика», решаем проблемы...</td>\n",
       "      <td>привет датаномика решать проблема структуриров...</td>\n",
       "      <td>280.0</td>\n",
       "      <td>340000.0</td>\n",
       "      <td>Больше 300 тысяч</td>\n",
       "      <td>JSON API, XML, JSON, Agile, Java, SQL, Kafka</td>\n",
       "      <td>confluence, Юнит-экономика</td>\n",
       "      <td>NaN</td>\n",
       "      <td>0</td>\n",
       "    </tr>\n",
       "  </tbody>\n",
       "</table>\n",
       "</div>"
      ],
      "text/plain": [
       "            id            name        published_at  \\\n",
       "1470  91944373  Инженер данных 2024-07-06 15:14:38   \n",
       "\n",
       "                       alternate_url      type    employer department    area  \\\n",
       "1470  https://hh.ru/vacancy/91944373  Открытая  datanomica        NaN  Москва   \n",
       "\n",
       "             experience                                         key_skills  \\\n",
       "1470  senior (6+ years)  ['JSON API', 'JSON', 'XML', 'SQL', 'Юнит-эконо...   \n",
       "\n",
       "              schedule        employment  \\\n",
       "1470  Удаленная работа  Полная занятость   \n",
       "\n",
       "                                            description  \\\n",
       "1470  привет! мы — ооо «датаномика», решаем проблемы...   \n",
       "\n",
       "                                 description_lemmatized  salary_from  \\\n",
       "1470  привет датаномика решать проблема структуриров...        280.0   \n",
       "\n",
       "      salary_to        salary_bin  \\\n",
       "1470   340000.0  Больше 300 тысяч   \n",
       "\n",
       "                  key_skills_from_key_skills_field  \\\n",
       "1470  JSON API, XML, JSON, Agile, Java, SQL, Kafka   \n",
       "\n",
       "     hard_skills_from_description soft_skills_from_description  is_duplicate  \n",
       "1470   confluence, Юнит-экономика                          NaN             0  "
      ]
     },
     "execution_count": 37,
     "metadata": {},
     "output_type": "execute_result"
    }
   ],
   "source": [
    "df[df['salary_from'] == 280]  # тут тоже ошибка"
   ]
  },
  {
   "cell_type": "code",
   "execution_count": 38,
   "id": "ca7d2509",
   "metadata": {},
   "outputs": [],
   "source": [
    "df.loc[df['salary_from'] == 280, 'salary_from'] = 280000 # исправим на 280000"
   ]
  },
  {
   "cell_type": "markdown",
   "id": "6dc0ca57",
   "metadata": {},
   "source": [
    "**Приступим к исследованию.**\n",
    "\n",
    "*Попробуем применить следующую стратегию: сначала найдем нижние и верхние границы для зарплатных предложений “ОТ” и “ДО”, а затем визуализируем результаты.*\n",
    "\n",
    "**Изучим столбец с зарплатами: определим минимальные и максимальные значения для нижних и верхних границ.**"
   ]
  },
  {
   "cell_type": "code",
   "execution_count": 39,
   "id": "84ac7a64",
   "metadata": {
    "scrolled": false
   },
   "outputs": [
    {
     "data": {
      "image/png": "[encoded data removed]",
      "text/plain": [
       "<Figure size 1500x1000 with 2 Axes>"
      ]
     },
     "metadata": {},
     "output_type": "display_data"
    }
   ],
   "source": [
    "# Посмотрим на выбросы в колонках 'salary_from', 'salary_to'\n",
    "# Создание двух отдельных графиков для каждого столбца\n",
    "fig, axes = plt.subplots(1, 2, figsize=(15, 10), sharey=True)  # два графика в одной строке, с общей осью Y\n",
    "\n",
    "# График для 'salary_from'\n",
    "df.boxplot(column='salary_from', by='experience', ax=axes[0])\n",
    "axes[0].set_title('Зарплата от')  # Заголовок для первого графика\n",
    "axes[0].set_xlabel('Опыт')  # Подпись оси X\n",
    "axes[0].set_ylabel('Зарплата')  # Подпись оси Y\n",
    "\n",
    "# График для 'salary_to'\n",
    "df.boxplot(column='salary_to', by='experience', ax=axes[1])\n",
    "axes[1].set_title('Зарплата до')  # Заголовок для второго графика\n",
    "axes[1].set_xlabel('Опыт')  # Подпись оси X\n",
    "\n",
    "# Убираем автоматические заголовки, созданные `boxplot`\n",
    "fig.suptitle('')  # Убираем общий заголовок\n",
    "plt.tight_layout()  # Улучшение компоновки\n",
    "\n",
    "plt.show()"
   ]
  },
  {
   "cell_type": "markdown",
   "id": "9cf303d7",
   "metadata": {},
   "source": [
    "Наибольший разброс значений наблюдается для вакансий на junior, независимо от профессии, поэтому отсечем выбросы по этим категориям:\n",
    "\n",
    "- Верхняя граница зарплаты для джунов без опыта — 100 000;\n",
    "- Для джунов с 1-3 годами опыта — 130 000;\n",
    "- Нижние границы оставим без изменений, так как неясно, что там может быть в принципе.\n",
    "\n",
    "Для джунов с опытом применим аналогичный подход. Вакансии для мидлов и сеньоров оставим как есть."
   ]
  },
  {
   "cell_type": "code",
   "execution_count": 40,
   "id": "4e4e01a9",
   "metadata": {},
   "outputs": [],
   "source": [
    "# Устанавливаем максимальные значения зарплаты для джунов\n",
    "junior_no_experience_max_salary = 100000\n",
    "junior_with_experience_max_salary = 130000\n",
    "\n",
    "# Применяем отсечение для джунов без опыта\n",
    "df.loc[(df['experience'] == 'junior (no experince)') & (df['salary_to'] > junior_no_experience_max_salary), 'salary_to'] = junior_no_experience_max_salary\n",
    "\n",
    "# Применяем отсечение для джунов с опытом 1-3 года\n",
    "df.loc[(df['experience'] == 'junior+ (1-3 years)') & (df['salary_to'] > junior_with_experience_max_salary), 'salary_to'] = junior_with_experience_max_salary"
   ]
  },
  {
   "cell_type": "code",
   "execution_count": 41,
   "id": "c1813415",
   "metadata": {},
   "outputs": [
    {
     "data": {
      "text/plain": [
       "100000.0"
      ]
     },
     "execution_count": 41,
     "metadata": {},
     "output_type": "execute_result"
    }
   ],
   "source": [
    "# Проверим результат для джунов без опыта\n",
    "df.loc[(df['experience'] == 'junior (no experince)')]['salary_to'].max()"
   ]
  },
  {
   "cell_type": "code",
   "execution_count": 42,
   "id": "9794a9d1",
   "metadata": {},
   "outputs": [
    {
     "data": {
      "text/plain": [
       "130000.0"
      ]
     },
     "execution_count": 42,
     "metadata": {},
     "output_type": "execute_result"
    }
   ],
   "source": [
    "# Проверим результат для джунов с опытом 1-3 года\n",
    "df.loc[(df['experience'] == 'junior+ (1-3 years)')]['salary_to'].max()"
   ]
  },
  {
   "cell_type": "markdown",
   "id": "2964b60e",
   "metadata": {},
   "source": [
    "Построим хитмап, отображающий зарплаты \"от\" и \"до\" для каждого грейда в разрезе региона\n",
    "\n",
    "- напишем функцию, которая построит сводные таблицы\n",
    "- применим к датасету\n",
    "- построим график по агрегированным данным"
   ]
  },
  {
   "cell_type": "code",
   "execution_count": 43,
   "id": "cf6ec113",
   "metadata": {},
   "outputs": [],
   "source": [
    "def prepare_heatmap_data(df, name):\n",
    "    \"\"\"\n",
    "    Подготавливает данные для тепловой карты по зарплатам аналитиков данных.\n",
    "    Все города, кроме Москвы и Санкт-Петербурга, получают метку \"Регионы\".\n",
    "\n",
    "    Параметры:\n",
    "        df (pd.DataFrame): Исходный DataFrame с колонками.\n",
    "        name (str): Название вакансии, по которой нужно отфильтровать данные.\n",
    "\n",
    "    Возвращает:\n",
    "        pd.DataFrame: Обработанный DataFrame с индексами ['area', 'experience'].\n",
    "    \"\"\"\n",
    "    # Фильтруем DataFrame по профессии \"name\" и удаляем строки с пропусками в зарплатах\n",
    "    da_dropna_salary = df.loc[df['name'] == name].dropna(subset=['salary_from', 'salary_to'])\n",
    "\n",
    "    # Присваиваем городам, кроме Москвы и Санкт-Петербурга, метку \"Регионы\"\n",
    "    da_dropna_salary.loc[~da_dropna_salary['area'].isin(['Москва', 'Санкт-Петербург']), 'area'] = 'Регионы'\n",
    "\n",
    "    # Создаём сводную таблицу\n",
    "    heatmap_data_da = (\n",
    "        da_dropna_salary\n",
    "        .groupby(['area', 'experience'])\n",
    "        .agg(\n",
    "            salary_from_min=('salary_from', 'min'),\n",
    "            salary_from_max=('salary_from', 'max'),\n",
    "            salary_to_min=('salary_to', 'min'),\n",
    "            salary_to_max=('salary_to', 'max'),\n",
    "            count=('id', 'count')\n",
    "        )\n",
    "        .reset_index()\n",
    "        .sort_values(by=['salary_to_max', 'salary_from_max'], ascending=False)\n",
    "    )\n",
    "\n",
    "    # Устанавливаем индексы для корректного отображения тепловой карты\n",
    "    heatmap_data_da = heatmap_data_da.set_index(keys=['area', 'experience'])\n",
    "\n",
    "    return heatmap_data_da"
   ]
  },
  {
   "cell_type": "code",
   "execution_count": 44,
   "id": "39254591",
   "metadata": {},
   "outputs": [],
   "source": [
    "# строим таблицу для тепловой карты по фильтру \"Аналитик данных\"\n",
    "heatmap_data_da = prepare_heatmap_data(df, 'Аналитик данных')"
   ]
  },
  {
   "cell_type": "code",
   "execution_count": 45,
   "id": "60eb6dad",
   "metadata": {},
   "outputs": [],
   "source": [
    "# строим таблицу для тепловой карты по фильтру \"Инженер данных\"\n",
    "heatmap_data_sa = prepare_heatmap_data(df, 'Инженер данных')"
   ]
  },
  {
   "cell_type": "code",
   "execution_count": 46,
   "id": "4e25525a",
   "metadata": {},
   "outputs": [
    {
     "data": {
      "image/png": "[encoded data removed]",
      "text/plain": [
       "<Figure size 1500x1000 with 4 Axes>"
      ]
     },
     "metadata": {},
     "output_type": "display_data"
    }
   ],
   "source": [
    "# Строим хитмап, отражающий распределение вилок в разрезе города и опыта работы\n",
    "plt.figure(figsize=(15, 10))\n",
    "\n",
    "# Названия столбцов на графике\n",
    "new_column_names = ['Мин. зп ОТ', 'Макс. зп ОТ', 'Мин. зп ДО', 'Макс. зп ДО']\n",
    "\n",
    "# Первый график\n",
    "ax1 = plt.subplot(1, 2, 1)  # Удаляем столбец с подсчетом вакансий\n",
    "sns.heatmap(\n",
    "    heatmap_data_da.drop(columns=['count']),\n",
    "    annot=True,\n",
    "    fmt=\".0f\",\n",
    "    cmap=\"YlGnBu\",\n",
    "    xticklabels=new_column_names\n",
    ")\n",
    "plt.title('Аналитики данных')\n",
    "plt.xlabel(None)\n",
    "plt.ylabel(None)\n",
    "\n",
    "# Второй график\n",
    "ax2 = plt.subplot(1, 2, 2)  # Удаляем столбец с подсчетом вакансий\n",
    "sns.heatmap(\n",
    "    heatmap_data_sa.drop(columns=['count']),\n",
    "    annot=True,\n",
    "    fmt=\".0f\",\n",
    "    cmap=\"YlGnBu\",\n",
    "    xticklabels=new_column_names\n",
    ")\n",
    "plt.title('Инженеры данных')\n",
    "plt.xlabel(None)\n",
    "plt.ylabel(None)\n",
    "\n",
    "plt.tight_layout()\n",
    "plt.show()"
   ]
  },
  {
   "cell_type": "code",
   "execution_count": 47,
   "id": "9f969cb6",
   "metadata": {},
   "outputs": [
    {
     "data": {
      "text/html": [
       "<div>\n",
       "<style scoped>\n",
       "    .dataframe tbody tr th:only-of-type {\n",
       "        vertical-align: middle;\n",
       "    }\n",
       "\n",
       "    .dataframe tbody tr th {\n",
       "        vertical-align: top;\n",
       "    }\n",
       "\n",
       "    .dataframe thead th {\n",
       "        text-align: right;\n",
       "    }\n",
       "</style>\n",
       "<table border=\"1\" class=\"dataframe\">\n",
       "  <thead>\n",
       "    <tr style=\"text-align: right;\">\n",
       "      <th></th>\n",
       "      <th></th>\n",
       "      <th>salary_from_min</th>\n",
       "      <th>salary_from_max</th>\n",
       "      <th>salary_to_min</th>\n",
       "      <th>salary_to_max</th>\n",
       "      <th>count</th>\n",
       "    </tr>\n",
       "    <tr>\n",
       "      <th>area</th>\n",
       "      <th>experience</th>\n",
       "      <th></th>\n",
       "      <th></th>\n",
       "      <th></th>\n",
       "      <th></th>\n",
       "      <th></th>\n",
       "    </tr>\n",
       "  </thead>\n",
       "  <tbody>\n",
       "    <tr>\n",
       "      <th>Москва</th>\n",
       "      <th>middle (3-6 years)</th>\n",
       "      <td>78045.0</td>\n",
       "      <td>300000.0</td>\n",
       "      <td>78045.0</td>\n",
       "      <td>495550.0</td>\n",
       "      <td>18</td>\n",
       "    </tr>\n",
       "    <tr>\n",
       "      <th>Регионы</th>\n",
       "      <th>middle (3-6 years)</th>\n",
       "      <td>40000.0</td>\n",
       "      <td>350000.0</td>\n",
       "      <td>55000.0</td>\n",
       "      <td>400000.0</td>\n",
       "      <td>15</td>\n",
       "    </tr>\n",
       "    <tr>\n",
       "      <th rowspan=\"2\" valign=\"top\">Москва</th>\n",
       "      <th>senior (6+ years)</th>\n",
       "      <td>70000.0</td>\n",
       "      <td>200000.0</td>\n",
       "      <td>200000.0</td>\n",
       "      <td>280000.0</td>\n",
       "      <td>2</td>\n",
       "    </tr>\n",
       "    <tr>\n",
       "      <th>junior+ (1-3 years)</th>\n",
       "      <td>60000.0</td>\n",
       "      <td>233750.0</td>\n",
       "      <td>60000.0</td>\n",
       "      <td>130000.0</td>\n",
       "      <td>33</td>\n",
       "    </tr>\n",
       "    <tr>\n",
       "      <th>Регионы</th>\n",
       "      <th>junior+ (1-3 years)</th>\n",
       "      <td>28940.0</td>\n",
       "      <td>180000.0</td>\n",
       "      <td>35000.0</td>\n",
       "      <td>130000.0</td>\n",
       "      <td>41</td>\n",
       "    </tr>\n",
       "    <tr>\n",
       "      <th>Москва</th>\n",
       "      <th>junior (no experince)</th>\n",
       "      <td>26000.0</td>\n",
       "      <td>99500.0</td>\n",
       "      <td>26000.0</td>\n",
       "      <td>100000.0</td>\n",
       "      <td>8</td>\n",
       "    </tr>\n",
       "    <tr>\n",
       "      <th>Регионы</th>\n",
       "      <th>junior (no experince)</th>\n",
       "      <td>25000.0</td>\n",
       "      <td>85000.0</td>\n",
       "      <td>30000.0</td>\n",
       "      <td>85000.0</td>\n",
       "      <td>13</td>\n",
       "    </tr>\n",
       "  </tbody>\n",
       "</table>\n",
       "</div>"
      ],
      "text/plain": [
       "                               salary_from_min  salary_from_max  \\\n",
       "area    experience                                                \n",
       "Москва  middle (3-6 years)             78045.0         300000.0   \n",
       "Регионы middle (3-6 years)             40000.0         350000.0   \n",
       "Москва  senior (6+ years)              70000.0         200000.0   \n",
       "        junior+ (1-3 years)            60000.0         233750.0   \n",
       "Регионы junior+ (1-3 years)            28940.0         180000.0   \n",
       "Москва  junior (no experince)          26000.0          99500.0   \n",
       "Регионы junior (no experince)          25000.0          85000.0   \n",
       "\n",
       "                               salary_to_min  salary_to_max  count  \n",
       "area    experience                                                  \n",
       "Москва  middle (3-6 years)           78045.0       495550.0     18  \n",
       "Регионы middle (3-6 years)           55000.0       400000.0     15  \n",
       "Москва  senior (6+ years)           200000.0       280000.0      2  \n",
       "        junior+ (1-3 years)          60000.0       130000.0     33  \n",
       "Регионы junior+ (1-3 years)          35000.0       130000.0     41  \n",
       "Москва  junior (no experince)        26000.0       100000.0      8  \n",
       "Регионы junior (no experince)        30000.0        85000.0     13  "
      ]
     },
     "metadata": {},
     "output_type": "display_data"
    },
    {
     "data": {
      "text/html": [
       "<div>\n",
       "<style scoped>\n",
       "    .dataframe tbody tr th:only-of-type {\n",
       "        vertical-align: middle;\n",
       "    }\n",
       "\n",
       "    .dataframe tbody tr th {\n",
       "        vertical-align: top;\n",
       "    }\n",
       "\n",
       "    .dataframe thead th {\n",
       "        text-align: right;\n",
       "    }\n",
       "</style>\n",
       "<table border=\"1\" class=\"dataframe\">\n",
       "  <thead>\n",
       "    <tr style=\"text-align: right;\">\n",
       "      <th></th>\n",
       "      <th></th>\n",
       "      <th>salary_from_min</th>\n",
       "      <th>salary_from_max</th>\n",
       "      <th>salary_to_min</th>\n",
       "      <th>salary_to_max</th>\n",
       "      <th>count</th>\n",
       "    </tr>\n",
       "    <tr>\n",
       "      <th>area</th>\n",
       "      <th>experience</th>\n",
       "      <th></th>\n",
       "      <th></th>\n",
       "      <th></th>\n",
       "      <th></th>\n",
       "      <th></th>\n",
       "    </tr>\n",
       "  </thead>\n",
       "  <tbody>\n",
       "    <tr>\n",
       "      <th>Регионы</th>\n",
       "      <th>senior (6+ years)</th>\n",
       "      <td>350000.0</td>\n",
       "      <td>350000.0</td>\n",
       "      <td>420000.0</td>\n",
       "      <td>450000.0</td>\n",
       "      <td>2</td>\n",
       "    </tr>\n",
       "    <tr>\n",
       "      <th>Москва</th>\n",
       "      <th>middle (3-6 years)</th>\n",
       "      <td>80000.0</td>\n",
       "      <td>300000.0</td>\n",
       "      <td>120000.0</td>\n",
       "      <td>450000.0</td>\n",
       "      <td>54</td>\n",
       "    </tr>\n",
       "    <tr>\n",
       "      <th>Регионы</th>\n",
       "      <th>middle (3-6 years)</th>\n",
       "      <td>90000.0</td>\n",
       "      <td>208818.0</td>\n",
       "      <td>130000.0</td>\n",
       "      <td>350000.0</td>\n",
       "      <td>27</td>\n",
       "    </tr>\n",
       "    <tr>\n",
       "      <th rowspan=\"2\" valign=\"top\">Москва</th>\n",
       "      <th>senior (6+ years)</th>\n",
       "      <td>180000.0</td>\n",
       "      <td>280000.0</td>\n",
       "      <td>290000.0</td>\n",
       "      <td>340000.0</td>\n",
       "      <td>4</td>\n",
       "    </tr>\n",
       "    <tr>\n",
       "      <th>junior+ (1-3 years)</th>\n",
       "      <td>40000.0</td>\n",
       "      <td>350000.0</td>\n",
       "      <td>80000.0</td>\n",
       "      <td>130000.0</td>\n",
       "      <td>32</td>\n",
       "    </tr>\n",
       "    <tr>\n",
       "      <th>Регионы</th>\n",
       "      <th>junior+ (1-3 years)</th>\n",
       "      <td>43000.0</td>\n",
       "      <td>240000.0</td>\n",
       "      <td>43000.0</td>\n",
       "      <td>130000.0</td>\n",
       "      <td>45</td>\n",
       "    </tr>\n",
       "    <tr>\n",
       "      <th>Москва</th>\n",
       "      <th>junior (no experince)</th>\n",
       "      <td>20000.0</td>\n",
       "      <td>80000.0</td>\n",
       "      <td>20000.0</td>\n",
       "      <td>100000.0</td>\n",
       "      <td>5</td>\n",
       "    </tr>\n",
       "    <tr>\n",
       "      <th>Регионы</th>\n",
       "      <th>junior (no experince)</th>\n",
       "      <td>30000.0</td>\n",
       "      <td>80000.0</td>\n",
       "      <td>40000.0</td>\n",
       "      <td>100000.0</td>\n",
       "      <td>26</td>\n",
       "    </tr>\n",
       "  </tbody>\n",
       "</table>\n",
       "</div>"
      ],
      "text/plain": [
       "                               salary_from_min  salary_from_max  \\\n",
       "area    experience                                                \n",
       "Регионы senior (6+ years)             350000.0         350000.0   \n",
       "Москва  middle (3-6 years)             80000.0         300000.0   \n",
       "Регионы middle (3-6 years)             90000.0         208818.0   \n",
       "Москва  senior (6+ years)             180000.0         280000.0   \n",
       "        junior+ (1-3 years)            40000.0         350000.0   \n",
       "Регионы junior+ (1-3 years)            43000.0         240000.0   \n",
       "Москва  junior (no experince)          20000.0          80000.0   \n",
       "Регионы junior (no experince)          30000.0          80000.0   \n",
       "\n",
       "                               salary_to_min  salary_to_max  count  \n",
       "area    experience                                                  \n",
       "Регионы senior (6+ years)           420000.0       450000.0      2  \n",
       "Москва  middle (3-6 years)          120000.0       450000.0     54  \n",
       "Регионы middle (3-6 years)          130000.0       350000.0     27  \n",
       "Москва  senior (6+ years)           290000.0       340000.0      4  \n",
       "        junior+ (1-3 years)          80000.0       130000.0     32  \n",
       "Регионы junior+ (1-3 years)          43000.0       130000.0     45  \n",
       "Москва  junior (no experince)        20000.0       100000.0      5  \n",
       "Регионы junior (no experince)        40000.0       100000.0     26  "
      ]
     },
     "metadata": {},
     "output_type": "display_data"
    }
   ],
   "source": [
    "# Обязательно строим сводную таблицу для наглядности\n",
    "display(heatmap_data_da, heatmap_data_sa)"
   ]
  },
  {
   "cell_type": "markdown",
   "id": "e7bcf3aa",
   "metadata": {},
   "source": [
    "Разброс зарплат оказался очень большим. Ожидалось, что верхняя граница зарплаты в категории “от” будет близка к нижней границе в категории “до”, но на самом деле ситуация совсем иная. Зарплаты равномерно распределены между всеми грейдами.\n",
    "\n",
    "Самая высокая зарплата — 500 000 у аналитиков, для инженеров — 450 000. У сеньоров зарплаты стабилизируются и не растут в пределах всех регионов, а также в Москве и Санкт-Петербурге. Для джунов предложения варьируются от 30 000 до 130 000, что также свидетельствует о большом разбросе."
   ]
  },
  {
   "cell_type": "markdown",
   "id": "91e2a57c",
   "metadata": {},
   "source": [
    "[Вернуться к плану](#plan)"
   ]
  },
  {
   "cell_type": "markdown",
   "id": "68f83900",
   "metadata": {},
   "source": [
    "#### **Как распределяются вакансии для аналитиков данных и инженеров данных по навыкам?**"
   ]
  },
  {
   "cell_type": "markdown",
   "id": "bd504062",
   "metadata": {},
   "source": [
    "Для каждой профессии определим топ-30 самых часто встречающихся навыков и визуализируем их распределение.\n",
    "\n",
    "Выполним предобработку в столбце:\n",
    "\n",
    "- обработаем неявные дубликаты\n",
    "- обработаем синонимы\n",
    "- напишем функцию, которая вернет сводную таблицу с топ навыками и количеством\n",
    "- применим функцию\n",
    "- добавим маркер True/False, обозначающий пересечение навыков между вакансиями\n",
    "- построим визуализацию\n",
    "- сделаем вывод"
   ]
  },
  {
   "cell_type": "code",
   "execution_count": 48,
   "id": "0fad279d",
   "metadata": {},
   "outputs": [],
   "source": [
    "# Заменим неявные дубликаты в датасете\n",
    "df['key_skills_from_key_skills_field'] = (\n",
    "    df['key_skills_from_key_skills_field']\n",
    "    .replace(  # Все синонимы заменяем на одно название\n",
    "        ['Аналитика', 'Data Analysis', 'Аналитические исследования', 'Сбор и анализ информации'],\n",
    "        'Анализ данных'\n",
    "    )\n",
    "    .replace(\n",
    "        ['Базы данных'],\n",
    "        'Работа с базами данных'\n",
    "    )\n",
    ")"
   ]
  },
  {
   "cell_type": "code",
   "execution_count": 49,
   "id": "4c0fd036",
   "metadata": {},
   "outputs": [],
   "source": [
    "def get_top_skills(df, job_title, skills_column, top_n=30, dropna=True):\n",
    "    \"\"\"\n",
    "    Фильтрует датафрейм по названию должности, извлекает ключевые навыки,\n",
    "    разбивает их и считает частоту, возвращая топ N навыков.\n",
    "    \n",
    "    df (pd.DataFrame): Исходный датафрейм.\n",
    "    job_title (str): Название должности для фильтрации.\n",
    "    skills_column (str): Имя столбца с ключевыми навыками.\n",
    "    top_n (int): Количество навыков в топе (по умолчанию 30).\n",
    "    \n",
    "    Возвращает:\n",
    "        pd.Series: Топ N навыков и их количество.\n",
    "    \"\"\"\n",
    "    # Фильтруем по названию должности\n",
    "    filtered_df = df.loc[df['name'] == job_title, skills_column]\n",
    "    \n",
    "    # Разделяем навыки по запятой\n",
    "    filtered_df = filtered_df.str.split(', ')\n",
    "    \n",
    "    # Разбиваем навыки в отдельные строки\n",
    "    exploded_skills = filtered_df.explode()\n",
    "    \n",
    "    # Форматируем в DataFrame\n",
    "    top_skills_df = pd.DataFrame(exploded_skills)\n",
    "\n",
    "    # Заменяем пустые строки на NaN\n",
    "    top_skills_df.loc[top_skills_df[skills_column] == '', skills_column] = np.nan\n",
    "    \n",
    "    # Если хотим не показывать пропуски в данных\n",
    "    if dropna:      \n",
    "        # Сортируем и выводим топ\n",
    "        top_skills_df = top_skills_df.value_counts(ascending=False).reset_index().head(top_n)\n",
    "    # Если хотим показывать пропуски в данных\n",
    "    else:\n",
    "        # Форматируем в DataFrame и сортируем, выводим топ\n",
    "        top_skills_df = top_skills_df.value_counts(ascending=False, dropna=False).reset_index().head(top_n)\n",
    "        \n",
    "    # Возвращаем обработанные данные\n",
    "    return top_skills_df"
   ]
  },
  {
   "cell_type": "code",
   "execution_count": 50,
   "id": "240f0ed0",
   "metadata": {
    "scrolled": true
   },
   "outputs": [],
   "source": [
    "# Получаем датафрейм с топ навыками для аналитиков\n",
    "da_top_skills = get_top_skills(df, 'Аналитик данных', 'key_skills_from_key_skills_field')"
   ]
  },
  {
   "cell_type": "code",
   "execution_count": 51,
   "id": "b71292da",
   "metadata": {},
   "outputs": [],
   "source": [
    "# Получаем датафрейм с топ навыками на инженеров данных\n",
    "sa_top_skills = get_top_skills(df, 'Инженер данных', 'key_skills_from_key_skills_field')"
   ]
  },
  {
   "cell_type": "markdown",
   "id": "0e9b4486",
   "metadata": {},
   "source": [
    "Визуализируем результаты: представим данные таким образом, чтобы на графике было видно топ-30 самых часто встречающихся навыков для каждой профессии, а также какие из них встречаются в вакансиях других профессий. Это позволит нам понять, какие навыки востребованы в каждой профессии."
   ]
  },
  {
   "cell_type": "code",
   "execution_count": 52,
   "id": "9239361d",
   "metadata": {},
   "outputs": [],
   "source": [
    "# Добавляем новый столбец True или False - пересекаются ли навыки\n",
    "# в таблицу с аналитиками данных\n",
    "da_top_skills['is_overlap'] = (\n",
    "    da_top_skills['key_skills_from_key_skills_field']\n",
    "    .isin(sa_top_skills['key_skills_from_key_skills_field'].head(30))\n",
    ")"
   ]
  },
  {
   "cell_type": "code",
   "execution_count": 53,
   "id": "ea7e965f",
   "metadata": {},
   "outputs": [],
   "source": [
    "# добавляем новый столбец True или False - пересекаются ли навыки\n",
    "# в таблицу с инженерами данных\n",
    "sa_top_skills['is_overlap'] = (\n",
    "    sa_top_skills['key_skills_from_key_skills_field']\n",
    "    .isin(da_top_skills['key_skills_from_key_skills_field'].head(30))\n",
    ")"
   ]
  },
  {
   "cell_type": "code",
   "execution_count": 54,
   "id": "69a52f09",
   "metadata": {},
   "outputs": [
    {
     "data": {
      "image/png": "[encoded data removed]",
      "text/plain": [
       "<Figure size 2000x1000 with 2 Axes>"
      ]
     },
     "metadata": {},
     "output_type": "display_data"
    }
   ],
   "source": [
    "# Строим график\n",
    "fig, axes = plt.subplots(1, 2, figsize=(20, 10))\n",
    "\n",
    "# Выделение цветов по критерию\n",
    "colors = sns.color_palette('muted')\n",
    "colors = {  # Здесь можно подставить любой цвет\n",
    "    True: colors[9],\n",
    "    False: colors[2]\n",
    "}\n",
    "\n",
    "sns.barplot(\n",
    "    ax=axes[0],\n",
    "    data=da_top_skills.head(30),  # Первый график для аналитиков данных\n",
    "    x='count',  # Отображает топ-30 востребованных навыков\n",
    "    y='key_skills_from_key_skills_field',\n",
    "    orient='h',\n",
    "    palette=da_top_skills['is_overlap'].map(colors)  # Накладываем цвета\n",
    ")\n",
    "axes[0].set_title('Аналитики данных')\n",
    "axes[0].set_ylabel(None)\n",
    "axes[0].set_xlabel('Частота')\n",
    "\n",
    "sns.barplot(\n",
    "    ax=axes[1],\n",
    "    data=sa_top_skills.head(30),  # Первый график для инженеров данных\n",
    "    x='count',  # Отображает топ-30 востребованных навыков\n",
    "    y='key_skills_from_key_skills_field',\n",
    "    orient='h',\n",
    "    palette=sa_top_skills['is_overlap'].map(colors)  # Накладываем цвета\n",
    ")\n",
    "axes[1].set_title('Инженеры данных')\n",
    "axes[1].set_ylabel(None)\n",
    "axes[1].set_xlabel('Частота')\n",
    "\n",
    "fig.suptitle('Топ навыков для каждой профессии и их пересечение', fontsize=20)\n",
    "plt.show()"
   ]
  },
  {
   "cell_type": "markdown",
   "id": "06ec6eef",
   "metadata": {},
   "source": [
    "Есть навыки, которые требуются только аналитикам, есть только инженерам, а есть и такие, которые востребованы в обеих профессиях.\n",
    "\n",
    " Только для аналитиков:\n",
    "- Python\n",
    "- Power BI\n",
    "- MS Excel\n",
    "- Математическая статистика\n",
    "- Tableau\n",
    "- PowerPoint\n",
    "- Big Data\n",
    "- А/Б тесты\n",
    "- ETL\n",
    "\n",
    "Только для инженеров:\n",
    "- BPMN\n",
    "- UML\n",
    "- REST\n",
    "- SOAP\n",
    "- XML\n",
    "- API\n",
    "- Разработка технических заданий\n",
    "- Постановка задач разработчикам\n",
    "\n",
    "Пересечение навыков:\n",
    "- SQL\n",
    "- Работа с базами данных\n",
    "- Аналитическое мышление\n",
    "- Бизнес-анализ"
   ]
  },
  {
   "cell_type": "markdown",
   "id": "3e949045",
   "metadata": {},
   "source": [
    "#### **Как распределяются вакансии для аналитиков данных и инженеров данных по опыту?**"
   ]
  },
  {
   "cell_type": "markdown",
   "id": "9c6f5256",
   "metadata": {},
   "source": [
    "Ответим на вопрос визуализацией:\n",
    "   \n",
    "- Отфильтруем датасет по профессиям\n",
    "- Построим визуализации\n",
    "- Проанализируем данные и сделаем выводы"
   ]
  },
  {
   "cell_type": "code",
   "execution_count": 55,
   "id": "b706c8f7",
   "metadata": {},
   "outputs": [
    {
     "data": {
      "text/html": [
       "<div>\n",
       "<style scoped>\n",
       "    .dataframe tbody tr th:only-of-type {\n",
       "        vertical-align: middle;\n",
       "    }\n",
       "\n",
       "    .dataframe tbody tr th {\n",
       "        vertical-align: top;\n",
       "    }\n",
       "\n",
       "    .dataframe thead th {\n",
       "        text-align: right;\n",
       "    }\n",
       "</style>\n",
       "<table border=\"1\" class=\"dataframe\">\n",
       "  <thead>\n",
       "    <tr style=\"text-align: right;\">\n",
       "      <th>experience</th>\n",
       "      <th>junior (no experince)</th>\n",
       "      <th>junior+ (1-3 years)</th>\n",
       "      <th>middle (3-6 years)</th>\n",
       "      <th>senior (6+ years)</th>\n",
       "    </tr>\n",
       "    <tr>\n",
       "      <th>name</th>\n",
       "      <th></th>\n",
       "      <th></th>\n",
       "      <th></th>\n",
       "      <th></th>\n",
       "    </tr>\n",
       "  </thead>\n",
       "  <tbody>\n",
       "    <tr>\n",
       "      <th>Аналитик данных</th>\n",
       "      <td>119</td>\n",
       "      <td>829</td>\n",
       "      <td>419</td>\n",
       "      <td>10</td>\n",
       "    </tr>\n",
       "  </tbody>\n",
       "</table>\n",
       "</div>"
      ],
      "text/plain": [
       "experience       junior (no experince)  junior+ (1-3 years)  \\\n",
       "name                                                          \n",
       "Аналитик данных                    119                  829   \n",
       "\n",
       "experience       middle (3-6 years)  senior (6+ years)  \n",
       "name                                                    \n",
       "Аналитик данных                 419                 10  "
      ]
     },
     "metadata": {},
     "output_type": "display_data"
    },
    {
     "data": {
      "text/html": [
       "<div>\n",
       "<style scoped>\n",
       "    .dataframe tbody tr th:only-of-type {\n",
       "        vertical-align: middle;\n",
       "    }\n",
       "\n",
       "    .dataframe tbody tr th {\n",
       "        vertical-align: top;\n",
       "    }\n",
       "\n",
       "    .dataframe thead th {\n",
       "        text-align: right;\n",
       "    }\n",
       "</style>\n",
       "<table border=\"1\" class=\"dataframe\">\n",
       "  <thead>\n",
       "    <tr style=\"text-align: right;\">\n",
       "      <th>experience</th>\n",
       "      <th>junior (no experince)</th>\n",
       "      <th>junior+ (1-3 years)</th>\n",
       "      <th>middle (3-6 years)</th>\n",
       "      <th>senior (6+ years)</th>\n",
       "    </tr>\n",
       "    <tr>\n",
       "      <th>name</th>\n",
       "      <th></th>\n",
       "      <th></th>\n",
       "      <th></th>\n",
       "      <th></th>\n",
       "    </tr>\n",
       "  </thead>\n",
       "  <tbody>\n",
       "    <tr>\n",
       "      <th>Инженер данных</th>\n",
       "      <td>85</td>\n",
       "      <td>822</td>\n",
       "      <td>876</td>\n",
       "      <td>44</td>\n",
       "    </tr>\n",
       "  </tbody>\n",
       "</table>\n",
       "</div>"
      ],
      "text/plain": [
       "experience      junior (no experince)  junior+ (1-3 years)  \\\n",
       "name                                                         \n",
       "Инженер данных                     85                  822   \n",
       "\n",
       "experience      middle (3-6 years)  senior (6+ years)  \n",
       "name                                                   \n",
       "Инженер данных                 876                 44  "
      ]
     },
     "metadata": {},
     "output_type": "display_data"
    }
   ],
   "source": [
    "# Фильтруем по профессии\n",
    "da = df.loc[df['name'] == 'Аналитик данных']\n",
    "sa = df.loc[df['name'] == 'Инженер данных']\n",
    "\n",
    "values = [da, sa]\n",
    "\n",
    "# Выводим сводные таблицы\n",
    "for col in values:\n",
    "    display(\n",
    "        col.pivot_table(\n",
    "            index='name',\n",
    "            columns='experience',\n",
    "            values='id',\n",
    "            aggfunc='count'\n",
    "        )\n",
    "    )"
   ]
  },
  {
   "cell_type": "code",
   "execution_count": 56,
   "id": "fc1cb28c",
   "metadata": {
    "scrolled": false
   },
   "outputs": [
    {
     "data": {
      "image/png": "[encoded data removed]",
      "text/plain": [
       "<Figure size 1500x1000 with 2 Axes>"
      ]
     },
     "metadata": {},
     "output_type": "display_data"
    }
   ],
   "source": [
    "# Заголовки для графиков\n",
    "titles = ['Аналитики данных', 'Инженеры данных']\n",
    "\n",
    "# Размер и сетка для графиков\n",
    "fig, axes = plt.subplots(1, 2, figsize=(15, 10), sharey=True)\n",
    "\n",
    "# Цикл присваивает индекс, таблицу и название\n",
    "for i, (col, title) in enumerate(zip(values, titles)):\n",
    "    plt.subplot(1, 2, i + 1)  # Перебираем, в какую ячейку ставить графики\n",
    "    pivot_table = (\n",
    "        col.pivot_table(\n",
    "            index='experience',\n",
    "            values='id',\n",
    "            aggfunc='count'\n",
    "        ).reset_index()\n",
    "    )\n",
    "    sns.barplot(data=pivot_table, x='experience', y='id')\n",
    "    # Подписываем каждый график\n",
    "    plt.title(title)\n",
    "    plt.xlabel('Опыт')\n",
    "    plt.ylabel(None)\n",
    "\n",
    "# Общее название оси Y\n",
    "fig.supylabel('Частота')\n",
    "\n",
    "fig.suptitle('Количество вакансий по опыту', fontsize=20)\n",
    "plt.tight_layout()\n",
    "plt.show()"
   ]
  },
  {
   "cell_type": "markdown",
   "id": "5acb47d1",
   "metadata": {},
   "source": [
    "Для джунов с опытом и мидлов вакансий на инженера данных больше, чем на аналитика. Для аналитиков количество вакансий на джуна с опытом сопоставимо с вакансиями для инженеров, однако на мидла их в два раза меньше."
   ]
  },
  {
   "cell_type": "markdown",
   "id": "e4303102",
   "metadata": {},
   "source": [
    "[Вернуться к плану](#plan)"
   ]
  },
  {
   "cell_type": "markdown",
   "id": "827fbd36",
   "metadata": {},
   "source": [
    "<a id='time'></a>\n",
    "### Изучение изменений количества вакансий с течением времени."
   ]
  },
  {
   "cell_type": "markdown",
   "id": "952141d7",
   "metadata": {},
   "source": [
    "Изучим как менялось количество объявлений с течением времени:\n",
    "\n",
    "- Выделим номер месяца из даты публикации\n",
    "- Построим сводную таблицу, аггрегируем данные\n",
    "- Построим визуализацию\n",
    "- Проанализируем результаты и сделаем выводы"
   ]
  },
  {
   "cell_type": "code",
   "execution_count": 57,
   "id": "2036a003",
   "metadata": {},
   "outputs": [],
   "source": [
    "# выделим месяц публикации объявления из колонки с датой\n",
    "df['month_published'] = df['published_at'].dt.month"
   ]
  },
  {
   "cell_type": "code",
   "execution_count": 58,
   "id": "9fc3b311",
   "metadata": {},
   "outputs": [],
   "source": [
    "# создадим сводную таблицу и подсчитаем количество вакансий на каждый месяц\n",
    "plot_data = df.groupby('month_published').agg(count=('id', 'count')).sort_values(by=['month_published'])"
   ]
  },
  {
   "cell_type": "code",
   "execution_count": 59,
   "id": "30ae9081",
   "metadata": {},
   "outputs": [
    {
     "data": {
      "image/png": "[encoded data removed]",
      "text/plain": [
       "<Figure size 800x600 with 1 Axes>"
      ]
     },
     "metadata": {},
     "output_type": "display_data"
    }
   ],
   "source": [
    "# построим визуализацию\n",
    "plt.figure(figsize=(8, 6))\n",
    "\n",
    "sns.lineplot(data=plot_data,\n",
    "            x='month_published',\n",
    "            y='count')\n",
    "plt.title('Изменение количества вакансий во времени')\n",
    "plt.xlabel('Номер месяца')\n",
    "plt.ylabel('Количество вакансий')\n",
    "plt.show()"
   ]
  },
  {
   "cell_type": "markdown",
   "id": "277a1c94",
   "metadata": {},
   "source": [
    "С течением времени количество вакансий все растет. В качестве гипотезы можно выдвинуть предположение, что в данных ошибка, которая возникла в процессе парсинга сайта. В седьмой месяц количество объявлений достигаем максимума - 1600 в месяц. "
   ]
  },
  {
   "cell_type": "markdown",
   "id": "f1f208ec",
   "metadata": {},
   "source": [
    "[Вернуться к плану](#plan)\n"
   ]
  },
  {
   "cell_type": "markdown",
   "id": "b4d0d55d",
   "metadata": {},
   "source": [
    "<a id='job'></a>\n",
    "### Анализ типичных мест работы для обеих специальностей(в разрезе грейдов):\n",
    "по следующим параметрам: ТОП-работодателей, зарплата, тип занятости, график работы"
   ]
  },
  {
   "cell_type": "markdown",
   "id": "1444b2b7",
   "metadata": {},
   "source": [
    "В силу того что в задачи указаны относительные формулировки будем руководствоваться логикий и рассудим так:\n",
    "\n",
    "+ Топ работодателей будем определеять по количеству размещенных вакансий от компаний; возьмем топ-5\n",
    "+ зарплату посчитаем самую часто встречающуюся (mode) \n",
    "+ найдем самый часто встречающийся тип занятости\n",
    "+ и самый часто встречающий график работы\n",
    "\n",
    "* в конце попробуем собрать по всем параметрам сразу: ТОП-работодателей, зарплата, тип занятости, график работы"
   ]
  },
  {
   "cell_type": "code",
   "execution_count": 60,
   "id": "bbc24d22",
   "metadata": {},
   "outputs": [],
   "source": [
    "# т1 заменяем на \"иннотех\" для удобства\n",
    "df.loc[df['employer'] == 'т1', 'employer'] = 'иннотех'"
   ]
  },
  {
   "cell_type": "code",
   "execution_count": 61,
   "id": "116ad1d0",
   "metadata": {},
   "outputs": [
    {
     "data": {
      "text/plain": [
       "employer                             \n",
       "сбер                                     205\n",
       "иннотех                                   82\n",
       "aston                                     60\n",
       "совкомбанк технологии                     37\n",
       "псб (пао «промсвязьбанк»)                 36\n",
       "мтс                                       35\n",
       "wildberries                               31\n",
       "банк втб (пао)                            30\n",
       "ozon                                      28\n",
       "центральный банк российской федерации     25\n",
       "Name: count, dtype: int64"
      ]
     },
     "execution_count": 61,
     "metadata": {},
     "output_type": "execute_result"
    }
   ],
   "source": [
    "# находим топ-10 работодателей\n",
    "df[['employer']].value_counts().sort_values(ascending=False).head(10)"
   ]
  },
  {
   "cell_type": "code",
   "execution_count": 62,
   "id": "2f4b670a",
   "metadata": {},
   "outputs": [
    {
     "data": {
      "text/html": [
       "<div>\n",
       "<style scoped>\n",
       "    .dataframe tbody tr th:only-of-type {\n",
       "        vertical-align: middle;\n",
       "    }\n",
       "\n",
       "    .dataframe tbody tr th {\n",
       "        vertical-align: top;\n",
       "    }\n",
       "\n",
       "    .dataframe thead th {\n",
       "        text-align: right;\n",
       "    }\n",
       "</style>\n",
       "<table border=\"1\" class=\"dataframe\">\n",
       "  <thead>\n",
       "    <tr style=\"text-align: right;\">\n",
       "      <th></th>\n",
       "      <th>salary_from</th>\n",
       "      <th>salary_to</th>\n",
       "    </tr>\n",
       "  </thead>\n",
       "  <tbody>\n",
       "    <tr>\n",
       "      <th>0</th>\n",
       "      <td>150000.0</td>\n",
       "      <td>130000.0</td>\n",
       "    </tr>\n",
       "  </tbody>\n",
       "</table>\n",
       "</div>"
      ],
      "text/plain": [
       "   salary_from  salary_to\n",
       "0     150000.0   130000.0"
      ]
     },
     "execution_count": 62,
     "metadata": {},
     "output_type": "execute_result"
    }
   ],
   "source": [
    "# ищем самую частую зп в нижних и верхних границах\n",
    "df[['salary_from', 'salary_to']].mode()"
   ]
  },
  {
   "cell_type": "code",
   "execution_count": 63,
   "id": "a9a8031e",
   "metadata": {
    "scrolled": true
   },
   "outputs": [
    {
     "data": {
      "text/plain": [
       "employment\n",
       "Полная занятость       0.978464\n",
       "Стажировка             0.013421\n",
       "Частичная занятость    0.005930\n",
       "Проектная работа       0.002185\n",
       "Name: proportion, dtype: float64"
      ]
     },
     "execution_count": 63,
     "metadata": {},
     "output_type": "execute_result"
    }
   ],
   "source": [
    "# тип \"Полная занятость\" занимает в датасете 97% - будем считать его самым типичным\n",
    "df['employment'].value_counts(normalize=True)"
   ]
  },
  {
   "cell_type": "code",
   "execution_count": 64,
   "id": "11274514",
   "metadata": {},
   "outputs": [
    {
     "data": {
      "text/plain": [
       "schedule\n",
       "Полный день         2230\n",
       "Удаленная работа     877\n",
       "Гибкий график         90\n",
       "Сменный график         7\n",
       "Name: count, dtype: int64"
      ]
     },
     "execution_count": 64,
     "metadata": {},
     "output_type": "execute_result"
    }
   ],
   "source": [
    "# находим самый типичный график работы\n",
    "df['schedule'].value_counts()"
   ]
  },
  {
   "cell_type": "markdown",
   "id": "1651105f",
   "metadata": {},
   "source": [
    "Теперь мы знаем все переменные для \"типичного\" места работы:\n",
    "\n",
    "**Топ работодателей:**\n",
    "+ сбер                                     \n",
    "+ иннотех                                  \n",
    "+ aston                                     \n",
    "+ совкомбанк технологии                     \n",
    "+ псб (пао «промсвязьбанк»)                 \n",
    "+ мтс                                       \n",
    "+ wildberries                               \n",
    "+ банк втб (пао)                            \n",
    "+ ozon                                      \n",
    "+ центральный банк российской федерации     \n",
    "\n",
    "**Типичная зп**\n",
    "+ от 150.000 рублей \n",
    "+ до 300.000 рублей\n",
    "\n",
    "**Типичный тип занятости**\n",
    "+ Полная занятость (97%) вакансий\n",
    "\n",
    "**Типичный график работы**\n",
    "+ Полный день"
   ]
  },
  {
   "cell_type": "markdown",
   "id": "e6d38478",
   "metadata": {},
   "source": [
    "Составим профиль типичного места работы: отфильтруем датасет по тип занятости, графику работы и посчитаем медианные нижней и верхней границ зп для топ-10 работодателей и для каждого грейда:"
   ]
  },
  {
   "cell_type": "code",
   "execution_count": 65,
   "id": "646ef0f3",
   "metadata": {},
   "outputs": [
    {
     "data": {
      "text/html": [
       "<div>\n",
       "<style scoped>\n",
       "    .dataframe tbody tr th:only-of-type {\n",
       "        vertical-align: middle;\n",
       "    }\n",
       "\n",
       "    .dataframe tbody tr th {\n",
       "        vertical-align: top;\n",
       "    }\n",
       "\n",
       "    .dataframe thead th {\n",
       "        text-align: right;\n",
       "    }\n",
       "</style>\n",
       "<table border=\"1\" class=\"dataframe\">\n",
       "  <thead>\n",
       "    <tr style=\"text-align: right;\">\n",
       "      <th></th>\n",
       "      <th></th>\n",
       "      <th></th>\n",
       "      <th>count</th>\n",
       "      <th>median_salary_from</th>\n",
       "      <th>median_salary_to</th>\n",
       "    </tr>\n",
       "    <tr>\n",
       "      <th>name</th>\n",
       "      <th>employer</th>\n",
       "      <th>experience</th>\n",
       "      <th></th>\n",
       "      <th></th>\n",
       "      <th></th>\n",
       "    </tr>\n",
       "  </thead>\n",
       "  <tbody>\n",
       "    <tr>\n",
       "      <th rowspan=\"2\" valign=\"top\">Аналитик данных</th>\n",
       "      <th rowspan=\"2\" valign=\"top\">сбер</th>\n",
       "      <th>junior+ (1-3 years)</th>\n",
       "      <td>80</td>\n",
       "      <td>95000.0</td>\n",
       "      <td>85000.0</td>\n",
       "    </tr>\n",
       "    <tr>\n",
       "      <th>middle (3-6 years)</th>\n",
       "      <td>38</td>\n",
       "      <td>NaN</td>\n",
       "      <td>NaN</td>\n",
       "    </tr>\n",
       "    <tr>\n",
       "      <th rowspan=\"4\" valign=\"top\">Инженер данных</th>\n",
       "      <th rowspan=\"2\" valign=\"top\">сбер</th>\n",
       "      <th>middle (3-6 years)</th>\n",
       "      <td>36</td>\n",
       "      <td>208818.0</td>\n",
       "      <td>280000.0</td>\n",
       "    </tr>\n",
       "    <tr>\n",
       "      <th>junior+ (1-3 years)</th>\n",
       "      <td>33</td>\n",
       "      <td>200000.0</td>\n",
       "      <td>130000.0</td>\n",
       "    </tr>\n",
       "    <tr>\n",
       "      <th>иннотех</th>\n",
       "      <th>middle (3-6 years)</th>\n",
       "      <td>31</td>\n",
       "      <td>NaN</td>\n",
       "      <td>NaN</td>\n",
       "    </tr>\n",
       "    <tr>\n",
       "      <th>совкомбанк технологии</th>\n",
       "      <th>junior+ (1-3 years)</th>\n",
       "      <td>22</td>\n",
       "      <td>NaN</td>\n",
       "      <td>NaN</td>\n",
       "    </tr>\n",
       "    <tr>\n",
       "      <th>Аналитик данных</th>\n",
       "      <th>банк втб (пао)</th>\n",
       "      <th>junior+ (1-3 years)</th>\n",
       "      <td>21</td>\n",
       "      <td>NaN</td>\n",
       "      <td>NaN</td>\n",
       "    </tr>\n",
       "    <tr>\n",
       "      <th rowspan=\"3\" valign=\"top\">Инженер данных</th>\n",
       "      <th>т-банк</th>\n",
       "      <th>middle (3-6 years)</th>\n",
       "      <td>17</td>\n",
       "      <td>NaN</td>\n",
       "      <td>NaN</td>\n",
       "    </tr>\n",
       "    <tr>\n",
       "      <th>красное &amp; белое, розничная сеть</th>\n",
       "      <th>junior+ (1-3 years)</th>\n",
       "      <td>16</td>\n",
       "      <td>180000.0</td>\n",
       "      <td>NaN</td>\n",
       "    </tr>\n",
       "    <tr>\n",
       "      <th>совкомбанк технологии</th>\n",
       "      <th>middle (3-6 years)</th>\n",
       "      <td>15</td>\n",
       "      <td>NaN</td>\n",
       "      <td>NaN</td>\n",
       "    </tr>\n",
       "    <tr>\n",
       "      <th>Аналитик данных</th>\n",
       "      <th>мтс</th>\n",
       "      <th>junior+ (1-3 years)</th>\n",
       "      <td>14</td>\n",
       "      <td>72000.0</td>\n",
       "      <td>NaN</td>\n",
       "    </tr>\n",
       "    <tr>\n",
       "      <th>Инженер данных</th>\n",
       "      <th>псб (пао «промсвязьбанк»)</th>\n",
       "      <th>middle (3-6 years)</th>\n",
       "      <td>12</td>\n",
       "      <td>NaN</td>\n",
       "      <td>NaN</td>\n",
       "    </tr>\n",
       "    <tr>\n",
       "      <th rowspan=\"2\" valign=\"top\">Аналитик данных</th>\n",
       "      <th>центральный банк российской федерации</th>\n",
       "      <th>junior+ (1-3 years)</th>\n",
       "      <td>11</td>\n",
       "      <td>NaN</td>\n",
       "      <td>NaN</td>\n",
       "    </tr>\n",
       "    <tr>\n",
       "      <th>марс</th>\n",
       "      <th>junior+ (1-3 years)</th>\n",
       "      <td>10</td>\n",
       "      <td>NaN</td>\n",
       "      <td>NaN</td>\n",
       "    </tr>\n",
       "  </tbody>\n",
       "</table>\n",
       "</div>"
      ],
      "text/plain": [
       "                                                                           count  \\\n",
       "name            employer                              experience                   \n",
       "Аналитик данных сбер                                  junior+ (1-3 years)     80   \n",
       "                                                      middle (3-6 years)      38   \n",
       "Инженер данных  сбер                                  middle (3-6 years)      36   \n",
       "                                                      junior+ (1-3 years)     33   \n",
       "                иннотех                               middle (3-6 years)      31   \n",
       "                совкомбанк технологии                 junior+ (1-3 years)     22   \n",
       "Аналитик данных банк втб (пао)                        junior+ (1-3 years)     21   \n",
       "Инженер данных  т-банк                                middle (3-6 years)      17   \n",
       "                красное & белое, розничная сеть       junior+ (1-3 years)     16   \n",
       "                совкомбанк технологии                 middle (3-6 years)      15   \n",
       "Аналитик данных мтс                                   junior+ (1-3 years)     14   \n",
       "Инженер данных  псб (пао «промсвязьбанк»)             middle (3-6 years)      12   \n",
       "Аналитик данных центральный банк российской федерации junior+ (1-3 years)     11   \n",
       "                марс                                  junior+ (1-3 years)     10   \n",
       "\n",
       "                                                                           median_salary_from  \\\n",
       "name            employer                              experience                                \n",
       "Аналитик данных сбер                                  junior+ (1-3 years)             95000.0   \n",
       "                                                      middle (3-6 years)                  NaN   \n",
       "Инженер данных  сбер                                  middle (3-6 years)             208818.0   \n",
       "                                                      junior+ (1-3 years)            200000.0   \n",
       "                иннотех                               middle (3-6 years)                  NaN   \n",
       "                совкомбанк технологии                 junior+ (1-3 years)                 NaN   \n",
       "Аналитик данных банк втб (пао)                        junior+ (1-3 years)                 NaN   \n",
       "Инженер данных  т-банк                                middle (3-6 years)                  NaN   \n",
       "                красное & белое, розничная сеть       junior+ (1-3 years)            180000.0   \n",
       "                совкомбанк технологии                 middle (3-6 years)                  NaN   \n",
       "Аналитик данных мтс                                   junior+ (1-3 years)             72000.0   \n",
       "Инженер данных  псб (пао «промсвязьбанк»)             middle (3-6 years)                  NaN   \n",
       "Аналитик данных центральный банк российской федерации junior+ (1-3 years)                 NaN   \n",
       "                марс                                  junior+ (1-3 years)                 NaN   \n",
       "\n",
       "                                                                           median_salary_to  \n",
       "name            employer                              experience                             \n",
       "Аналитик данных сбер                                  junior+ (1-3 years)           85000.0  \n",
       "                                                      middle (3-6 years)                NaN  \n",
       "Инженер данных  сбер                                  middle (3-6 years)           280000.0  \n",
       "                                                      junior+ (1-3 years)          130000.0  \n",
       "                иннотех                               middle (3-6 years)                NaN  \n",
       "                совкомбанк технологии                 junior+ (1-3 years)               NaN  \n",
       "Аналитик данных банк втб (пао)                        junior+ (1-3 years)               NaN  \n",
       "Инженер данных  т-банк                                middle (3-6 years)                NaN  \n",
       "                красное & белое, розничная сеть       junior+ (1-3 years)               NaN  \n",
       "                совкомбанк технологии                 middle (3-6 years)                NaN  \n",
       "Аналитик данных мтс                                   junior+ (1-3 years)               NaN  \n",
       "Инженер данных  псб (пао «промсвязьбанк»)             middle (3-6 years)                NaN  \n",
       "Аналитик данных центральный банк российской федерации junior+ (1-3 years)               NaN  \n",
       "                марс                                  junior+ (1-3 years)               NaN  "
      ]
     },
     "execution_count": 65,
     "metadata": {},
     "output_type": "execute_result"
    }
   ],
   "source": [
    "( # составляем профиль: ставим фильтр\n",
    "    pd.DataFrame(df.loc[(df['employment'] == 'Полная занятость') & (df['schedule'] == 'Полный день')]\n",
    "                 .groupby(['name','employer', 'experience']) # группируем \n",
    "                 .agg(\n",
    "                     count=('employer', 'count'), # считаем количество вакансий\n",
    "                     median_salary_from=('salary_from', 'median'), # считаем медианы\n",
    "                     median_salary_to=('salary_to', 'median')\n",
    "                 )\n",
    "                 .sort_values(by='count', ascending=False) # сортируем \n",
    "                 [:14]) # выводим топ 10\n",
    ")"
   ]
  },
  {
   "cell_type": "markdown",
   "id": "0e6eff8a",
   "metadata": {},
   "source": [
    "Много банков в топ-работодателях, которые редлагают вакансии для джунов с опытом и мидлов. Получается крупный финтех - типичное место работы для опытного специалиста, который ищет развитие. "
   ]
  },
  {
   "cell_type": "markdown",
   "id": "24fcf899",
   "metadata": {},
   "source": [
    "[Вернуться к плану](#plan)"
   ]
  },
  {
   "cell_type": "markdown",
   "id": "28fbf560",
   "metadata": {},
   "source": [
    "<a id='candidate'></a>\n",
    "### Определение наиболее желаемых кандидатов по следующим параметрам(в разрезе грейдов):\n",
    "самые важные hard-skils, самые важные soft-skils."
   ]
  },
  {
   "cell_type": "markdown",
   "id": "dcd6e680",
   "metadata": {},
   "source": [
    "Как будем определять? \n",
    "\n",
    "1. Создадим новые столбцы: с хард и софт навыками из колонки 'key_skills'\n",
    "\n",
    "Алгоритм:\n",
    "+ создать список мягких навыков, которые будем искать\n",
    "+ создать списко твердых навыков, которые будем искать\n",
    "\n",
    "+ создать функцию, которая вернет найденные навыки (совпадения из нашего листа и колонки 'key_skills')\n",
    "+ почистить данные\n",
    "+ применить функцию\n",
    "\n",
    "2. Посчитать на сколько удалось обогатить данные\n",
    "3. Проанализировать желаемых кандидатов по самым важным hard-skils и soft-skils.\n",
    "4. Сделать выводы"
   ]
  },
  {
   "cell_type": "code",
   "execution_count": 66,
   "id": "99ce66b6",
   "metadata": {},
   "outputs": [],
   "source": [
    "# создаем большой список мягких навыков\n",
    "soft_skills = [\n",
    "    'Документация', 'Коммуникация', 'Аналитическое мышление', 'Переговоры', 'Работа в команде', 'Проблемное мышление', \n",
    "    'Критическое мышление', 'Тайм-менеджмент', 'Гибкость', 'Решение проблем', 'Самоорганизация', \n",
    "    'Мотивация', 'Конфликтология', 'Презентационные навыки', 'Организация', 'Принятие решений', \n",
    "    'Понимание бизнеса', 'Стратегическое мышление', 'Креативность', 'Адаптивность', \n",
    "    'Эмоциональный интеллект', 'Гибкость', 'Честность и этика', 'Проактивность', \n",
    "    'Способность к обучению', 'Работа с большим объемом данных', 'Чёткая коммуникация результатов', \n",
    "    'Объяснение сложных концепций', 'Коучинг', 'Эффективное планирование'\n",
    "]"
   ]
  },
  {
   "cell_type": "code",
   "execution_count": 67,
   "id": "9a89b21d",
   "metadata": {},
   "outputs": [],
   "source": [
    "# создаем большой список твердых навыков\n",
    "hard_skills = [\n",
    "    'SQL', 'Python', 'Pandas', 'confluence', 'Юнит-экономика', 'Google Sheets', 'R', 'Excel (продвинутый)', 'Power BI', 'Tableau', 'Hadoop', \n",
    "    'Spark', 'Clickhouse', 'Git', 'Docker', 'Kubernetes', 'AWS', 'Google Cloud Platform', \n",
    "    'Machine Learning', 'Deep Learning', 'Data Analysis', 'Data Visualization', \n",
    "    'Apache Kafka', 'ETL-процессы', 'Data Warehousing', 'Big Data', 'NoSQL', 'MongoDB', \n",
    "    'Data Pipeline', 'Apache Airflow', 'SAS', 'ETL-инструменты', 'Predictive Modeling', \n",
    "    'Data Cleansing', 'Model Deployment'\n",
    "]"
   ]
  },
  {
   "cell_type": "code",
   "execution_count": 68,
   "id": "ce065932",
   "metadata": {},
   "outputs": [],
   "source": [
    "# заменяем пустые строки столбца key_skills на NaN\n",
    "df.loc[df['key_skills'] == '[]', 'key_skills'] = np.nan"
   ]
  },
  {
   "cell_type": "code",
   "execution_count": 69,
   "id": "3ae5fd21",
   "metadata": {},
   "outputs": [],
   "source": [
    "# функция примет список-кальку и список для сравнения\n",
    "# и вернет список совпадений\n",
    "def extract_skills(skill_list, skill_set):\n",
    "    \"\"\"\n",
    "    Принимает список-шаблон и список для проверки на совпадения\n",
    "    Возвращает список совпадений.\n",
    "    \"\"\"\n",
    "    return ', '.join([skill for skill in skill_list if skill in set(skill_set)]) if skill_list else ''"
   ]
  },
  {
   "cell_type": "code",
   "execution_count": 70,
   "id": "50811638",
   "metadata": {},
   "outputs": [
    {
     "name": "stdout",
     "output_type": "stream",
     "text": [
      "Все тесты пройдены!\n"
     ]
    }
   ],
   "source": [
    "def test_extract_skills():\n",
    "    \"\"\"Простые тесты для проверки функции extract_skills.\"\"\"\n",
    "    # 1. Навыки совпадают\n",
    "    skill_list = ['SQL', 'Python', 'Коммуникация']\n",
    "    skill_set = {'SQL', 'Python', 'R'}\n",
    "    assert extract_skills(skill_list, skill_set) == 'SQL, Python', \"Тест 1 не пройден\"\n",
    "\n",
    "    # 2. Нет совпадений\n",
    "    skill_list = ['Java', 'C++']\n",
    "    skill_set = {'SQL', 'Python', 'R'}\n",
    "    assert extract_skills(skill_list, skill_set) == '', \"Тест 2 не пройден\"\n",
    "\n",
    "    # 3. Пустой список навыков\n",
    "    skill_list = []\n",
    "    skill_set = {'SQL', 'Python', 'R'}\n",
    "    assert extract_skills(skill_list, skill_set) == '', \"Тест 3 не пройден\"\n",
    "\n",
    "    # 4. Пустой набор навыков\n",
    "    skill_list = ['SQL', 'Python']\n",
    "    skill_set = set()\n",
    "    assert extract_skills(skill_list, skill_set) == '', \"Тест 4 не пройден\"\n",
    "\n",
    "    # 5. Дубли в списке навыков\n",
    "    skill_list = ['SQL', 'Python', 'SQL']\n",
    "    skill_set = {'SQL', 'Python', 'R'}\n",
    "    assert extract_skills(skill_list, skill_set) == 'SQL, Python, SQL', \"Тест 5 не пройден\"\n",
    "\n",
    "    print(\"Все тесты пройдены!\")\n",
    "\n",
    "# Запуск тестов\n",
    "test_extract_skills()"
   ]
  },
  {
   "cell_type": "code",
   "execution_count": 71,
   "id": "fea0e74b",
   "metadata": {},
   "outputs": [],
   "source": [
    "# подготавливаем навыки: переводим строки в списки\n",
    "df['key_skills_cleaned'] = df['key_skills'].apply(lambda x: eval(x) if pd.notna(x) else 'no data')"
   ]
  },
  {
   "cell_type": "code",
   "execution_count": 72,
   "id": "52cdec6d",
   "metadata": {},
   "outputs": [],
   "source": [
    "# применяем функции: получаем новые столбцы с мягкими и твердыми навыками\n",
    "df['hard_skills_from_key_skills'] = df['key_skills_cleaned'].apply(lambda x: extract_skills(x, hard_skills))\n",
    "df['soft_skills_from_key_skills'] = df['key_skills_cleaned'].apply(lambda x: extract_skills(x, soft_skills))"
   ]
  },
  {
   "cell_type": "markdown",
   "id": "1ffb426b",
   "metadata": {},
   "source": [
    "Выполним сравнение колонок с хард и софт навыками из оригинального датасета и колонок, которые мы сгенерировали"
   ]
  },
  {
   "cell_type": "code",
   "execution_count": 73,
   "id": "32562252",
   "metadata": {},
   "outputs": [
    {
     "name": "stdout",
     "output_type": "stream",
     "text": [
      "Количество пропусков в колонке с твердыми навыками в оригинальном датасете = 2361\n",
      "Количество пропусков в колонке с твердыми навыками в обогащенном датасете = 1388\n",
      "Данные обогащены на 41.2%\n"
     ]
    }
   ],
   "source": [
    "# хард навыки из оригинального датасета\n",
    "hs_original = df[['hard_skills_from_description']]\n",
    "hs_original['hard_skills_from_description'] = hs_original['hard_skills_from_description'].str.split(', ')\n",
    "hs_original_exploded = hs_original.explode('hard_skills_from_description')\n",
    "# hs_original_exploded.value_counts(dropna=False)\n",
    "hs_original_exploded = pd.DataFrame(hs_original_exploded.value_counts(dropna=False).reset_index())\n",
    "hs_orig_count_na = hs_original_exploded[hs_original_exploded['hard_skills_from_description'].isna()]['count']\n",
    "print(f'Количество пропусков в колонке с твердыми навыками в оригинальном датасете = {hs_orig_count_na[0]}')\n",
    "\n",
    "# обогащенные хард навыки\n",
    "hs_enriched = df[['hard_skills_from_key_skills']]\n",
    "hs_enriched['hard_skills_from_key_skills'] = hs_enriched['hard_skills_from_key_skills'].str.split(', ')\n",
    "hs_enriched_exploded = hs_enriched.explode('hard_skills_from_key_skills')\n",
    "hs_enriched_exploded[hs_enriched_exploded['hard_skills_from_key_skills'] == ''] = np.nan\n",
    "# hs_enriched_exploded.value_counts(dropna=False)\n",
    "hs_enriched_exploded = pd.DataFrame(hs_enriched_exploded.value_counts(dropna=False).reset_index())\n",
    "\n",
    "# количество пропусков \n",
    "hs_enriched_count_na = hs_enriched_exploded[hs_enriched_exploded['hard_skills_from_key_skills'].isna()]['count']\n",
    "print(f'Количество пропусков в колонке с твердыми навыками в обогащенном датасете = {hs_enriched_count_na[0]}')\n",
    "\n",
    "percent_enriched = round(((hs_orig_count_na[0] - hs_enriched_count_na[0]) / hs_orig_count_na[0]) * 100,1)\n",
    "\n",
    "print(f'Данные обогащены на {percent_enriched}%')"
   ]
  },
  {
   "cell_type": "markdown",
   "id": "e0ecac0f",
   "metadata": {},
   "source": [
    "Мы обогатили твердые навыки: добавилось много навыков для анализа, уменьшилось количество пропусков на 41%"
   ]
  },
  {
   "cell_type": "code",
   "execution_count": 74,
   "id": "5fd4b351",
   "metadata": {},
   "outputs": [
    {
     "name": "stdout",
     "output_type": "stream",
     "text": [
      "Количество пропусков в колонке с мягкими навыками в оригинальном датасете = 1393\n",
      "Количество пропусков в колонке с мягкими навыками в обогащенном датасете = 1213\n",
      "Данные обогащены на 12.9%\n"
     ]
    }
   ],
   "source": [
    "# софт навыки из оригинального датасета\n",
    "ss_original = df[['soft_skills_from_description']]\n",
    "ss_original['soft_skills_from_description'] = ss_original['soft_skills_from_description'].str.split(', ')\n",
    "ss_original_exploded = ss_original.explode('soft_skills_from_description')\n",
    "# hs_original_exploded.value_counts(dropna=False)\n",
    "ss_original_exploded = pd.DataFrame(ss_original_exploded.value_counts(dropna=False).reset_index())\n",
    "ss_orig_count_na = ss_original_exploded[ss_original_exploded['soft_skills_from_description'].isna()]['count']\n",
    "print(f'Количество пропусков в колонке с мягкими навыками в оригинальном датасете = {ss_orig_count_na[1]}')\n",
    "\n",
    "\n",
    "ss_enriched = df[['soft_skills_from_key_skills']]\n",
    "ss_enriched['soft_skills_from_key_skills'] = ss_enriched['soft_skills_from_key_skills'].str.split(', ')\n",
    "ss_enriched_exploded = ss_enriched.explode('soft_skills_from_key_skills')\n",
    "ss_enriched_exploded[ss_enriched_exploded['soft_skills_from_key_skills'] == ''] = np.nan\n",
    "# hs_enriched_exploded.value_counts(dropna=False)\n",
    "ss_enriched_exploded = pd.DataFrame(ss_enriched_exploded.value_counts(dropna=False).reset_index())\n",
    "\n",
    "# количество пропусков \n",
    "ss_enriched_count_na = ss_enriched_exploded[ss_enriched_exploded['soft_skills_from_key_skills'].isna()]['count']\n",
    "print(f'Количество пропусков в колонке с мягкими навыками в обогащенном датасете = {ss_enriched_count_na[1]}')\n",
    "\n",
    "\n",
    "percent_enriched = round(((ss_orig_count_na[1] - ss_enriched_count_na[1]) / ss_orig_count_na[1]) * 100,1)\n",
    "\n",
    "print(f'Данные обогащены на {percent_enriched}%')"
   ]
  },
  {
   "cell_type": "markdown",
   "id": "cde667f1",
   "metadata": {},
   "source": [
    "Мы обогатили мягкие навыки: добавилось много навыков для анализа, уменьшилось количество пропусков на 12%"
   ]
  },
  {
   "cell_type": "markdown",
   "id": "539e42d9",
   "metadata": {},
   "source": [
    "Самые важные навыки - это самые часто встречаемые. Будем смотреть топ - 5 навыков: хард и софт в разрезе грейда из колонки, которую мы только что создали \"hard_skills_from_key_skills\""
   ]
  },
  {
   "cell_type": "code",
   "execution_count": 75,
   "id": "0d4d40ce",
   "metadata": {},
   "outputs": [
    {
     "data": {
      "text/html": [
       "<div>\n",
       "<style scoped>\n",
       "    .dataframe tbody tr th:only-of-type {\n",
       "        vertical-align: middle;\n",
       "    }\n",
       "\n",
       "    .dataframe tbody tr th {\n",
       "        vertical-align: top;\n",
       "    }\n",
       "\n",
       "    .dataframe thead th {\n",
       "        text-align: right;\n",
       "    }\n",
       "</style>\n",
       "<table border=\"1\" class=\"dataframe\">\n",
       "  <thead>\n",
       "    <tr style=\"text-align: right;\">\n",
       "      <th></th>\n",
       "      <th>hard_skills_from_key_skills</th>\n",
       "      <th>count_hard</th>\n",
       "      <th>soft_skills_from_key_skills</th>\n",
       "      <th>count_soft</th>\n",
       "    </tr>\n",
       "  </thead>\n",
       "  <tbody>\n",
       "    <tr>\n",
       "      <th>0</th>\n",
       "      <td>SQL</td>\n",
       "      <td>600</td>\n",
       "      <td>Аналитическое мышление</td>\n",
       "      <td>300</td>\n",
       "    </tr>\n",
       "    <tr>\n",
       "      <th>1</th>\n",
       "      <td>Python</td>\n",
       "      <td>451</td>\n",
       "      <td>Документация</td>\n",
       "      <td>207</td>\n",
       "    </tr>\n",
       "    <tr>\n",
       "      <th>2</th>\n",
       "      <td>Pandas</td>\n",
       "      <td>230</td>\n",
       "      <td>Коммуникация</td>\n",
       "      <td>141</td>\n",
       "    </tr>\n",
       "    <tr>\n",
       "      <th>3</th>\n",
       "      <td>Power BI</td>\n",
       "      <td>183</td>\n",
       "      <td>Проактивность</td>\n",
       "      <td>40</td>\n",
       "    </tr>\n",
       "    <tr>\n",
       "      <th>4</th>\n",
       "      <td>Data Analysis</td>\n",
       "      <td>109</td>\n",
       "      <td>Работа в команде</td>\n",
       "      <td>23</td>\n",
       "    </tr>\n",
       "    <tr>\n",
       "      <th>5</th>\n",
       "      <td>confluence</td>\n",
       "      <td>77</td>\n",
       "      <td>Креативность</td>\n",
       "      <td>10</td>\n",
       "    </tr>\n",
       "    <tr>\n",
       "      <th>6</th>\n",
       "      <td>Tableau</td>\n",
       "      <td>76</td>\n",
       "      <td>Критическое мышление</td>\n",
       "      <td>9</td>\n",
       "    </tr>\n",
       "    <tr>\n",
       "      <th>7</th>\n",
       "      <td>Big Data</td>\n",
       "      <td>49</td>\n",
       "      <td>Переговоры</td>\n",
       "      <td>7</td>\n",
       "    </tr>\n",
       "    <tr>\n",
       "      <th>8</th>\n",
       "      <td>Hadoop</td>\n",
       "      <td>26</td>\n",
       "      <td>Решение проблем</td>\n",
       "      <td>5</td>\n",
       "    </tr>\n",
       "    <tr>\n",
       "      <th>9</th>\n",
       "      <td>Юнит-экономика</td>\n",
       "      <td>25</td>\n",
       "      <td>Принятие решений</td>\n",
       "      <td>4</td>\n",
       "    </tr>\n",
       "  </tbody>\n",
       "</table>\n",
       "</div>"
      ],
      "text/plain": [
       "  hard_skills_from_key_skills  count_hard soft_skills_from_key_skills  \\\n",
       "0                         SQL         600      Аналитическое мышление   \n",
       "1                      Python         451                Документация   \n",
       "2                      Pandas         230                Коммуникация   \n",
       "3                    Power BI         183               Проактивность   \n",
       "4               Data Analysis         109            Работа в команде   \n",
       "5                  confluence          77                Креативность   \n",
       "6                     Tableau          76        Критическое мышление   \n",
       "7                    Big Data          49                  Переговоры   \n",
       "8                      Hadoop          26             Решение проблем   \n",
       "9              Юнит-экономика          25            Принятие решений   \n",
       "\n",
       "   count_soft  \n",
       "0         300  \n",
       "1         207  \n",
       "2         141  \n",
       "3          40  \n",
       "4          23  \n",
       "5          10  \n",
       "6           9  \n",
       "7           7  \n",
       "8           5  \n",
       "9           4  "
      ]
     },
     "execution_count": 75,
     "metadata": {},
     "output_type": "execute_result"
    }
   ],
   "source": [
    "# применим функцию get_top_skills и выделим топ-10 частых твердых навыков для аналитиков\n",
    "da_top10_hard_skills = get_top_skills(df, 'Аналитик данных', 'hard_skills_from_key_skills', top_n=10)\n",
    "# применим функцию get_top_skills и выделим топ-10 частых мягких навыков для аналитиков\n",
    "da_top10_soft_skills = get_top_skills(df, 'Аналитик данных', 'soft_skills_from_key_skills', top_n=10)\n",
    "# смерджим две эти таблицы и получим топ-10 мягких и твердых навыков для аналитиков\n",
    "top_10_skills_for_da = da_top10_hard_skills.join(da_top10_soft_skills, lsuffix='_hard', rsuffix='_soft')\n",
    "# выведем результат\n",
    "top_10_skills_for_da"
   ]
  },
  {
   "cell_type": "code",
   "execution_count": 76,
   "id": "814d4618",
   "metadata": {},
   "outputs": [
    {
     "data": {
      "text/html": [
       "<div>\n",
       "<style scoped>\n",
       "    .dataframe tbody tr th:only-of-type {\n",
       "        vertical-align: middle;\n",
       "    }\n",
       "\n",
       "    .dataframe tbody tr th {\n",
       "        vertical-align: top;\n",
       "    }\n",
       "\n",
       "    .dataframe thead th {\n",
       "        text-align: right;\n",
       "    }\n",
       "</style>\n",
       "<table border=\"1\" class=\"dataframe\">\n",
       "  <thead>\n",
       "    <tr style=\"text-align: right;\">\n",
       "      <th></th>\n",
       "      <th>hard_skills_from_key_skills</th>\n",
       "      <th>count_hard</th>\n",
       "      <th>soft_skills_from_key_skills</th>\n",
       "      <th>count_soft</th>\n",
       "    </tr>\n",
       "  </thead>\n",
       "  <tbody>\n",
       "    <tr>\n",
       "      <th>0</th>\n",
       "      <td>SQL</td>\n",
       "      <td>639</td>\n",
       "      <td>Документация</td>\n",
       "      <td>1229.0</td>\n",
       "    </tr>\n",
       "    <tr>\n",
       "      <th>1</th>\n",
       "      <td>confluence</td>\n",
       "      <td>519</td>\n",
       "      <td>Аналитическое мышление</td>\n",
       "      <td>290.0</td>\n",
       "    </tr>\n",
       "    <tr>\n",
       "      <th>2</th>\n",
       "      <td>Python</td>\n",
       "      <td>47</td>\n",
       "      <td>Коммуникация</td>\n",
       "      <td>274.0</td>\n",
       "    </tr>\n",
       "    <tr>\n",
       "      <th>3</th>\n",
       "      <td>Apache Kafka</td>\n",
       "      <td>31</td>\n",
       "      <td>Проактивность</td>\n",
       "      <td>50.0</td>\n",
       "    </tr>\n",
       "    <tr>\n",
       "      <th>4</th>\n",
       "      <td>Git</td>\n",
       "      <td>28</td>\n",
       "      <td>Переговоры</td>\n",
       "      <td>38.0</td>\n",
       "    </tr>\n",
       "    <tr>\n",
       "      <th>5</th>\n",
       "      <td>Юнит-экономика</td>\n",
       "      <td>20</td>\n",
       "      <td>Работа в команде</td>\n",
       "      <td>26.0</td>\n",
       "    </tr>\n",
       "    <tr>\n",
       "      <th>6</th>\n",
       "      <td>Hadoop</td>\n",
       "      <td>12</td>\n",
       "      <td>Креативность</td>\n",
       "      <td>10.0</td>\n",
       "    </tr>\n",
       "    <tr>\n",
       "      <th>7</th>\n",
       "      <td>NoSQL</td>\n",
       "      <td>11</td>\n",
       "      <td>Тайм-менеджмент</td>\n",
       "      <td>2.0</td>\n",
       "    </tr>\n",
       "    <tr>\n",
       "      <th>8</th>\n",
       "      <td>Power BI</td>\n",
       "      <td>8</td>\n",
       "      <td>Стратегическое мышление</td>\n",
       "      <td>1.0</td>\n",
       "    </tr>\n",
       "    <tr>\n",
       "      <th>9</th>\n",
       "      <td>MongoDB</td>\n",
       "      <td>6</td>\n",
       "      <td>NaN</td>\n",
       "      <td>NaN</td>\n",
       "    </tr>\n",
       "  </tbody>\n",
       "</table>\n",
       "</div>"
      ],
      "text/plain": [
       "  hard_skills_from_key_skills  count_hard soft_skills_from_key_skills  \\\n",
       "0                         SQL         639                Документация   \n",
       "1                  confluence         519      Аналитическое мышление   \n",
       "2                      Python          47                Коммуникация   \n",
       "3                Apache Kafka          31               Проактивность   \n",
       "4                         Git          28                  Переговоры   \n",
       "5              Юнит-экономика          20            Работа в команде   \n",
       "6                      Hadoop          12                Креативность   \n",
       "7                       NoSQL          11             Тайм-менеджмент   \n",
       "8                    Power BI           8     Стратегическое мышление   \n",
       "9                     MongoDB           6                         NaN   \n",
       "\n",
       "   count_soft  \n",
       "0      1229.0  \n",
       "1       290.0  \n",
       "2       274.0  \n",
       "3        50.0  \n",
       "4        38.0  \n",
       "5        26.0  \n",
       "6        10.0  \n",
       "7         2.0  \n",
       "8         1.0  \n",
       "9         NaN  "
      ]
     },
     "execution_count": 76,
     "metadata": {},
     "output_type": "execute_result"
    }
   ],
   "source": [
    "# применим функцию get_top_skills и выделим топ-10 частых твердых навыков для инженеров\n",
    "sa_top10_hard_skills = get_top_skills(df, 'Инженер данных', 'hard_skills_from_key_skills', top_n=10)\n",
    "# применим функцию get_top_skills и выделим топ-10 частых мягких навыков для инженеров\n",
    "sa_top10_soft_skills = get_top_skills(df, 'Инженер данных', 'soft_skills_from_key_skills', top_n=10)\n",
    "# смерджим две эти таблицы и получим топ-10 мягких и твердых навыков для инженеров\n",
    "top_10_skills_for_sa = sa_top10_hard_skills.join(sa_top10_soft_skills, lsuffix='_hard', rsuffix='_soft')\n",
    "# выведем результат\n",
    "top_10_skills_for_sa"
   ]
  },
  {
   "cell_type": "markdown",
   "id": "eb2867e8",
   "metadata": {},
   "source": [
    "Итак, для обеих профессий соискателям очень важно обладать мягкими навыками перговоров и коммуникации. Большая часть работы аналитика или инженера построена на обсуждении проблем, коммуникации, поиске решений в ходе обсуждения. Это очень важно - уметь выражать свои мысли и здорово коммуницировать\n",
    "\n",
    "Твердные навыки тоже важны. Для аналитиков важно уметь работать с данными - SQL, Python, pandas, Power BI и другие инструменты обработки данных\n",
    "\n",
    "Для инженеров в списке твердых навыков - SQL, Python, Hadoop, Kafka, Confluence. То есть инженерам больше нужно построить пайплайн того, как данные буду двигаться, записываться, обрабатываться и выноситься в витрины. "
   ]
  },
  {
   "cell_type": "markdown",
   "id": "63951256",
   "metadata": {},
   "source": [
    "[Вернуться к плану](#plan)\n"
   ]
  },
  {
   "cell_type": "markdown",
   "id": "cc8c3890",
   "metadata": {},
   "source": [
    "<a id='conclusion'></a>\n",
    "\n",
    "## Выводы и рекомендации\n",
    "\n",
    "Контект данных:\n",
    "\n",
    "+ Исследуемый период: почти 5 месяцев (с 13 февраля по 9 июля)\n",
    "+ Общее количество вакансий для **Аналитиков** : 1377 \n",
    "+ Общее количество вакансий для **Инженеров** : 1827 \n",
    "\n",
    "### Выводы\n",
    "\n",
    "#### Популярные навыки для аналитиков данных и инженеров данных:\n",
    "- **Аналитики данных**:\n",
    "  - Hard Skills: **SQL** и **Python** — самые востребованные навыки, с дополнительным использованием **Pandas**, **Power BI**, **Tableau**.\n",
    "  - Soft Skills: **аналитическое мышление**, **работа с документацией**, **коммуникация**.\n",
    "\n",
    "- **Инженеры данных**:\n",
    "  - Hard Skills: **SQL** — ключевой навык, а также **Confluence**, **Apache Kafka**, **Git**.\n",
    "  - Soft Skills: **документация**, **коммуникация**, **аналитическое мышление**.\n",
    "\n",
    "---\n",
    "\n",
    "#### Разброс зарплат:\n",
    "- **Джуниоры**:\n",
    "  - Диапазон зарплат: от **30 000 до 130 000 рублей**, что свидетельствует о высоком уровне вариативности.\n",
    "- **Сеньоры**:\n",
    "  - Максимальные зарплаты: **500 000 рублей** (аналитики) и **450 000 рублей** (инженеры).\n",
    "  - Рост зарплат стабилизируется на старших позициях, независимо от региона.\n",
    "\n",
    "---\n",
    "\n",
    "#### Формат работы и тип занятости:\n",
    "- **Полная занятость и полный день** — доминирующий формат работы.\n",
    "\n",
    "---\n",
    "\n",
    "#### Географическое распределение:\n",
    "- **Москва** и **Санкт-Петербург** лидируют по количеству вакансий.\n",
    "- В регионах вакансий значительно меньше, что ограничивает трудоустройство специалистов вне крупных городов.\n",
    "\n",
    "---\n",
    "\n",
    "### Рекомендации\n",
    "\n",
    "#### Соискателям:\n",
    "- **Джуниорам**:\n",
    "  - Сосредоточиться на изучении базовых hard skills (**SQL**, **Python**, **Confluence**) и развитии soft skills (например, **документации**, **коммуникации**).\n",
    "  - Рассмотреть возможность переезда в Москву или Санкт-Петербург для увеличения шансов на трудоустройство, либо пытаться искать вакансии с возможностью удаленной работы\n",
    "\n",
    "- **Миддлам и сеньорам**:\n",
    "  - Искать проекты, где опыт и экспертиза высоко ценятся.\n",
    "  - Рассмотреть работу в международных компаниях или удаленный формат для повышения зарплатных ожиданий.\n",
    "\n",
    "---\n",
    "\n",
    "#### Работодателям:\n",
    "- Увеличить количество вакансий с удаленным форматом или частичной занятостью для привлечения специалистов из регионов.\n",
    "- Повысить уровень зарплат в регионах, чтобы конкурировать за квалифицированных специалистов.\n",
    "\n",
    "---\n",
    "\n",
    "#### Разработчикам образовательных программ:\n",
    "- Упор в обучении сделать на hard skills (**SQL**, **Python**, **Confluence**) и инструменты визуализации.\n",
    "- Включить практические задания по развитию навыков документации, командной работы и коммуникации.\n",
    "\n",
    "---\n",
    "\n",
    "#### Исследователям рынка труда:\n",
    "- Оценить причины стагнации зарплат для сеньоров и предложить пути стимулирования их роста.\n",
    "- Исследовать региональные особенности рынка труда для расширения предложений за пределами крупных городов.\n",
    "\n",
    "---"
   ]
  },
  {
   "cell_type": "markdown",
   "id": "d2881228",
   "metadata": {},
   "source": [
    "[Вернуться к плану](#plan)\n"
   ]
  }
 ],
 "metadata": {
  "kernelspec": {
   "display_name": "Python 3 (ipykernel)",
   "language": "python",
   "name": "python3"
  },
  "language_info": {
   "codemirror_mode": {
    "name": "ipython",
    "version": 3
   },
   "file_extension": ".py",
   "mimetype": "text/x-python",
   "name": "python",
   "nbconvert_exporter": "python",
   "pygments_lexer": "ipython3",
   "version": "3.11.5"
  },
  "toc": {
   "base_numbering": 1,
   "nav_menu": {},
   "number_sections": true,
   "sideBar": true,
   "skip_h1_title": true,
   "title_cell": "Содержание",
   "title_sidebar": "Содержание",
   "toc_cell": true,
   "toc_position": {
    "height": "calc(100% - 180px)",
    "left": "10px",
    "top": "150px",
    "width": "288px"
   },
   "toc_section_display": true,
   "toc_window_display": false
  }
 },
 "nbformat": 4,
 "nbformat_minor": 5
}
